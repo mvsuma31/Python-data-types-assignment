{
 "cells": [
  {
   "cell_type": "markdown",
   "id": "dc4eed46-f372-44f7-9ab4-4cde3dc7e481",
   "metadata": {},
   "source": [
    "TOPIC: String Based Assignment Problem"
   ]
  },
  {
   "cell_type": "markdown",
   "id": "b98cc0f1-cd08-4053-8771-edca2028cfaf",
   "metadata": {},
   "source": [
    "1. Write a program to reverse a string."
   ]
  },
  {
   "cell_type": "code",
   "execution_count": 5,
   "id": "448cff8b-68f7-4fe6-99a0-9c57e6c37549",
   "metadata": {},
   "outputs": [
    {
     "name": "stdout",
     "output_type": "stream",
     "text": [
      "amus\n"
     ]
    }
   ],
   "source": [
    "st='suma'\n",
    "reverse_str= st[::-1]\n",
    "print(reverse_str)"
   ]
  },
  {
   "cell_type": "code",
   "execution_count": 23,
   "id": "654e8946-77d5-42e3-bbac-5ee17bcec27f",
   "metadata": {},
   "outputs": [
    {
     "name": "stdout",
     "output_type": "stream",
     "text": [
      "amus\n"
     ]
    }
   ],
   "source": [
    "st='suma'\n",
    "reverse_str= ''\n",
    "for chr in st:\n",
    "    #print(chr)\n",
    "    reverse_str=chr+reverse_str\n",
    "    #print(reverse_str)\n",
    "print(reverse_str)"
   ]
  },
  {
   "cell_type": "markdown",
   "id": "56484244-5431-427c-b358-1ab72e073596",
   "metadata": {},
   "source": [
    "2. Check if a string is a palindrome."
   ]
  },
  {
   "cell_type": "code",
   "execution_count": 59,
   "id": "535a918d-af2b-4f04-a371-0321a28f4004",
   "metadata": {},
   "outputs": [
    {
     "name": "stdin",
     "output_type": "stream",
     "text": [
      "enter palindrome str: sus\n"
     ]
    },
    {
     "name": "stdout",
     "output_type": "stream",
     "text": [
      "True\n"
     ]
    }
   ],
   "source": [
    "st=input('enter palindrome str:')\n",
    "st=''.join(e for e in st if e.isalnum())\n",
    "print(st==st[::-1])    \n",
    "    \n",
    "    "
   ]
  },
  {
   "cell_type": "markdown",
   "id": "b1a6ab08-73c4-47b0-bd96-d7c06ec72f8e",
   "metadata": {},
   "source": [
    "3. Convert a string to uppercase."
   ]
  },
  {
   "cell_type": "code",
   "execution_count": 63,
   "id": "a4b70380-6631-46f1-b82f-c63649e2158b",
   "metadata": {},
   "outputs": [
    {
     "name": "stdin",
     "output_type": "stream",
     "text": [
      "enter the string: sumakasi\n"
     ]
    },
    {
     "name": "stdout",
     "output_type": "stream",
     "text": [
      "uppercase_string: SUMAKASI\n"
     ]
    }
   ],
   "source": [
    "str=input('enter the string:')\n",
    "s=str.upper()\n",
    "print('uppercase_string:', s)"
   ]
  },
  {
   "cell_type": "markdown",
   "id": "a697b443-b64d-47b3-824d-ff7e7ec62200",
   "metadata": {},
   "source": [
    "4. Convert a string to lowercase."
   ]
  },
  {
   "cell_type": "code",
   "execution_count": 66,
   "id": "8a327dad-5272-4c50-8bfc-88efaf18da0d",
   "metadata": {},
   "outputs": [
    {
     "name": "stdin",
     "output_type": "stream",
     "text": [
      "enter the string: SUMAKASI\n"
     ]
    },
    {
     "name": "stdout",
     "output_type": "stream",
     "text": [
      "lowercase_string: sumakasi\n"
     ]
    }
   ],
   "source": [
    "str=input('enter the string:')\n",
    "s=str.lower()\n",
    "print('lowercase_string:', s)"
   ]
  },
  {
   "cell_type": "markdown",
   "id": "193ffbb0-2e93-4a16-9a7d-a01e3601ac76",
   "metadata": {},
   "source": [
    "5. Count the number of vowels in a string."
   ]
  },
  {
   "cell_type": "code",
   "execution_count": 81,
   "id": "218086c1-d1d6-479b-8c20-ed0ce57238c0",
   "metadata": {},
   "outputs": [
    {
     "name": "stdout",
     "output_type": "stream",
     "text": [
      "6\n"
     ]
    }
   ],
   "source": [
    "str='suma is good girl'\n",
    "vowels='aeiou'\n",
    "cnt=0\n",
    "for chr in str:\n",
    "    if chr in vowels:\n",
    "        cnt+=1\n",
    "print(cnt)"
   ]
  },
  {
   "cell_type": "markdown",
   "id": "c6a49e0d-c15e-47e2-b3a5-779ec84ad336",
   "metadata": {},
   "source": [
    "6. Count the number of consonants in a string."
   ]
  },
  {
   "cell_type": "code",
   "execution_count": 84,
   "id": "455262f8-d951-4fa3-bc4a-2da277cd0e96",
   "metadata": {},
   "outputs": [
    {
     "name": "stdout",
     "output_type": "stream",
     "text": [
      "11\n"
     ]
    }
   ],
   "source": [
    "str='suma is good girl'\n",
    "vowels='aeiou'\n",
    "cnt=0\n",
    "for chr in str:\n",
    "    if chr not in vowels:\n",
    "        cnt+=1\n",
    "print(cnt)"
   ]
  },
  {
   "cell_type": "markdown",
   "id": "c49013f2-f683-4624-b41e-d88d7f8300e1",
   "metadata": {},
   "source": [
    "7. Remove all whitespaces from a string."
   ]
  },
  {
   "cell_type": "code",
   "execution_count": 103,
   "id": "ebc13ef3-bd72-4060-82f9-1a626373bb84",
   "metadata": {},
   "outputs": [
    {
     "name": "stdout",
     "output_type": "stream",
     "text": [
      "sumaisgoodgirl\n"
     ]
    }
   ],
   "source": [
    "str='suma is good girl'\n",
    "replace=''\n",
    "for chr in str:\n",
    "    if chr!=' ':\n",
    "       replace+=chr\n",
    "print(replace)"
   ]
  },
  {
   "cell_type": "markdown",
   "id": "bd44e0d7-542a-464a-b501-2504b6b8d508",
   "metadata": {},
   "source": [
    "8. Find the length of a string without using the `len()` function."
   ]
  },
  {
   "cell_type": "code",
   "execution_count": 110,
   "id": "a0eb1d46-ee44-41ae-8aa6-162d07a32cf0",
   "metadata": {},
   "outputs": [
    {
     "name": "stdout",
     "output_type": "stream",
     "text": [
      "the length of the string is : 17\n"
     ]
    }
   ],
   "source": [
    "str='suma is good girl'\n",
    "cnt=0\n",
    "for chr in str:\n",
    "    cnt+=1\n",
    "print('the length of the string is :' ,cnt)"
   ]
  },
  {
   "cell_type": "markdown",
   "id": "578464e2-908c-4c43-9a72-43a4b9287df2",
   "metadata": {},
   "source": [
    "9. Check if a string contains a specific word."
   ]
  },
  {
   "cell_type": "code",
   "execution_count": 119,
   "id": "edf032ea-8b8d-4ab7-a3dd-9ddb56cf7ade",
   "metadata": {},
   "outputs": [
    {
     "name": "stdin",
     "output_type": "stream",
     "text": [
      "enter the input string: suma good\n",
      "enter specific word: good\n"
     ]
    },
    {
     "name": "stdout",
     "output_type": "stream",
     "text": [
      "input string have spec word \"good\".\n"
     ]
    }
   ],
   "source": [
    "str=input ('enter the input string:')\n",
    "spec_word=input('enter specific word:')\n",
    "if spec_word in str:\n",
    "    print(f'input string have spec word \"{spec_word}\".')\n",
    "else:\n",
    "    print(f'input string doesn\"t have spec word  \"{spec_word}\".')"
   ]
  },
  {
   "cell_type": "markdown",
   "id": "39d2b057-60b5-4eba-86bc-de828d65ee12",
   "metadata": {},
   "source": [
    "10. Replace a word in a string with another word."
   ]
  },
  {
   "cell_type": "code",
   "execution_count": 124,
   "id": "e45c7a6c-c41a-4e6b-a08a-cff5dd297822",
   "metadata": {},
   "outputs": [
    {
     "name": "stdin",
     "output_type": "stream",
     "text": [
      "enter the input string: suma is lazy\n",
      "enter replace word: active\n",
      "enter old word: lazy\n"
     ]
    },
    {
     "name": "stdout",
     "output_type": "stream",
     "text": [
      "suma is active\n"
     ]
    }
   ],
   "source": [
    "str=input ('enter the input string:')\n",
    "replace_word=input('enter replace word:')\n",
    "old_word=input('enter old word:')\n",
    "m=str.replace(old_word,replace_word)\n",
    "print(m)"
   ]
  },
  {
   "cell_type": "markdown",
   "id": "a29a1655-52ae-438b-af78-4a12248748f0",
   "metadata": {},
   "source": [
    "11. Count the occurrences of a word in a string."
   ]
  },
  {
   "cell_type": "code",
   "execution_count": 137,
   "id": "1fac2907-915b-420c-ae68-1cf28d91ea85",
   "metadata": {},
   "outputs": [
    {
     "name": "stdin",
     "output_type": "stream",
     "text": [
      "enter the input string: suma good at data eng, data scien and data analy\n",
      "enter occurence word: data\n"
     ]
    },
    {
     "name": "stdout",
     "output_type": "stream",
     "text": [
      "the input string have 'data' in 3 times\n"
     ]
    }
   ],
   "source": [
    "str=input ('enter the input string:')\n",
    "occur_word=input('enter occurence word:')\n",
    "cnt=0\n",
    "words=str.split()\n",
    "for word in words:\n",
    "    if word==occur_word:\n",
    "        cnt+=1\n",
    "print(f\"the input string have '{occur_word}' in {cnt} times\")"
   ]
  },
  {
   "cell_type": "markdown",
   "id": "d4eadca1-7669-460e-8191-8bf709c3b419",
   "metadata": {},
   "source": [
    "12. Find the first occurrence of a word in a string."
   ]
  },
  {
   "cell_type": "code",
   "execution_count": 142,
   "id": "89d1760d-7ddc-4240-9f53-9d25cd761833",
   "metadata": {},
   "outputs": [
    {
     "name": "stdin",
     "output_type": "stream",
     "text": [
      "enter the input string: suma good at data eng, data scien and data analy\n",
      "enter occurence word: data\n"
     ]
    },
    {
     "name": "stdout",
     "output_type": "stream",
     "text": [
      "First occurence of word is 13\n"
     ]
    }
   ],
   "source": [
    "str=input ('enter the input string:')\n",
    "occur_word=input('enter occurence word:')\n",
    "s=str.find(occur_word)\n",
    "if s==-1:\n",
    "    print('none')\n",
    "else:\n",
    "    print(f'First occurence of word is {s}')\n",
    "          "
   ]
  },
  {
   "cell_type": "markdown",
   "id": "4da46636-498d-41d4-916a-4a5fcfcd149d",
   "metadata": {},
   "source": [
    "13. Find the last occurrence of a word in a string."
   ]
  },
  {
   "cell_type": "code",
   "execution_count": 145,
   "id": "34c65453-df0b-4faf-8f7f-3f2ce3af8c93",
   "metadata": {},
   "outputs": [
    {
     "name": "stdin",
     "output_type": "stream",
     "text": [
      "enter the input string: suma good at data eng, data scien and data analy\n",
      "enter occurence word: data\n"
     ]
    },
    {
     "name": "stdout",
     "output_type": "stream",
     "text": [
      "Last occurence of word is 38\n"
     ]
    }
   ],
   "source": [
    "str=input ('enter the input string:')\n",
    "occur_word=input('enter occurence word:')\n",
    "s=str.rfind(occur_word)\n",
    "if s==-1:\n",
    "    print('none')\n",
    "else:\n",
    "    print(f'Last occurence of word is {s}')"
   ]
  },
  {
   "cell_type": "markdown",
   "id": "6c60836a-32f2-404c-9ef0-1d0a44faf599",
   "metadata": {},
   "source": [
    "14. Split a string into a list of words."
   ]
  },
  {
   "cell_type": "code",
   "execution_count": 150,
   "id": "37d54134-241a-4f16-9e8a-20662c2ac7d4",
   "metadata": {},
   "outputs": [
    {
     "name": "stdin",
     "output_type": "stream",
     "text": [
      "enter the input string: suma good at data eng, data scien and data analy\n"
     ]
    },
    {
     "name": "stdout",
     "output_type": "stream",
     "text": [
      "list of words in a string '['suma', 'good', 'at', 'data', 'eng,', 'data', 'scien', 'and', 'data', 'analy']'\n"
     ]
    }
   ],
   "source": [
    "str=input ('enter the input string:')\n",
    "s=str.split()\n",
    "print(f\"list of words in a string '{s}'\")"
   ]
  },
  {
   "cell_type": "markdown",
   "id": "ed9a7315-28ba-4b4c-a305-e664dfce48ab",
   "metadata": {},
   "source": [
    "15. Join a list of words into a string."
   ]
  },
  {
   "cell_type": "code",
   "execution_count": 157,
   "id": "7df73dc1-71f6-490d-bbf2-ade071adff90",
   "metadata": {},
   "outputs": [
    {
     "name": "stdout",
     "output_type": "stream",
     "text": [
      "List of words into string: suma good at data eng, data scien and data analy\n"
     ]
    }
   ],
   "source": [
    "words=['suma', 'good', 'at', 'data', 'eng,', 'data', 'scien', 'and', 'data', 'analy']\n",
    "w=' '.join(words)\n",
    "print('List of words into string:',w)"
   ]
  },
  {
   "cell_type": "markdown",
   "id": "da5cbb6b-562a-47c5-a6d0-664e891d1367",
   "metadata": {},
   "source": [
    "16. Convert a string where words are separated by spaces to one where words\n",
    "are separated by underscores."
   ]
  },
  {
   "cell_type": "code",
   "execution_count": 165,
   "id": "d2e58cb1-5375-4671-b2f3-7b059b72d443",
   "metadata": {},
   "outputs": [
    {
     "name": "stdin",
     "output_type": "stream",
     "text": [
      "enter the input string: suma good at data eng, data scien and data analy\n"
     ]
    },
    {
     "name": "stdout",
     "output_type": "stream",
     "text": [
      "list of words in a string 'suma_good_at_data_eng__data_scien_and_data_analy'\n"
     ]
    }
   ],
   "source": [
    "str=input ('enter the input string:')\n",
    "s=str.replace(' ','_')\n",
    "s1=s.replace(',','_')\n",
    "print(f\"list of words in a string '{s1}'\")"
   ]
  },
  {
   "cell_type": "markdown",
   "id": "aaaf6e3f-ad60-45b3-84fb-a3ee27944693",
   "metadata": {},
   "source": [
    "17. Check if a string starts with a specific word or phrase."
   ]
  },
  {
   "cell_type": "code",
   "execution_count": 167,
   "id": "e1b399b2-a975-49f5-97d2-00688532236f",
   "metadata": {},
   "outputs": [
    {
     "name": "stdin",
     "output_type": "stream",
     "text": [
      "enter the input string: Hello World!\n",
      "enter occurence word: Hello\n"
     ]
    },
    {
     "name": "stdout",
     "output_type": "stream",
     "text": [
      "string starts with a specific word 'True'\n"
     ]
    }
   ],
   "source": [
    "str=input ('enter the input string:')\n",
    "start_word=input('enter occurence word:')\n",
    "s=str.startswith(start_word)\n",
    "print(f\"string starts with a specific word '{s}'\")"
   ]
  },
  {
   "cell_type": "markdown",
   "id": "4b1799a7-631a-4bcf-a905-36ec020ad976",
   "metadata": {},
   "source": [
    "18. Check if a string ends with a specific word or phrase."
   ]
  },
  {
   "cell_type": "code",
   "execution_count": 180,
   "id": "b4d14944-f022-475e-8cb6-edf6e98d81e3",
   "metadata": {},
   "outputs": [
    {
     "name": "stdin",
     "output_type": "stream",
     "text": [
      "enter the input string: Hello World!\n",
      "enter occurence word: !\n"
     ]
    },
    {
     "name": "stdout",
     "output_type": "stream",
     "text": [
      "string starts with a specific word 'True'\n"
     ]
    }
   ],
   "source": [
    "str=input ('enter the input string:')\n",
    "end_word=input('enter occurence word:')\n",
    "s=str.endswith(end_word)\n",
    "print(f\"string ends with a specific word '{s}'\")"
   ]
  },
  {
   "cell_type": "markdown",
   "id": "f93264ec-f9ab-442b-99a8-9ae0037b7073",
   "metadata": {},
   "source": [
    "19. Convert a string to title case (e.g., \"hello world\" to \"Hello World\")."
   ]
  },
  {
   "cell_type": "code",
   "execution_count": 183,
   "id": "d4c5d9d8-4c89-439c-b008-991a9167a373",
   "metadata": {},
   "outputs": [
    {
     "name": "stdin",
     "output_type": "stream",
     "text": [
      "enter the input string: hello world\n"
     ]
    },
    {
     "name": "stdout",
     "output_type": "stream",
     "text": [
      "string tile with acaps 'Hello World'\n"
     ]
    }
   ],
   "source": [
    "str=input ('enter the input string:')\n",
    "s=str.title()\n",
    "print(f\"string tile with acaps '{s}'\")"
   ]
  },
  {
   "cell_type": "markdown",
   "id": "bb689fdc-dd8a-4cd9-b39c-6d80e116e865",
   "metadata": {},
   "source": [
    "20. Find the longest word in a string."
   ]
  },
  {
   "cell_type": "code",
   "execution_count": 192,
   "id": "9c0741fc-69a6-464d-ae79-9807aec7bd3f",
   "metadata": {},
   "outputs": [
    {
     "name": "stdin",
     "output_type": "stream",
     "text": [
      "enter the input string: suma good at datasciencedataeng\n"
     ]
    },
    {
     "name": "stdout",
     "output_type": "stream",
     "text": [
      "the longest word in string datasciencedataeng\n"
     ]
    }
   ],
   "source": [
    "str=input ('enter the input string:')\n",
    "s=str.split()\n",
    "long_word=''\n",
    "max_len=0\n",
    "for word in s:\n",
    "    if len(word)>max_len:\n",
    "        max_len=len(word)\n",
    "        long_word=word\n",
    "print('the longest word in string',long_word)\n",
    "        "
   ]
  },
  {
   "cell_type": "markdown",
   "id": "4456e0c7-5c5a-458f-b19a-61a8e9f0be2d",
   "metadata": {},
   "source": [
    "21. Find the shortest word in a string."
   ]
  },
  {
   "cell_type": "code",
   "execution_count": 199,
   "id": "80c2a5ab-57de-4b83-9543-a7166902aa72",
   "metadata": {},
   "outputs": [
    {
     "name": "stdin",
     "output_type": "stream",
     "text": [
      "enter the input string: suma is\n"
     ]
    },
    {
     "name": "stdout",
     "output_type": "stream",
     "text": [
      "the longest word in string is\n"
     ]
    }
   ],
   "source": [
    "str=input ('enter the input string:')\n",
    "s=str.split()\n",
    "short_word=''\n",
    "max_len=float('inf')\n",
    "for word in s:\n",
    "    if len(word)<max_len:\n",
    "        max_len=len(word)\n",
    "        short_word=word\n",
    "print('the longest word in string',short_word)"
   ]
  },
  {
   "cell_type": "markdown",
   "id": "870bce55-921a-418d-9cea-81c268ee7f6f",
   "metadata": {},
   "source": [
    "22. Reverse the order of words in a string."
   ]
  },
  {
   "cell_type": "code",
   "execution_count": 202,
   "id": "10310b1e-7db6-47d8-beb1-105617eef23e",
   "metadata": {},
   "outputs": [
    {
     "name": "stdin",
     "output_type": "stream",
     "text": [
      "enter the input string: suma is good girl\n"
     ]
    },
    {
     "name": "stdout",
     "output_type": "stream",
     "text": [
      "['girl', 'good', 'is', 'suma']\n"
     ]
    }
   ],
   "source": [
    "str=input ('enter the input string:')\n",
    "s=str.split()\n",
    "s1=s[::-1]\n",
    "print(s1)\n"
   ]
  },
  {
   "cell_type": "markdown",
   "id": "f6d3bf83-5f7f-47ee-8a4d-00e64d6a5bc8",
   "metadata": {},
   "source": [
    "23. Check if a string is alphanumeric.\n"
   ]
  },
  {
   "cell_type": "code",
   "execution_count": 209,
   "id": "44b075ec-f754-4b79-9dbd-466d30d807e8",
   "metadata": {},
   "outputs": [
    {
     "name": "stdin",
     "output_type": "stream",
     "text": [
      "enter the input string: suma1235\n"
     ]
    },
    {
     "name": "stdout",
     "output_type": "stream",
     "text": [
      "the string has alphanumeric: True\n"
     ]
    }
   ],
   "source": [
    "str =input('enter the input string:')\n",
    "s=str.isalnum()\n",
    "print('the string has alphanumeric:',s)"
   ]
  },
  {
   "cell_type": "markdown",
   "id": "077bd7b7-ac9e-444c-a74f-0c1b953d7388",
   "metadata": {},
   "source": [
    "24. Extract all digits from a string.\n"
   ]
  },
  {
   "cell_type": "code",
   "execution_count": 222,
   "id": "5971b80d-86b0-4b22-95be-3c06090361f9",
   "metadata": {},
   "outputs": [
    {
     "name": "stdin",
     "output_type": "stream",
     "text": [
      "enter the all digits from string: suma12345\n"
     ]
    },
    {
     "name": "stdout",
     "output_type": "stream",
     "text": [
      "all digits in string:\"12345\"\n"
     ]
    }
   ],
   "source": [
    "str=input('enter the all digits from string:')\n",
    "digit=''\n",
    "for char in str:\n",
    "    if char.isdigit():\n",
    "        digit+=char\n",
    "print(f'all digits in string:\"{digit}\"')"
   ]
  },
  {
   "cell_type": "markdown",
   "id": "352c530b-96d5-4074-8211-d3df1c771e9c",
   "metadata": {},
   "source": [
    "25. Extract all alphabets from a string"
   ]
  },
  {
   "cell_type": "code",
   "execution_count": 233,
   "id": "f9d0daac-d8e7-487f-bf66-8229b301ac93",
   "metadata": {},
   "outputs": [
    {
     "name": "stdin",
     "output_type": "stream",
     "text": [
      "enter the alphabets from string: suma123hello\n"
     ]
    },
    {
     "name": "stdout",
     "output_type": "stream",
     "text": [
      "extract all alphabets from string:sumahello\n"
     ]
    }
   ],
   "source": [
    "str=input('enter the alphabets from string:')\n",
    "alpha=''\n",
    "for word in str:\n",
    "    if word.isalpha():\n",
    "        alpha+=word\n",
    "print(f'extract all alphabets from string:{alpha}')"
   ]
  },
  {
   "cell_type": "markdown",
   "id": "17f9aefb-c7d5-4551-8028-c05c744c3523",
   "metadata": {},
   "source": [
    "26. Count the number of uppercase letters in a string.\n"
   ]
  },
  {
   "cell_type": "code",
   "execution_count": 240,
   "id": "6cdbed87-aae2-45a2-a614-70ac152e2af0",
   "metadata": {},
   "outputs": [
    {
     "name": "stdin",
     "output_type": "stream",
     "text": [
      "enter the alphabets from string: sumAAHELLOqa\n"
     ]
    },
    {
     "name": "stdout",
     "output_type": "stream",
     "text": [
      "number of uppercase letters in a string: 7\n"
     ]
    }
   ],
   "source": [
    "str=input('enter the alphabets from string:')\n",
    "uppercase=0\n",
    "for word in str:\n",
    "    if word.isupper():\n",
    "        uppercase+=1\n",
    "print('number of uppercase letters in a string:',uppercase)"
   ]
  },
  {
   "cell_type": "code",
   "execution_count": 242,
   "id": "aafedb04-059a-4f45-a6fd-38ac07eaa865",
   "metadata": {},
   "outputs": [
    {
     "name": "stdin",
     "output_type": "stream",
     "text": [
      "enter the alphabets from string: SUMaaheLLOeef\n"
     ]
    },
    {
     "name": "stdout",
     "output_type": "stream",
     "text": [
      "6\n"
     ]
    }
   ],
   "source": [
    "str=input('enter the alphabets from string:')\n",
    "uppercasecnt= sum(1 for word in str if word.isupper())\n",
    "print(uppercasecnt)"
   ]
  },
  {
   "cell_type": "markdown",
   "id": "ade31932-149d-420a-84e1-cc23a2b75849",
   "metadata": {},
   "source": [
    "27. Count the number of lowercase letters in a string.\n"
   ]
  },
  {
   "cell_type": "code",
   "execution_count": 253,
   "id": "dd64d9b8-269e-4d2b-9301-3d3e6b62ed01",
   "metadata": {},
   "outputs": [
    {
     "name": "stdin",
     "output_type": "stream",
     "text": [
      "enter the alphabets from string: sumaHELLOADFsqeres\n"
     ]
    },
    {
     "name": "stdout",
     "output_type": "stream",
     "text": [
      "10\n"
     ]
    }
   ],
   "source": [
    "str=input('enter the alphabets from string:')\n",
    "locasecnt=sum(1 for word in str if word.islower())\n",
    "print(locasecnt)"
   ]
  },
  {
   "cell_type": "markdown",
   "id": "6a6fcad7-918a-4d25-aa5a-b855236d08d9",
   "metadata": {},
   "source": [
    "28. Swap the case of each character in a string.\n"
   ]
  },
  {
   "cell_type": "code",
   "execution_count": 256,
   "id": "bba99137-8137-4906-b327-1c1ed9f71919",
   "metadata": {},
   "outputs": [
    {
     "name": "stdin",
     "output_type": "stream",
     "text": [
      "enter the alphabets from string: sUMALqsf\n"
     ]
    },
    {
     "name": "stdout",
     "output_type": "stream",
     "text": [
      "swap the string: SumalQSF\n"
     ]
    }
   ],
   "source": [
    "str=input('enter the alphabets from string:')\n",
    "s1=str.swapcase()\n",
    "print('swap the string:' ,s1)"
   ]
  },
  {
   "cell_type": "markdown",
   "id": "83635e82-3f31-4243-a6b0-9069aa725d07",
   "metadata": {},
   "source": [
    "29. Remove a specific word from a string."
   ]
  },
  {
   "cell_type": "code",
   "execution_count": 261,
   "id": "91a7ef45-105b-46db-92cb-5017ee0f4817",
   "metadata": {},
   "outputs": [
    {
     "name": "stdin",
     "output_type": "stream",
     "text": [
      "enter the alphabets from string: Suma WORLD world\n"
     ]
    },
    {
     "name": "stdout",
     "output_type": "stream",
     "text": [
      "Suma world\n"
     ]
    }
   ],
   "source": [
    "str=input('enter the alphabets from string:')\n",
    "specword='WORLD'\n",
    "s=str.split()\n",
    "filtered_word=[ word for word in s if word!=specword]\n",
    "final_str=' '.join(filtered_word)\n",
    "print(final_str)"
   ]
  },
  {
   "cell_type": "markdown",
   "id": "568f94c5-5e0a-4b46-b29a-92eae91e32b7",
   "metadata": {},
   "source": [
    "30. Check if a string is a valid email address."
   ]
  },
  {
   "cell_type": "code",
   "execution_count": 272,
   "id": "b60a3bcb-9211-4142-9c40-989db4f9afec",
   "metadata": {},
   "outputs": [
    {
     "name": "stdin",
     "output_type": "stream",
     "text": [
      "enter the email id: sumnadf@gmail.com\n"
     ]
    },
    {
     "name": "stdout",
     "output_type": "stream",
     "text": [
      "True\n"
     ]
    }
   ],
   "source": [
    "import re\n",
    "str=input('enter the email id:')\n",
    "pattern= r'^[\\w\\.-]+@[\\w\\.-]+\\.\\w+$'\n",
    "if re.match(pattern,str):\n",
    "    print('True')\n",
    "else:\n",
    "    print('False')\n",
    "    "
   ]
  },
  {
   "cell_type": "markdown",
   "id": "563a0066-a4d8-4d9e-9c23-8bea6cd06426",
   "metadata": {},
   "source": [
    "31. Extract the username from an email address string.\n"
   ]
  },
  {
   "cell_type": "code",
   "execution_count": 285,
   "id": "f6378a7e-16b0-4a26-8f23-b5eda4abbfbb",
   "metadata": {},
   "outputs": [
    {
     "name": "stdin",
     "output_type": "stream",
     "text": [
      "enter the input string: mvsuma@fgjkls.com\n"
     ]
    },
    {
     "name": "stdout",
     "output_type": "stream",
     "text": [
      "the username for email: mvsuma\n"
     ]
    }
   ],
   "source": [
    "\n",
    "str=input('enter the input string:')\n",
    "s=str.split('@')[0]\n",
    "print('the username for email:',s)"
   ]
  },
  {
   "cell_type": "markdown",
   "id": "0677d58b-cd53-48eb-89e2-99b6bacf2be5",
   "metadata": {},
   "source": [
    "32. Extract the domain name from an email address string."
   ]
  },
  {
   "cell_type": "code",
   "execution_count": 287,
   "id": "6b1b552b-b761-4bb6-ac78-03114b95cb0a",
   "metadata": {},
   "outputs": [
    {
     "name": "stdin",
     "output_type": "stream",
     "text": [
      "enter the input string: mvnafn.aejf@gmail.com\n"
     ]
    },
    {
     "name": "stdout",
     "output_type": "stream",
     "text": [
      "the username for email: gmail.com\n"
     ]
    }
   ],
   "source": [
    "str=input('enter the input string:')\n",
    "s=str.split('@')[1]\n",
    "print('the username for email:',s)"
   ]
  },
  {
   "cell_type": "markdown",
   "id": "c633758f-69d0-4ae8-8ca6-4ee68ac03a9d",
   "metadata": {},
   "source": [
    "33. Replace multiple spaces in a string with a single space.\n"
   ]
  },
  {
   "cell_type": "code",
   "execution_count": 291,
   "id": "2d046d5b-2deb-4c8a-a5d0-533003ef0bb5",
   "metadata": {},
   "outputs": [
    {
     "name": "stdin",
     "output_type": "stream",
     "text": [
      "enter the input string: HELLO   WORLD world\n"
     ]
    },
    {
     "name": "stdout",
     "output_type": "stream",
     "text": [
      "replace one space in string: HELLO WORLD world\n"
     ]
    }
   ],
   "source": [
    "str=input('enter the input string:')\n",
    "s=' '.join(str.split())\n",
    "print('replace one space in string:', s)"
   ]
  },
  {
   "cell_type": "markdown",
   "id": "051f45a0-e497-432e-8ded-4f997b4234b7",
   "metadata": {},
   "source": [
    "34. Check if a string is a valid URL."
   ]
  },
  {
   "cell_type": "code",
   "execution_count": 296,
   "id": "e10f4e78-db57-492d-a2b0-a533ec6760ea",
   "metadata": {},
   "outputs": [
    {
     "name": "stdin",
     "output_type": "stream",
     "text": [
      "enter the input string for url: https://example.com\n"
     ]
    },
    {
     "name": "stdout",
     "output_type": "stream",
     "text": [
      "ParseResult(scheme='https', netloc='example.com', path='', params='', query='', fragment='')\n"
     ]
    }
   ],
   "source": [
    "from urllib.parse import urlparse\n",
    "\n",
    "str=input('enter the input string for url:')\n",
    "valid_url=urlparse(str)\n",
    "print(valid_url)"
   ]
  },
  {
   "cell_type": "markdown",
   "id": "cce6f15a-b71f-4b94-bf20-70909bd8e80e",
   "metadata": {},
   "source": [
    "35. Extract the protocol (http or https) from a URL string"
   ]
  },
  {
   "cell_type": "code",
   "execution_count": 303,
   "id": "35eeaae1-811c-4a00-95bb-44176e1ee086",
   "metadata": {},
   "outputs": [
    {
     "name": "stdin",
     "output_type": "stream",
     "text": [
      "enter the input string for url: https://example.com\n"
     ]
    },
    {
     "name": "stdout",
     "output_type": "stream",
     "text": [
      "https\n"
     ]
    }
   ],
   "source": [
    "str=input('enter the input string for url:')\n",
    "protocol =str.find('://')\n",
    "if protocol!=-1:\n",
    "    protocol_end=str[:protocol]\n",
    "print(protocol_end)"
   ]
  },
  {
   "cell_type": "markdown",
   "id": "31199d40-6f07-459b-ac31-e3c973537c72",
   "metadata": {},
   "source": [
    "36. Find the frequency of each character in a string."
   ]
  },
  {
   "cell_type": "code",
   "execution_count": 18,
   "id": "f79d8ab4-2906-4651-b783-85360d4a6e54",
   "metadata": {},
   "outputs": [
    {
     "name": "stdin",
     "output_type": "stream",
     "text": [
      "enter the input string: smaaa\n"
     ]
    },
    {
     "name": "stdout",
     "output_type": "stream",
     "text": [
      " character :'a', frequency:'{'s': 1, 'm': 1, 'a': 3}'\n"
     ]
    }
   ],
   "source": [
    "str=input('enter the input string:')\n",
    "cnt=0\n",
    "freq={}\n",
    "for char in str:\n",
    "    if char in freq:\n",
    "        freq[char]+=1\n",
    "    else:\n",
    "        freq[char]=1\n",
    "print(f\" character :'{char}', frequency:'{freq}'\")\n",
    "    "
   ]
  },
  {
   "cell_type": "markdown",
   "id": "86ea4ee1-d7f0-418c-ac0b-b736aacbefb7",
   "metadata": {},
   "source": [
    "37. Remove all punctuation from a string.\n"
   ]
  },
  {
   "cell_type": "code",
   "execution_count": 29,
   "id": "925a1a1c-0380-4613-8a0d-52d586b24bcc",
   "metadata": {},
   "outputs": [
    {
     "name": "stdin",
     "output_type": "stream",
     "text": [
      "enter the input string: suma! WORLD!;;;\"wrld'\n"
     ]
    },
    {
     "name": "stdout",
     "output_type": "stream",
     "text": [
      " original string: 'suma! WORLD!;;;\"wrld'', clean:'suma WORLDwrld'\n"
     ]
    }
   ],
   "source": [
    "import string\n",
    "\n",
    "inp_str=input('enter the input string:')\n",
    "\n",
    "trns= str.maketrans(' ',' ', string.punctuation)\n",
    "clean= inp_str.translate(trns)\n",
    "print(f\" original string: '{inp_str}', clean:'{clean}'\")"
   ]
  },
  {
   "cell_type": "markdown",
   "id": "b12263c6-117c-4167-a602-ad65c0c49b05",
   "metadata": {},
   "source": [
    "38. Check if a string contains only digits."
   ]
  },
  {
   "cell_type": "code",
   "execution_count": 36,
   "id": "e92c530e-f76f-4da5-8571-3593f7e0214e",
   "metadata": {},
   "outputs": [
    {
     "name": "stdin",
     "output_type": "stream",
     "text": [
      "enter the input string: 123455\n"
     ]
    },
    {
     "name": "stdout",
     "output_type": "stream",
     "text": [
      "the string contains digts:'True'\n"
     ]
    }
   ],
   "source": [
    "s=input('enter the input string:')\n",
    "s1=s.isdigit()\n",
    "print(f\"the string contains digts:'{s1}'\")"
   ]
  },
  {
   "cell_type": "markdown",
   "id": "507711f3-694f-40da-be26-6609cad312c9",
   "metadata": {},
   "source": [
    "39. Check if a string contains only alphabets.\n"
   ]
  },
  {
   "cell_type": "code",
   "execution_count": 43,
   "id": "df150ad5-ec79-4cbf-a45a-b4e155dd34f0",
   "metadata": {},
   "outputs": [
    {
     "name": "stdin",
     "output_type": "stream",
     "text": [
      "enter the input string: sumaaa\n"
     ]
    },
    {
     "name": "stdout",
     "output_type": "stream",
     "text": [
      "the string contains digts:'True'\n"
     ]
    }
   ],
   "source": [
    "s=input('enter the input string:')\n",
    "s1=s.isalpha()\n",
    "print(f\"the string contains digts:'{s1}'\")"
   ]
  },
  {
   "cell_type": "markdown",
   "id": "6ba43943-1b9c-4331-bc10-8eb5978d3a1e",
   "metadata": {},
   "source": [
    "40. Convert a string to a list of characters.\n"
   ]
  },
  {
   "cell_type": "code",
   "execution_count": 54,
   "id": "7c707cec-ab5c-438e-8a03-7277f14f9f56",
   "metadata": {},
   "outputs": [
    {
     "name": "stdin",
     "output_type": "stream",
     "text": [
      "enter the input string: sumaaa\n"
     ]
    },
    {
     "name": "stdout",
     "output_type": "stream",
     "text": [
      "['s', 'u', 'm', 'a', 'a', 'a']\n"
     ]
    }
   ],
   "source": [
    "s=input('enter the input string:')\n",
    "print (list(s))\n",
    "    "
   ]
  },
  {
   "cell_type": "markdown",
   "id": "449e9736-3d91-498f-8b84-99f9253987cc",
   "metadata": {},
   "source": [
    "41. Check if two strings are anagrams.\n"
   ]
  },
  {
   "cell_type": "code",
   "execution_count": 71,
   "id": "46d8666c-d093-497d-b505-e291901a7b1c",
   "metadata": {},
   "outputs": [
    {
     "name": "stdin",
     "output_type": "stream",
     "text": [
      "enter the input string1: sislaa\n",
      "enter the input string2: dkfgg\n"
     ]
    },
    {
     "name": "stdout",
     "output_type": "stream",
     "text": [
      "not anagrams\n"
     ]
    }
   ],
   "source": [
    "s1=input('enter the input string1:')\n",
    "s2=input('enter the input string2:')\n",
    "s1=s1.replace(' ','').lower()\n",
    "s2=s2.replace(' ','').lower()\n",
    "if (sorted(s1)==sorted(s2)):\n",
    "    result=(s1,s2)\n",
    "    print(f\"anagrams string:\", result)\n",
    "else:\n",
    "    print('not anagrams')"
   ]
  },
  {
   "cell_type": "markdown",
   "id": "7d03c347-9799-431b-8a4b-ce765ca84dad",
   "metadata": {},
   "source": [
    "42. Encode a string using a Caesar cipher."
   ]
  },
  {
   "cell_type": "code",
   "execution_count": 74,
   "id": "a19e400a-c1cf-4479-b891-2159ab9248aa",
   "metadata": {},
   "outputs": [
    {
     "name": "stdin",
     "output_type": "stream",
     "text": [
      "enter the input text: a\n",
      "enter the input shift : 5\n"
     ]
    },
    {
     "name": "stdout",
     "output_type": "stream",
     "text": [
      "Encode a string using a Caesar cipher. f\n"
     ]
    }
   ],
   "source": [
    "s1=input('enter the input text:')\n",
    "s2=int(input('enter the input shift :'))\n",
    "encod_txt=''\n",
    "for char in s1:\n",
    "    if char.isalpha():\n",
    "        encode_char= chr((ord(char) + s2 - ord('a')) % 26 + ord('a'))\n",
    "    else: \n",
    "        encode_char=char\n",
    "    encod_txt+=encode_char\n",
    "    print('Encode a string using a Caesar cipher.',encod_txt)\n"
   ]
  },
  {
   "cell_type": "markdown",
   "id": "8a93a460-1179-4cd6-81bc-867790db0e16",
   "metadata": {},
   "source": [
    "43. Decode a Caesar cipher encoded string."
   ]
  },
  {
   "cell_type": "code",
   "execution_count": 79,
   "id": "77fd08d4-b433-44c8-b927-19c49af30624",
   "metadata": {},
   "outputs": [
    {
     "name": "stdin",
     "output_type": "stream",
     "text": [
      "enter the input text: hello world\n",
      "enter the input shift : 5\n"
     ]
    },
    {
     "name": "stdout",
     "output_type": "stream",
     "text": [
      "Encode a string using a Caesar cipher. czggjjrjmgy\n"
     ]
    }
   ],
   "source": [
    "s1=input('enter the input text:')\n",
    "s2=int(input('enter the input shift :'))\n",
    "decod_txt=''\n",
    "for char in s1:\n",
    "    if char.isalpha():\n",
    "        decod_char= chr((ord(char) - s2 - ord('a')) % 26 + ord('a'))\n",
    "    else: \n",
    "        encode_char=char\n",
    "    decod_txt+=decod_char\n",
    "print('Encode a string using a Caesar cipher.',decod_txt)\n"
   ]
  },
  {
   "cell_type": "markdown",
   "id": "03464c56-9029-4247-89b6-302124fada82",
   "metadata": {},
   "source": [
    "44. Find the most frequent word in a string"
   ]
  },
  {
   "cell_type": "code",
   "execution_count": 92,
   "id": "4d64f43c-13aa-4fa2-8236-2eeda7e99a37",
   "metadata": {},
   "outputs": [
    {
     "name": "stdout",
     "output_type": "stream",
     "text": [
      "Most frequent word: hello\n"
     ]
    }
   ],
   "source": [
    "import re\n",
    "from collections import Counter\n",
    "def most_frequent_word(input_string):\n",
    "    # Remove punctuation and convert to lowercase\n",
    "    clean_string = re.sub(r'[^\\w\\s]', '', input_string).lower()\n",
    "\n",
    "    # Split the string into words\n",
    "    words = clean_string.split()\n",
    "\n",
    "    # Use Counter to count word frequencies\n",
    "    word_counter = Counter(words)\n",
    "\n",
    "    # Find the most common word\n",
    "    most_common_word = word_counter.most_common(1)[0][0]\n",
    "    return most_common_word\n",
    "\n",
    "# Example string\n",
    "input_str = \"Hello world, hello there! How's the world?\"\n",
    "\n",
    "# Find the most frequent word\n",
    "most_common = most_frequent_word(input_str)\n",
    "\n",
    "# Print the result\n",
    "print(\"Most frequent word:\", most_common)\n",
    "\n",
    "    "
   ]
  },
  {
   "cell_type": "code",
   "execution_count": 98,
   "id": "e2b7391c-882b-4220-ae19-66d168774e5c",
   "metadata": {},
   "outputs": [
    {
     "name": "stdin",
     "output_type": "stream",
     "text": [
      "enter the input text: Hello Hello\n"
     ]
    },
    {
     "name": "stdout",
     "output_type": "stream",
     "text": [
      "most common word: hello\n"
     ]
    }
   ],
   "source": [
    "import re\n",
    "from collections import Counter\n",
    "s1=input('enter the input text:')\n",
    "clean_str= re.sub(r'[^\\w\\s]','',s1).lower()\n",
    "words=clean_str.split()\n",
    "word_cnter=Counter(words)\n",
    "most_common= s1\n",
    "freq_word=word_cnter.most_common(1)[0][0]\n",
    "print('most common word:',freq_word)\n"
   ]
  },
  {
   "cell_type": "markdown",
   "id": "d68cc9bb-d84d-4449-b8ba-b0c4c4687c24",
   "metadata": {},
   "source": [
    "45. Find all unique words in a string."
   ]
  },
  {
   "cell_type": "code",
   "execution_count": 103,
   "id": "b45b5093-bc74-4d75-a032-0f288d826478",
   "metadata": {},
   "outputs": [
    {
     "name": "stdin",
     "output_type": "stream",
     "text": [
      "enter the input text: Hello world andfwefgg world\n"
     ]
    },
    {
     "name": "stdout",
     "output_type": "stream",
     "text": [
      "all unique words in string; {'world', 'Hello', 'andfwefgg'}\n"
     ]
    }
   ],
   "source": [
    "s1=input('enter the input text:')\n",
    "s2=set(s1.split())\n",
    "print( 'all unique words in string;',s2)"
   ]
  },
  {
   "cell_type": "markdown",
   "id": "e7687981-054f-407a-99d5-94e878cb214b",
   "metadata": {},
   "source": [
    "46. Count the number of syllables in a string"
   ]
  },
  {
   "cell_type": "code",
   "execution_count": 116,
   "id": "8e1a2333-0e9c-40ba-9f6c-a908d39e45d7",
   "metadata": {},
   "outputs": [
    {
     "name": "stdin",
     "output_type": "stream",
     "text": [
      "enter the input text: hello suma\n"
     ]
    },
    {
     "name": "stdout",
     "output_type": "stream",
     "text": [
      "the number of syllables in a string: 4\n",
      "4\n"
     ]
    }
   ],
   "source": [
    "import re\n",
    "s1=input('enter the input text:')\n",
    "syall=re.findall(r'[aeiouy]+',s1,re.IGNORECASE)\n",
    "sy2=len(syall)\n",
    "print('the number of syllables in a string:',len(syall))\n",
    "print(sy2)"
   ]
  },
  {
   "cell_type": "markdown",
   "id": "c7fac497-289e-42f9-b8c4-c55e1bbe4c0f",
   "metadata": {},
   "source": [
    "47. Check if a string contains any special characters"
   ]
  },
  {
   "cell_type": "code",
   "execution_count": 125,
   "id": "dc583c21-0fd9-417d-a035-d5c208cb67e0",
   "metadata": {},
   "outputs": [
    {
     "name": "stdin",
     "output_type": "stream",
     "text": [
      "enter the input text: Hello seroetrgjl;fsdx'><\n"
     ]
    },
    {
     "name": "stdout",
     "output_type": "stream",
     "text": [
      " 'Hello seroetrgjl;fsdx'><' string contains any special characters: True\n"
     ]
    }
   ],
   "source": [
    "import re\n",
    "s1=input('enter the input text:')\n",
    "pattern=re.compile(r'[@#$%^&*!()<>?{}\\|/-]')\n",
    "spe_chr=pattern.search(s1)\n",
    "print(f\" '{s1}' string contains any special characters:\",  bool(spe_chr))"
   ]
  },
  {
   "cell_type": "markdown",
   "id": "08aca404-290b-4fc1-9a35-c51f7f8e13a1",
   "metadata": {},
   "source": [
    "48. Remove the nth word from a string.\n"
   ]
  },
  {
   "cell_type": "code",
   "execution_count": 130,
   "id": "162aeb6f-2b96-450a-a4b4-8ac054d9ec8f",
   "metadata": {},
   "outputs": [
    {
     "name": "stdin",
     "output_type": "stream",
     "text": [
      "enter the input text: this is an example of string\n",
      "enter the input text: 4\n"
     ]
    },
    {
     "name": "stdout",
     "output_type": "stream",
     "text": [
      "example thisisanofstring\n"
     ]
    }
   ],
   "source": [
    "s1=input('enter the input text:')\n",
    "s2=int(input('enter the input text:'))\n",
    "word=s1.split()\n",
    "if s2>=1 and s2<=len(word):\n",
    "    remov_word=word.pop(s2-1)\n",
    "    updt_str=''.join(word)\n",
    "print(remov_word,updt_str)"
   ]
  },
  {
   "cell_type": "markdown",
   "id": "b6b9a725-db20-428e-aaec-1e1967892b34",
   "metadata": {},
   "source": [
    "49. Insert a word at the nth position in a string.\n"
   ]
  },
  {
   "cell_type": "code",
   "execution_count": 142,
   "id": "42ab4987-205f-4c50-b160-a8ea7290f140",
   "metadata": {},
   "outputs": [
    {
     "name": "stdin",
     "output_type": "stream",
     "text": [
      "enter the input text: heloo wprtr kidsa\n",
      "enter the input text: 2\n"
     ]
    },
    {
     "name": "stdout",
     "output_type": "stream",
     "text": [
      "None heloowprtrkidsaapple\n"
     ]
    }
   ],
   "source": [
    "s1=input('enter the input text:')\n",
    "s2=int(input('enter the input text:'))\n",
    "word=s1.split()\n",
    "if s2>=1 and s2<=len(word):\n",
    "    insert_word=word.insert(4, 'apple')\n",
    "    updt_str=''.join(word)\n",
    "print(insert_word,updt_str)"
   ]
  },
  {
   "cell_type": "markdown",
   "id": "0e7d5798-d55a-4802-bb05-86d00340f71a",
   "metadata": {},
   "source": [
    "50. Convert a CSV string to a list of lists.\n"
   ]
  },
  {
   "cell_type": "code",
   "execution_count": 174,
   "id": "cf01d0fd-5ea0-47e4-acf3-4b2045b5b6c7",
   "metadata": {},
   "outputs": [
    {
     "name": "stdout",
     "output_type": "stream",
     "text": [
      "['Name', ' Age', ' Country']\n",
      "['John', ' 25', ' USA']\n",
      "['Alice', ' 30', ' Canada']\n",
      "['Bob', ' 22', ' UK']\n"
     ]
    }
   ],
   "source": [
    "s1='Name, Age, Country\\nJohn, 25, USA\\nAlice, 30, Canada\\nBob, 22, UK'\n",
    "lines=s1.split('\\n')\n",
    "result=[]\n",
    "for line in lines:\n",
    "    fields=line.split(',')\n",
    "    result.append(fields)\n",
    "for row in result:\n",
    "    print(row)\n"
   ]
  },
  {
   "cell_type": "code",
   "execution_count": 168,
   "id": "f8c5355a-737d-4203-bcdd-bbfe869b7b80",
   "metadata": {},
   "outputs": [
    {
     "name": "stdout",
     "output_type": "stream",
     "text": [
      "['Name', ' Age', ' Country']\n",
      "['John', ' 25', ' USA']\n",
      "['Alice', ' 30', ' Canada']\n",
      "['Bob', ' 22', ' UK']\n"
     ]
    }
   ],
   "source": [
    "def csv_string_to_list(csv_string):\n",
    "    # Split the CSV string into lines\n",
    "    lines = csv_string.split('\\n')\n",
    "\n",
    "    # Initialize an empty list to store the result\n",
    "    result = []\n",
    "\n",
    "    for line in lines:\n",
    "        # Split each line into fields using comma as the delimiter\n",
    "        fields = line.split(',')\n",
    "\n",
    "        # Append the fields to the result list as a row\n",
    "        result.append(fields)\n",
    "\n",
    "    return result\n",
    "\n",
    "# Example CSV string\n",
    "csv_data = \"Name, Age, Country\\nJohn, 25, USA\\nAlice, 30, Canada\\nBob, 22, UK\"\n",
    "\n",
    "# Convert CSV string to a list of lists\n",
    "list_of_lists = csv_string_to_list(csv_data)\n",
    "\n",
    "# Print the result\n",
    "for row in list_of_lists:\n",
    "    print(row)"
   ]
  },
  {
   "cell_type": "markdown",
   "id": "a43d4be2-828d-46f5-9be2-ebb48e7f64f0",
   "metadata": {},
   "source": [
    "List Based Practice Problem :"
   ]
  },
  {
   "cell_type": "markdown",
   "id": "b3fcd9de-17f2-44e9-bfaa-b05ab3d68e07",
   "metadata": {},
   "source": [
    "1. Create a list with integers from 1 to 10."
   ]
  },
  {
   "cell_type": "code",
   "execution_count": 165,
   "id": "c0a4c243-b2e3-4de8-8760-3839a3cbbc0d",
   "metadata": {},
   "outputs": [
    {
     "name": "stdout",
     "output_type": "stream",
     "text": [
      "list with integers: [1, 2, 3, 4, 5, 6, 7, 8, 9, 10]\n"
     ]
    }
   ],
   "source": [
    "list_int= [i for i in range(1,11)]\n",
    "print(f'list with integers:',list_int)"
   ]
  },
  {
   "cell_type": "markdown",
   "id": "e8bbb789-6644-44eb-b791-25aef327fe31",
   "metadata": {},
   "source": [
    "2. Find the length of a list without using the `len()` function.\n"
   ]
  },
  {
   "cell_type": "code",
   "execution_count": 180,
   "id": "c5827279-b3a4-41fb-b6b2-dd1e66413ccb",
   "metadata": {},
   "outputs": [
    {
     "name": "stdout",
     "output_type": "stream",
     "text": [
      "Length of Lists: 4\n"
     ]
    }
   ],
   "source": [
    "s=[10,20,30,40]\n",
    "cnt=0\n",
    "for i in s:\n",
    "    cnt+=1\n",
    "print('Length of Lists:',cnt)"
   ]
  },
  {
   "cell_type": "markdown",
   "id": "5a5657a3-ff11-41b7-bcfe-b057adb81981",
   "metadata": {},
   "source": [
    "3. Append an element to the end of a list.\n"
   ]
  },
  {
   "cell_type": "code",
   "execution_count": 185,
   "id": "f5c8c4cd-fdb8-45ef-9610-66c2fee8a2cb",
   "metadata": {},
   "outputs": [
    {
     "name": "stdout",
     "output_type": "stream",
     "text": [
      "Append an element to the end of a list [10, 20, 30, 40, 50]\n"
     ]
    }
   ],
   "source": [
    "s=[10,20,30,40]\n",
    "new=50\n",
    "s.append(new)\n",
    "print(f'Append an element to the end of a list',s)"
   ]
  },
  {
   "cell_type": "markdown",
   "id": "b2b8ac83-ec87-4f02-815b-c366b3df1395",
   "metadata": {},
   "source": [
    "4. Insert an element at a specific index in a list."
   ]
  },
  {
   "cell_type": "code",
   "execution_count": 189,
   "id": "bec97a41-1598-41b3-9907-38d84ef5f4fe",
   "metadata": {},
   "outputs": [
    {
     "name": "stdout",
     "output_type": "stream",
     "text": [
      "insert an element to the specific index in a list [10, 20, 60, 30, 40]\n"
     ]
    }
   ],
   "source": [
    "s=[10,20,30,40]\n",
    "new=60\n",
    "s.insert(2,new)\n",
    "print(f'insert an element to the specific index in a list',s)"
   ]
  },
  {
   "cell_type": "markdown",
   "id": "69bf2d5f-c598-48fc-a7be-403e82a231c1",
   "metadata": {},
   "source": [
    "5. Remove an element from a list by its value."
   ]
  },
  {
   "cell_type": "code",
   "execution_count": 194,
   "id": "477f0088-908a-41d5-a8c1-f86aeae0d583",
   "metadata": {},
   "outputs": [
    {
     "name": "stdout",
     "output_type": "stream",
     "text": [
      "Remove an element from a list by its value: [10, 20, 60, 30]\n"
     ]
    }
   ],
   "source": [
    "s=[10, 20, 60, 30, 40]\n",
    "remove_elem=40\n",
    "s1=s.remove(remove_elem)\n",
    "print('Remove an element from a list by its value:',s)"
   ]
  },
  {
   "cell_type": "markdown",
   "id": "7586e562-5387-4e34-9fc0-a8d7426c8dee",
   "metadata": {},
   "source": [
    "6. Remove an element from a list by its index."
   ]
  },
  {
   "cell_type": "code",
   "execution_count": 200,
   "id": "bc2660f0-23fa-4671-9289-29f9cfe564fc",
   "metadata": {},
   "outputs": [
    {
     "name": "stdout",
     "output_type": "stream",
     "text": [
      "Remove an element from a list by its index: [10, 20, 30, 40]\n"
     ]
    }
   ],
   "source": [
    "s=[10, 20, 60, 30, 40]\n",
    "s1=s.pop(2)\n",
    "print('Remove an element from a list by its index:',s)"
   ]
  },
  {
   "cell_type": "markdown",
   "id": "74b33f72-655a-4003-b32b-03678488aa06",
   "metadata": {},
   "source": [
    "7. Check if an element exists in a list."
   ]
  },
  {
   "cell_type": "code",
   "execution_count": 209,
   "id": "357043b1-5219-46c4-a347-ff40c58239d3",
   "metadata": {},
   "outputs": [
    {
     "name": "stdout",
     "output_type": "stream",
     "text": [
      "element is existed\n"
     ]
    }
   ],
   "source": [
    "s=[10, 20, 60, 30, 40]\n",
    "exist_ele = 60\n",
    "if exist_ele in s:\n",
    "    print('element is existed')\n",
    "else:\n",
    "    print('element not existed')"
   ]
  },
  {
   "cell_type": "markdown",
   "id": "ce6abdbb-6200-44f0-9905-4b069b8e3054",
   "metadata": {},
   "source": [
    "8. Find the index of the first occurrence of an element in a list."
   ]
  },
  {
   "cell_type": "code",
   "execution_count": 224,
   "id": "3ef3a198-b7fa-4fa1-9e13-86f3c1e0a14b",
   "metadata": {},
   "outputs": [
    {
     "name": "stdout",
     "output_type": "stream",
     "text": [
      "the index of the 20 of an element in a [10, 20, 60, 30, 20]: 1\n"
     ]
    }
   ],
   "source": [
    "s=[10, 20, 60, 30, 20]\n",
    "indx_frst_occur=20\n",
    "s2=s.index(indx_frst_occur)\n",
    "print(f'the index of the {indx_frst_occur} of an element in a {s}:',s2)"
   ]
  },
  {
   "cell_type": "markdown",
   "id": "424e0209-308c-4284-a669-be7ffcdcf186",
   "metadata": {},
   "source": [
    "9. Count the occurrences of an element in a list.\n"
   ]
  },
  {
   "cell_type": "code",
   "execution_count": 233,
   "id": "b1b51b3f-f7bd-47c8-b715-332353f1f2f3",
   "metadata": {},
   "outputs": [
    {
     "name": "stdout",
     "output_type": "stream",
     "text": [
      " the occurrences of an element 30 in a list 2 times.\n"
     ]
    }
   ],
   "source": [
    "s=[10, 20, 60, 30, 20,30,20]\n",
    "cnt_ele=30\n",
    "s1=s.count(cnt_ele)\n",
    "print(f' the occurrences of an element {cnt_ele} in a list {s1} times.')\n",
    "\n"
   ]
  },
  {
   "cell_type": "markdown",
   "id": "cf4b71e4-08b9-4259-a6d1-20c529790e0e",
   "metadata": {},
   "source": [
    "10. Reverse the order of elements in a list."
   ]
  },
  {
   "cell_type": "code",
   "execution_count": 248,
   "id": "c2e2965c-fe6a-4e2f-9d21-fd4b47461eed",
   "metadata": {},
   "outputs": [
    {
     "name": "stdout",
     "output_type": "stream",
     "text": [
      "the order of elements in a list. [20, 30, 60, 20, 10]\n"
     ]
    }
   ],
   "source": [
    "s=[10, 20, 60, 30,20]\n",
    "s.reverse()\n",
    "print('the order of elements in a list.',s)"
   ]
  },
  {
   "cell_type": "markdown",
   "id": "01b4b915-595a-441f-85c0-dd5bfb722a1f",
   "metadata": {},
   "source": [
    "11. Sort a list in ascending order.\n"
   ]
  },
  {
   "cell_type": "code",
   "execution_count": 257,
   "id": "5bd99b32-4f70-4701-8b0b-fccb75d29981",
   "metadata": {},
   "outputs": [
    {
     "name": "stdout",
     "output_type": "stream",
     "text": [
      "Sort a list in ascending order. [10, 20, 20, 30, 60]\n"
     ]
    }
   ],
   "source": [
    "s=[10, 20, 60, 30,20]\n",
    "s.sort()\n",
    "print('Sort a list in ascending order.',s)"
   ]
  },
  {
   "cell_type": "markdown",
   "id": "c0e8cd05-d8ea-4d69-ad03-c243df9ab50b",
   "metadata": {},
   "source": [
    "12. Sort a list in descending order."
   ]
  },
  {
   "cell_type": "code",
   "execution_count": 262,
   "id": "dee3c3ed-d617-49a0-b4cf-c9e66870a82f",
   "metadata": {},
   "outputs": [
    {
     "name": "stdout",
     "output_type": "stream",
     "text": [
      "Sort a list in descending order. [60, 30, 20, 20, 10]\n"
     ]
    }
   ],
   "source": [
    "s=[10, 20, 60, 30,20]\n",
    "s.sort(reverse=True)\n",
    "print('Sort a list in descending order.',s)"
   ]
  },
  {
   "cell_type": "markdown",
   "id": "c1b279a5-116d-4cff-a2eb-daa33403ca3d",
   "metadata": {},
   "source": [
    "13. Create a list of even numbers from 1 to 20.\n"
   ]
  },
  {
   "cell_type": "code",
   "execution_count": 265,
   "id": "af143a6d-e6f6-4e37-b4cd-208cfca07cae",
   "metadata": {},
   "outputs": [
    {
     "name": "stdout",
     "output_type": "stream",
     "text": [
      "the list of even numbers from 1 to 20: [2, 4, 6, 8, 10, 12, 14, 16, 18, 20]\n"
     ]
    }
   ],
   "source": [
    "s=[i for i in range(1,21) if i%2==0]\n",
    "print(f'the list of even numbers from 1 to 20:',s)"
   ]
  },
  {
   "cell_type": "code",
   "execution_count": 277,
   "id": "e08e5ec4-5c34-40c7-bffb-a32f7aa1b6a0",
   "metadata": {},
   "outputs": [
    {
     "name": "stdout",
     "output_type": "stream",
     "text": [
      "[2, 4, 6, 8, 10, 12, 14, 16, 18, 20]\n"
     ]
    }
   ],
   "source": [
    "s=[i for i in range(2,21,2)]\n",
    "print(s)"
   ]
  },
  {
   "cell_type": "markdown",
   "id": "03c64ef1-8879-49d9-826b-aa8a229d3e9d",
   "metadata": {},
   "source": [
    "14. Create a list of odd numbers from 1 to 20."
   ]
  },
  {
   "cell_type": "code",
   "execution_count": 272,
   "id": "0324823c-ac91-4df3-9ca0-ba3e8dfb692f",
   "metadata": {},
   "outputs": [
    {
     "name": "stdout",
     "output_type": "stream",
     "text": [
      "the list of odd numbers from 1 to 20: [1, 3, 5, 7, 9, 11, 13, 15, 17, 19]\n"
     ]
    }
   ],
   "source": [
    "s=[i for i in range(1,21) if i%2!=0]\n",
    "print(f'the list of odd numbers from 1 to 20:',s)"
   ]
  },
  {
   "cell_type": "code",
   "execution_count": 279,
   "id": "5a960298-4b53-4456-a93b-4df9e2df0926",
   "metadata": {},
   "outputs": [
    {
     "name": "stdout",
     "output_type": "stream",
     "text": [
      "[1, 3, 5, 7, 9, 11, 13, 15, 17, 19]\n"
     ]
    }
   ],
   "source": [
    "s=[i for i in range(1,21,2)]\n",
    "print(s)"
   ]
  },
  {
   "cell_type": "markdown",
   "id": "a71e8843-3ffd-4457-94d0-aee28ff26b34",
   "metadata": {},
   "source": [
    "15. Find the sum of all elements in a list.\n"
   ]
  },
  {
   "cell_type": "code",
   "execution_count": 275,
   "id": "d7043707-268f-46ab-b43a-67fee2f3dbc4",
   "metadata": {},
   "outputs": [
    {
     "name": "stdout",
     "output_type": "stream",
     "text": [
      "the sum of all elements in a list. 140\n"
     ]
    }
   ],
   "source": [
    "s=[10, 20, 60, 30,20]\n",
    "tot_sum=sum(s)\n",
    "print('the sum of all elements in a list.',tot_sum)"
   ]
  },
  {
   "cell_type": "markdown",
   "id": "cf390f49-1803-4999-ad2d-59904d28a1c3",
   "metadata": {},
   "source": [
    "16. Find the maximum value in a list.\n"
   ]
  },
  {
   "cell_type": "code",
   "execution_count": 282,
   "id": "67dc48a9-80f4-4c8b-9429-07e62a1d42f3",
   "metadata": {},
   "outputs": [
    {
     "name": "stdout",
     "output_type": "stream",
     "text": [
      "the maximum value in a list: 60\n"
     ]
    }
   ],
   "source": [
    "s=[10, 20, 60, 30,20]\n",
    "max_val=max(s)\n",
    "print('the maximum value in a list:',max_val)"
   ]
  },
  {
   "cell_type": "markdown",
   "id": "1dd7d503-31d7-4f82-bdf3-807db5775d42",
   "metadata": {},
   "source": [
    "17. Find the minimum value in a list"
   ]
  },
  {
   "cell_type": "code",
   "execution_count": 287,
   "id": "b6ee511b-2e91-4331-b006-0787768d0234",
   "metadata": {},
   "outputs": [
    {
     "name": "stdout",
     "output_type": "stream",
     "text": [
      "the minimum value in a list: 10\n"
     ]
    }
   ],
   "source": [
    "s=[10, 20, 60, 30,20]\n",
    "s1=min(s)\n",
    "print('the minimum value in a list:', s1)"
   ]
  },
  {
   "cell_type": "markdown",
   "id": "46949cbb-7525-463c-9164-e44e11def14a",
   "metadata": {},
   "source": [
    "18. Create a list of squares of numbers from 1 to 10."
   ]
  },
  {
   "cell_type": "code",
   "execution_count": 292,
   "id": "ce1e756b-3f34-45fd-a53c-48a0f0f321a5",
   "metadata": {},
   "outputs": [
    {
     "name": "stdout",
     "output_type": "stream",
     "text": [
      "The list of squares of numbers from 1 to 10: [1, 4, 9, 16, 25, 36, 49, 64, 81, 100]\n"
     ]
    }
   ],
   "source": [
    "s=[i**2 for i in range(1,11)]\n",
    "print('The list of squares of numbers from 1 to 10:',s)"
   ]
  },
  {
   "cell_type": "markdown",
   "id": "3fac9415-54c7-439c-a74b-214c38d4def0",
   "metadata": {},
   "source": [
    "19. Create a list of random numbers.\n"
   ]
  },
  {
   "cell_type": "code",
   "execution_count": 297,
   "id": "b111480b-9e6a-4c98-8f0a-1b976cb317b8",
   "metadata": {},
   "outputs": [
    {
     "name": "stdout",
     "output_type": "stream",
     "text": [
      "The list of random numbers. [79, 11, 98, 71, 5, 32, 59, 7, 37, 12]\n"
     ]
    }
   ],
   "source": [
    "import random\n",
    "s=[random.randint(1,100) for i in range(10)]\n",
    "print('The list of random numbers.',s)"
   ]
  },
  {
   "cell_type": "markdown",
   "id": "fb7f9a13-c928-49aa-9821-4e376b765724",
   "metadata": {},
   "source": [
    "20. Remove duplicates from a list."
   ]
  },
  {
   "cell_type": "code",
   "execution_count": 310,
   "id": "bd65cef1-6581-401b-993f-73c65553ea56",
   "metadata": {},
   "outputs": [
    {
     "name": "stdout",
     "output_type": "stream",
     "text": [
      "the list without duplicates: [40, 10, 20, 60, 30]\n"
     ]
    }
   ],
   "source": [
    "s=[10, 20, 60, 30,20,30,40,60]\n",
    "s1=list(set(s))\n",
    "print('the list without duplicates:',s1)"
   ]
  },
  {
   "cell_type": "markdown",
   "id": "ecc9369f-7509-437c-89e7-44f391d0dbfb",
   "metadata": {},
   "source": [
    "21. Find the common elements between two lists.\n"
   ]
  },
  {
   "cell_type": "code",
   "execution_count": 329,
   "id": "c04c79a3-30b5-4f34-ad67-62ca2780bf30",
   "metadata": {},
   "outputs": [
    {
     "name": "stdout",
     "output_type": "stream",
     "text": [
      "1\n"
     ]
    }
   ],
   "source": [
    "s=[10, 20, 60, 30]\n",
    "s1=[100, 20, 160, 130]\n",
    "common_ele=[]\n",
    "for s2 in s:\n",
    "    if s2 in s1:\n",
    "       common_ele.append(s2)\n",
    "print(len(common_ele))"
   ]
  },
  {
   "cell_type": "code",
   "execution_count": 333,
   "id": "764f66f6-eed3-4aee-8389-bfc676e9110b",
   "metadata": {},
   "outputs": [
    {
     "name": "stdout",
     "output_type": "stream",
     "text": [
      "[20]\n"
     ]
    }
   ],
   "source": [
    "s=[10, 20, 60, 30]\n",
    "s1=[100, 20, 160, 130]\n",
    "s2=list(set(s).intersection(s1))\n",
    "print(s2)"
   ]
  },
  {
   "cell_type": "markdown",
   "id": "67ff7c9a-17e2-4e47-8a83-83bdb66871b2",
   "metadata": {},
   "source": [
    "22. Find the difference between two lists.\n"
   ]
  },
  {
   "cell_type": "code",
   "execution_count": 346,
   "id": "e049314e-d001-49dd-96e6-f3a66545c99b",
   "metadata": {},
   "outputs": [
    {
     "name": "stdout",
     "output_type": "stream",
     "text": [
      "[10, 60, 30]\n"
     ]
    }
   ],
   "source": [
    "s=[10, 20, 60, 30]\n",
    "s1=[100, 20, 160, 130]\n",
    "s2=list(set(s).difference(s1))\n",
    "print(s2)"
   ]
  },
  {
   "cell_type": "code",
   "execution_count": 342,
   "id": "68b00e5e-8f0a-457d-bbeb-6cb0733c1139",
   "metadata": {},
   "outputs": [
    {
     "name": "stdout",
     "output_type": "stream",
     "text": [
      "[10, 60, 30]\n"
     ]
    }
   ],
   "source": [
    "s=[10, 20, 60, 30]\n",
    "s1=[100, 20, 160, 130]\n",
    "diff_ele=[]\n",
    "for s2 in s:\n",
    "    if s2 not in s1:\n",
    "       diff_ele.append(s2)\n",
    "print(diff_ele)"
   ]
  },
  {
   "cell_type": "markdown",
   "id": "e9d8d65a-88fd-4bb1-a2e5-8a3ffc4faf43",
   "metadata": {},
   "source": [
    "23. Merge two lists."
   ]
  },
  {
   "cell_type": "code",
   "execution_count": 355,
   "id": "76d88af5-3db8-417c-84a6-83156a45f8b8",
   "metadata": {},
   "outputs": [
    {
     "name": "stdout",
     "output_type": "stream",
     "text": [
      "Merge two list to one: {160, 130, 100, 10, 20, 60, 30}\n"
     ]
    }
   ],
   "source": [
    "s=[10, 20, 60, 30]\n",
    "s1=[100, 20, 160, 130]\n",
    "merge_lst= s+s1\n",
    "print('Merge two list to one:',set(merge_lst))"
   ]
  },
  {
   "cell_type": "markdown",
   "id": "7b1e95d1-22c4-47bc-96fb-dc1886cf83e5",
   "metadata": {},
   "source": [
    "24. Multiply all elements in a list by 2.\n"
   ]
  },
  {
   "cell_type": "code",
   "execution_count": 364,
   "id": "ac5e6551-6b74-4d1e-8048-375a8b9db2cd",
   "metadata": {},
   "outputs": [
    {
     "name": "stdout",
     "output_type": "stream",
     "text": [
      "Multiply all elements in a list: [20, 40, 120, 60]\n"
     ]
    }
   ],
   "source": [
    "s=[10, 20, 60, 30]\n",
    "s1=[s2*2 for s2 in s] \n",
    "print('Multiply all elements in a list:',s1)"
   ]
  },
  {
   "cell_type": "markdown",
   "id": "3dada42c-8f59-4a10-abef-5c86c4d6f03a",
   "metadata": {},
   "source": [
    "25. Filter out all even numbers from a list."
   ]
  },
  {
   "cell_type": "code",
   "execution_count": 371,
   "id": "19f91801-9661-4ed8-ad4d-f02bba5c9fca",
   "metadata": {},
   "outputs": [
    {
     "name": "stdout",
     "output_type": "stream",
     "text": [
      "even numbers from a list. [25]\n"
     ]
    }
   ],
   "source": [
    "s=[10, 20, 60, 30,25]\n",
    "s1=[ i for i in s if i%2!=0]\n",
    "print('even numbers from a list.',s1)"
   ]
  },
  {
   "cell_type": "markdown",
   "id": "344a2acd-ab99-4bc8-bb21-0ace72e76b07",
   "metadata": {},
   "source": [
    "26. Convert a list of strings to a list of integers.\n"
   ]
  },
  {
   "cell_type": "code",
   "execution_count": 5,
   "id": "17311899-08ec-4bb8-a3b5-8bffc80a89fa",
   "metadata": {},
   "outputs": [
    {
     "name": "stdout",
     "output_type": "stream",
     "text": [
      "list of strings to a list of integers: [10, 20, 60, 30, 25]\n"
     ]
    }
   ],
   "source": [
    "s=['10', '20', '60', '30','25']\n",
    "s1=[int(i) for i in s]\n",
    "print(f'list of strings to a list of integers:',s1)"
   ]
  },
  {
   "cell_type": "markdown",
   "id": "60e01dbc-1987-4617-8e90-b72491fd5af9",
   "metadata": {},
   "source": [
    "27. Convert a list of integers to a list of strings.\n"
   ]
  },
  {
   "cell_type": "code",
   "execution_count": 1,
   "id": "a047b4e8-3227-482c-bcfe-f31ba8e467e3",
   "metadata": {},
   "outputs": [
    {
     "name": "stdout",
     "output_type": "stream",
     "text": [
      "['1', '2', '3']\n"
     ]
    }
   ],
   "source": [
    "int_list = [1, 2, 3]\n",
    "str_list = map(str,int_list)\n",
    "print(list(str_list))"
   ]
  },
  {
   "cell_type": "code",
   "execution_count": 7,
   "id": "ae88c1e2-73f5-481c-9e2d-dc8f5aa3e76e",
   "metadata": {},
   "outputs": [
    {
     "name": "stdout",
     "output_type": "stream",
     "text": [
      "list of integers to a list of strings: ['10', '20', '60', '30', '25']\n"
     ]
    }
   ],
   "source": [
    "s=[10, 20, 60, 30,25]\n",
    "s1=[str(i) for i in s]\n",
    "print(f'list of integers to a list of strings:',s1)"
   ]
  },
  {
   "cell_type": "markdown",
   "id": "baac8b9c-3ed1-4767-a824-62f6a3271637",
   "metadata": {},
   "source": [
    "28. Flatten a nested list.\n"
   ]
  },
  {
   "cell_type": "code",
   "execution_count": 16,
   "id": "cf4522b6-2f5a-4553-9903-741384aa5475",
   "metadata": {},
   "outputs": [
    {
     "name": "stdout",
     "output_type": "stream",
     "text": [
      "Flatten a nested list: [10, 20, 60, 30, 25, 10, 26, 35, 64]\n"
     ]
    }
   ],
   "source": [
    "s=[[10, 20, 60], [30,25,10],[26,35,64]]\n",
    "s2=[ item for i in s for item in i]\n",
    "print('Flatten a nested list:', s2)"
   ]
  },
  {
   "cell_type": "code",
   "execution_count": 20,
   "id": "d30abba0-ddf8-4081-a9a9-b992331aecfe",
   "metadata": {},
   "outputs": [
    {
     "name": "stdout",
     "output_type": "stream",
     "text": [
      "flatten a nested list: [10, 20, 60, 30, 25, 10, 26, 35, 64]\n"
     ]
    }
   ],
   "source": [
    "s=[[10, 20, 60], [30,25,10],[26,35,64]]\n",
    "flat_lst=[]\n",
    "for i in s:\n",
    "    for tem in i:\n",
    "        flat_lst.append(tem)\n",
    "print(f'flatten a nested list:',flat_lst)"
   ]
  },
  {
   "cell_type": "markdown",
   "id": "a9e58ae5-4a30-4d17-b546-3a79de7c42b3",
   "metadata": {},
   "source": [
    "29. Create a list of the first 10 Fibonacci numbers.\n"
   ]
  },
  {
   "cell_type": "code",
   "execution_count": 23,
   "id": "193ec0d3-27ad-407e-96c2-49fa702ca51e",
   "metadata": {},
   "outputs": [
    {
     "name": "stdin",
     "output_type": "stream",
     "text": [
      "enter the first 10 fibonacci number: 10\n"
     ]
    },
    {
     "name": "stdout",
     "output_type": "stream",
     "text": [
      "list of the first 10 Fibonacci numbers: [0, 1, 1, 2, 3, 5, 8, 13, 21, 34]\n"
     ]
    }
   ],
   "source": [
    "n=int(input('enter the first 10 fibonacci number:'))\n",
    "fibo_lst=[0,1]\n",
    "for i in range(2,n):\n",
    "    next_fibo=fibo_lst[i-1]+fibo_lst[i-2]\n",
    "    fibo_lst.append(next_fibo)\n",
    "print(f'list of the first {n} Fibonacci numbers:',fibo_lst)"
   ]
  },
  {
   "cell_type": "markdown",
   "id": "777f40ea-b5ff-4a04-bd4c-c7ead9e69b91",
   "metadata": {},
   "source": [
    "30. Check if a list is sorted.\n"
   ]
  },
  {
   "cell_type": "code",
   "execution_count": 62,
   "id": "6bbdbcbe-448d-4c1d-aa5f-15692de0041a",
   "metadata": {},
   "outputs": [
    {
     "name": "stdout",
     "output_type": "stream",
     "text": [
      "list is sorted [10, 20, 30, 40, 55]\n"
     ]
    }
   ],
   "source": [
    "s=[10, 20, 30, 40,55]\n",
    "s1=s[:]\n",
    "s1.sort()\n",
    "\n",
    "##s=[10, 20, 30, 40,55]\n",
    "if (s==s1):\n",
    "    print('list is sorted',s)\n",
    "else:\n",
    "    print('list not sorted',s)\n",
    "\n"
   ]
  },
  {
   "cell_type": "code",
   "execution_count": 64,
   "id": "b1f464b2-df9b-4ca4-a90d-a564869193f3",
   "metadata": {},
   "outputs": [
    {
     "name": "stdout",
     "output_type": "stream",
     "text": [
      "The list is not sorted in ascending order. [10, 20, 60, 30, 25]\n"
     ]
    }
   ],
   "source": [
    "# Function to check if a list is sorted in ascending order\n",
    "def is_sorted_ascending(lst):\n",
    "    for i in range(1, len(lst)):\n",
    "        if lst[i] < lst[i - 1]:\n",
    "            return False\n",
    "    return True\n",
    "\n",
    "# Example list\n",
    "ascending_list = [10, 20, 60, 30,25]            ###[10, 20, 30, 40, 50]\n",
    "\n",
    "# Check if the list is sorted in ascending order\n",
    "if is_sorted_ascending(ascending_list):\n",
    "    print(\"The list is sorted in ascending order.\",ascending_list)\n",
    "else:\n",
    "    print(\"The list is not sorted in ascending order.\",ascending_list)"
   ]
  },
  {
   "cell_type": "markdown",
   "id": "056564ec-d046-48aa-bb3c-13a41ce15363",
   "metadata": {},
   "source": [
    "31. Rotate a list to the left by `n` positions.\n"
   ]
  },
  {
   "cell_type": "code",
   "execution_count": 1,
   "id": "3bf09fbc-bab2-41c5-b81d-c37b005c4ae1",
   "metadata": {},
   "outputs": [
    {
     "name": "stdout",
     "output_type": "stream",
     "text": [
      "Rotated list: [3, 4, 5, 6, 1, 2]\n"
     ]
    }
   ],
   "source": [
    "# Function to rotate a list to the left by n positions\n",
    "def rotate_left(lst, n):\n",
    "    n = n % len(lst)  # Normalize n to handle cases where n is larger than the list length\n",
    "    # print(n)\n",
    "    rotated = lst[n:] + lst[:n]\n",
    "    return rotated\n",
    "\n",
    "# Example list\n",
    "my_list = [1, 2, 3, 4, 5, 6]\n",
    "\n",
    "# Number of positions to rotate by\n",
    "n = 2\n",
    "\n",
    "# Rotate the list to the left by n positions\n",
    "rotated_list = rotate_left(my_list, n)\n",
    "\n",
    "# Print the rotated list\n",
    "print(\"Rotated list:\", rotated_list)"
   ]
  },
  {
   "cell_type": "code",
   "execution_count": 3,
   "id": "f8115d94-0fd0-45b3-890f-6ddaa8be4285",
   "metadata": {},
   "outputs": [
    {
     "name": "stdout",
     "output_type": "stream",
     "text": [
      "rotate list by left n th position: [60, 30, 25, 10, 20]\n",
      "2\n"
     ]
    }
   ],
   "source": [
    "lst=[10, 20, 60, 30, 25]\n",
    "n=2\n",
    "n=n%len(lst)\n",
    "rotate=lst[n:]+lst[:n]\n",
    "print('rotate list by left n th position:',rotate)\n",
    "print(2%5)"
   ]
  },
  {
   "cell_type": "markdown",
   "id": "cef30481-eb3f-4623-937e-5f43c954675f",
   "metadata": {},
   "source": [
    "32. Rotate a list to the right by `n` positions.\n"
   ]
  },
  {
   "cell_type": "code",
   "execution_count": 6,
   "id": "170319e6-f082-4838-b66f-b4e7845d44c0",
   "metadata": {},
   "outputs": [
    {
     "name": "stdout",
     "output_type": "stream",
     "text": [
      "rotate list by right n th position: [30, 25, 10, 20, 60]\n"
     ]
    }
   ],
   "source": [
    "lst=[10, 20, 60, 30, 25]\n",
    "n=2\n",
    "n=n%len(lst)\n",
    "rotate_right=lst[-n:]+lst[:-n]\n",
    "print('rotate list by right n th position:',rotate_right)\n"
   ]
  },
  {
   "cell_type": "markdown",
   "id": "e03bde9b-205d-4957-a7e7-614bd77d8716",
   "metadata": {},
   "source": [
    "33. Create a list of prime numbers up to 50."
   ]
  },
  {
   "cell_type": "code",
   "execution_count": 11,
   "id": "18e46611-81b2-4fbb-b7f3-13cf5e879548",
   "metadata": {},
   "outputs": [
    {
     "name": "stdout",
     "output_type": "stream",
     "text": [
      "5 25\n",
      "5 29\n",
      "List of prime numbers up to 50: [2, 3, 5, 7, 11, 13, 17, 19, 23, 29]\n"
     ]
    }
   ],
   "source": [
    "# Function to check if a number is prime\n",
    "def is_prime(num):\n",
    "    if num <= 1:\n",
    "        return False\n",
    "    if num <= 3:\n",
    "        return True\n",
    "    if num % 2 == 0 or num % 3 == 0:\n",
    "        return False\n",
    "    i = 5\n",
    "    while i * i <= num:\n",
    "      print(i,num)\n",
    "      if num % i == 0 or num % (i + 2) == 0:\n",
    "          return False\n",
    "      i += 6\n",
    "    return True\n",
    "\n",
    "# Create a list of prime numbers up to 50\n",
    "prime_numbers = [num for num in range(2,30) if is_prime(num)]\n",
    "\n",
    "# Print the list of prime numbers\n",
    "print(\"List of prime numbers up to 50:\", prime_numbers)"
   ]
  },
  {
   "cell_type": "markdown",
   "id": "f1419ea3-44cc-40f5-a699-0077e90fc56a",
   "metadata": {},
   "source": [
    "34. Split a list into chunks of size `n`.\n"
   ]
  },
  {
   "cell_type": "code",
   "execution_count": 16,
   "id": "9ab1c2bb-f6d3-4080-af22-9382d39140fb",
   "metadata": {},
   "outputs": [
    {
     "name": "stdout",
     "output_type": "stream",
     "text": [
      "[1, 2, 3]\n",
      "[4, 5, 6]\n",
      "[7, 8, 9]\n"
     ]
    }
   ],
   "source": [
    "l = [1, 2, 3, 4, 5, 6, 7, 8, 9] \n",
    "for i in range(0,len(l),3):\n",
    "    x=i\n",
    "    print(l[x:x+3])"
   ]
  },
  {
   "cell_type": "markdown",
   "id": "c82d71ec-a099-4ef9-b23b-ca0cf8379d15",
   "metadata": {},
   "source": [
    "35. Find the second largest number in a list."
   ]
  },
  {
   "cell_type": "code",
   "execution_count": 23,
   "id": "a0b6806f-d213-4d95-bf77-121b541ef983",
   "metadata": {},
   "outputs": [
    {
     "name": "stdout",
     "output_type": "stream",
     "text": [
      "[10, 20, 25, 30, 60]\n",
      "second largest number in list: 30\n"
     ]
    }
   ],
   "source": [
    "lst=[10, 20, 60, 30, 25]\n",
    "soted_lst=sorted(set(lst))\n",
    "print(soted_lst)\n",
    "if len(soted_lst)>=2:\n",
    "    second_larg=soted_lst[-2]\n",
    "    print('second largest number in list:',second_larg)\n",
    "else:\n",
    "    print('The list doesn\"t have second largest number',second_larg)\n",
    "    \n",
    "    "
   ]
  },
  {
   "cell_type": "markdown",
   "id": "b508aaf0-1c79-4e11-8425-e9c95febba5e",
   "metadata": {},
   "source": [
    "36. Replace every element in a list with its square."
   ]
  },
  {
   "cell_type": "code",
   "execution_count": 26,
   "id": "184febdb-78d2-42bd-8f4a-0af7680d4b94",
   "metadata": {},
   "outputs": [
    {
     "name": "stdout",
     "output_type": "stream",
     "text": [
      "The square of each element in list: [100, 400, 3600, 900, 625]\n"
     ]
    }
   ],
   "source": [
    "lst=[10, 20, 60, 30, 25]\n",
    "sq_ele=[x**2 for x in lst]\n",
    "print('The square of each element in list:',sq_ele)"
   ]
  },
  {
   "cell_type": "markdown",
   "id": "2b05b486-4c8b-4303-8457-80a3c16488f9",
   "metadata": {},
   "source": [
    "37. Convert a list to a dictionary where list elements become keys and their\n",
    "indices become values.\n"
   ]
  },
  {
   "cell_type": "code",
   "execution_count": 29,
   "id": "37d3f94b-136b-4908-966e-47f3abecf889",
   "metadata": {},
   "outputs": [
    {
     "name": "stdout",
     "output_type": "stream",
     "text": [
      "list to a dictionary: {10: 0, 20: 1, 60: 2, 30: 3, 25: 4}\n"
     ]
    }
   ],
   "source": [
    "my_list =[10, 20, 60, 30, 25]\n",
    "my_dict={ele: index for index,ele in enumerate(my_list)}\n",
    "print('list to a dictionary:',my_dict)"
   ]
  },
  {
   "cell_type": "markdown",
   "id": "8fd127a7-0b94-432a-bb2f-79901735c149",
   "metadata": {},
   "source": [
    "38. Shuffle the elements of a list randomly.\n"
   ]
  },
  {
   "cell_type": "code",
   "execution_count": 36,
   "id": "6b6af20a-3e73-4d85-8f16-4b04de773d43",
   "metadata": {},
   "outputs": [
    {
     "name": "stdout",
     "output_type": "stream",
     "text": [
      "Shuffle the elements of a list randomly: [60, 10, 20, 25, 30]\n"
     ]
    }
   ],
   "source": [
    "import random\n",
    "my_list =[10, 20, 60, 30, 25]\n",
    "random.shuffle(my_list)\n",
    "print('Shuffle the elements of a list randomly:',my_list)"
   ]
  },
  {
   "cell_type": "markdown",
   "id": "74973dbf-bc0d-4bd9-aeef-39cb8a3885d1",
   "metadata": {},
   "source": [
    "39. Create a list of the first 10 factorial numbers."
   ]
  },
  {
   "cell_type": "code",
   "execution_count": 53,
   "id": "b6a00fdf-3d25-445e-b7e3-426d25bcf585",
   "metadata": {},
   "outputs": [
    {
     "name": "stdout",
     "output_type": "stream",
     "text": [
      "list of the first 10 factorial numbers: [1, 2, 6, 24, 120, 720, 5040, 40320, 362880, 3628800]\n"
     ]
    }
   ],
   "source": [
    "s=[1]\n",
    "s=[(s[-1]) for x in range(1,11) if not s.append(x*s[-1])]\n",
    "print('list of the first 10 factorial numbers:',s)"
   ]
  },
  {
   "cell_type": "code",
   "execution_count": 45,
   "id": "8b48e60f-1e08-4c3f-a768-2cfbd9974bb2",
   "metadata": {},
   "outputs": [
    {
     "name": "stdout",
     "output_type": "stream",
     "text": [
      "[1, 1, 2, 6, 24, 120, 720, 5040, 40320, 362880]\n"
     ]
    }
   ],
   "source": [
    "import math\n",
    "\n",
    "s=[math.factorial(n) for n in range(10)]\n",
    "print(s)"
   ]
  },
  {
   "cell_type": "code",
   "execution_count": 59,
   "id": "b2bea2a4-ea71-4829-bbb0-565dc61fa38c",
   "metadata": {},
   "outputs": [
    {
     "name": "stdout",
     "output_type": "stream",
     "text": [
      "List of the first 10 factorial numbers: [1, 1, 2, 6, 24, 120, 720, 5040, 40320, 362880]\n"
     ]
    }
   ],
   "source": [
    "# Function to calculate factorial\n",
    "def factorial(n):\n",
    "    if n == 0 or n == 1:\n",
    "        return 1\n",
    "    else:\n",
    "        return n * factorial(n - 1)\n",
    "\n",
    "# Create a list of the first 10 factorial numbers\n",
    "factorial_numbers = [factorial(i) for i in range(10)]\n",
    "\n",
    "# Print the list of factorial numbers\n",
    "print(\"List of the first 10 factorial numbers:\", factorial_numbers)"
   ]
  },
  {
   "cell_type": "markdown",
   "id": "77e43ed4-07c4-417e-b281-1e8b3a32e0a4",
   "metadata": {},
   "source": [
    "40. Check if two lists have at least one element in common"
   ]
  },
  {
   "cell_type": "code",
   "execution_count": 100,
   "id": "d3ad4cc9-1ebc-4663-9b96-74b4b238349b",
   "metadata": {},
   "outputs": [
    {
     "name": "stdout",
     "output_type": "stream",
     "text": [
      "Two lists have at least one element in common: [4, 6, 8, 9]\n"
     ]
    }
   ],
   "source": [
    "lst1=[3,4,6,8,9,10]\n",
    "lst2=[4,5,6,7,8,9]\n",
    "comm_el=[]\n",
    "for itm in lst1:\n",
    "    if itm in lst2:\n",
    "        comm_el.append(itm)\n",
    "print('Two lists have at least one element in common:',comm_el)\n",
    "  "
   ]
  },
  {
   "cell_type": "code",
   "execution_count": 102,
   "id": "378d2ce5-3cbe-4d10-8c2e-d3f7e42764b5",
   "metadata": {},
   "outputs": [
    {
     "name": "stdout",
     "output_type": "stream",
     "text": [
      "The lists have at least one common element.\n"
     ]
    }
   ],
   "source": [
    "def has_common_element(list1, list2):\n",
    "    for item in list1:\n",
    "        if item in list2:\n",
    "            return True\n",
    "    return False\n",
    "\n",
    "# Example lists\n",
    "list1 = [1, 2, 3, 4, 5]\n",
    "list2 = [4, 5, 6, 7, 8]\n",
    "\n",
    "# Check if the two lists have at least one element in common\n",
    "if has_common_element(list1, list2):\n",
    "    print(\"The lists have at least one common element.\")\n",
    "else:\n",
    "    print(\"The lists do not have any common elements.\")"
   ]
  },
  {
   "cell_type": "markdown",
   "id": "ff25e5aa-0764-43fd-8426-6727557e0882",
   "metadata": {},
   "source": [
    "41. Remove all elements from a list."
   ]
  },
  {
   "cell_type": "code",
   "execution_count": 105,
   "id": "85527578-e331-4114-a555-5e08e909ac06",
   "metadata": {},
   "outputs": [
    {
     "name": "stdout",
     "output_type": "stream",
     "text": [
      "[]\n"
     ]
    }
   ],
   "source": [
    "lst1=[3,4,6,8,9,10]\n",
    "lst1.clear()\n",
    "print(lst1)"
   ]
  },
  {
   "cell_type": "markdown",
   "id": "cb26a1c8-9f18-4584-8da2-472b9c3cde2a",
   "metadata": {},
   "source": [
    "42. Replace negative numbers in a list with 0."
   ]
  },
  {
   "cell_type": "code",
   "execution_count": 108,
   "id": "2ee5d518-4381-4549-9898-78b81d90d196",
   "metadata": {},
   "outputs": [
    {
     "name": "stdout",
     "output_type": "stream",
     "text": [
      "Replace negative numbers in a list with 0: [3, 0, 0, 8, 0, 10]\n"
     ]
    }
   ],
   "source": [
    "lst1=[3,-4,-16,8,-29,10]\n",
    "for i in range(len(lst1)):\n",
    "    if lst1[i]<0:\n",
    "        lst1[i]=0\n",
    "print('Replace negative numbers in a list with 0:',lst1)"
   ]
  },
  {
   "cell_type": "markdown",
   "id": "a442c67d-647b-4f8b-a5a9-6537d7fa8f24",
   "metadata": {},
   "source": [
    "43. Convert a string into a list of words."
   ]
  },
  {
   "cell_type": "code",
   "execution_count": 125,
   "id": "c4fc9c5c-f275-47f2-b31b-a2f4378db020",
   "metadata": {},
   "outputs": [
    {
     "name": "stdout",
     "output_type": "stream",
     "text": [
      "string into a list of words: ['Hello,', 'this', 'is', 'my', 'practice', 'in', 'python']\n"
     ]
    }
   ],
   "source": [
    "my_str = \"Hello, this is my practice in python\"\n",
    "word=my_str.split()\n",
    "###words=list(word.split(','))\n",
    "print('string into a list of words:',word)"
   ]
  },
  {
   "cell_type": "markdown",
   "id": "6074f755-c328-4572-b1d3-3d87b7cea57a",
   "metadata": {},
   "source": [
    "44. Convert a list of words into a string.\n"
   ]
  },
  {
   "cell_type": "code",
   "execution_count": 132,
   "id": "f051716e-abd9-4310-a916-06c73df13160",
   "metadata": {},
   "outputs": [
    {
     "name": "stdout",
     "output_type": "stream",
     "text": [
      "list of words into a string: Hello, this is my practice in python\n"
     ]
    }
   ],
   "source": [
    "word=['Hello,', 'this', 'is', 'my', 'practice', 'in', 'python']\n",
    "string=' '.join(word)\n",
    "print('list of words into a string:',string)"
   ]
  },
  {
   "cell_type": "markdown",
   "id": "aff4b4da-9373-4dac-874a-08e1083c1fea",
   "metadata": {},
   "source": [
    "45. Create a list of the first `n` powers of 2."
   ]
  },
  {
   "cell_type": "code",
   "execution_count": 135,
   "id": "2eb1099c-48a2-43bb-927a-aeace6869bfd",
   "metadata": {},
   "outputs": [
    {
     "name": "stdout",
     "output_type": "stream",
     "text": [
      "list of the first n powers of 2: [1, 2, 4, 8, 16]\n"
     ]
    }
   ],
   "source": [
    "n=5\n",
    "n_pow=[2**s for s in range(n)]\n",
    "print('list of the first n powers of 2:',n_pow)"
   ]
  },
  {
   "cell_type": "markdown",
   "id": "2cdfaee8-4341-4eb5-a099-6b9adae80631",
   "metadata": {},
   "source": [
    "46. Find the longest string in a list of strings.\n"
   ]
  },
  {
   "cell_type": "code",
   "execution_count": 140,
   "id": "b6da5f24-4bd0-4724-b6ee-e61493f4da1b",
   "metadata": {},
   "outputs": [
    {
     "name": "stdout",
     "output_type": "stream",
     "text": [
      "longest string in a list: elderberry\n"
     ]
    }
   ],
   "source": [
    "string_list = [\"apple\", \"banana\", \"cherry\", \"date\", \"elderberry\"]\n",
    "long_str=''\n",
    "for s in string_list:\n",
    "    if len(s)>len(long_str):\n",
    "         long_str=s\n",
    "print('longest string in a list:',long_str)"
   ]
  },
  {
   "cell_type": "code",
   "execution_count": 142,
   "id": "16053031-9cec-4939-af75-8bb0f2efabc4",
   "metadata": {},
   "outputs": [
    {
     "name": "stdout",
     "output_type": "stream",
     "text": [
      "Longest string: elderberry\n"
     ]
    }
   ],
   "source": [
    "# Example list of strings\n",
    "string_list = [\"apple\", \"banana\", \"cherry\", \"date\", \"elderberry\"]\n",
    "\n",
    "# Find the longest string in the list\n",
    "longest_string = \"\"\n",
    "for s in string_list:\n",
    "    if len(s) > len(longest_string):\n",
    "        longest_string = s\n",
    "\n",
    "# Print the longest string\n",
    "print(\"Longest string:\", longest_string)"
   ]
  },
  {
   "cell_type": "markdown",
   "id": "ead8d06c-a366-4f0d-b0cd-c1336cf60073",
   "metadata": {},
   "source": [
    "47. Find the shortest string in a list of strings.\n"
   ]
  },
  {
   "cell_type": "code",
   "execution_count": 149,
   "id": "8e7f5ef2-9702-4250-9881-c9ff1c836b32",
   "metadata": {},
   "outputs": [
    {
     "name": "stdout",
     "output_type": "stream",
     "text": [
      "longest string in a list: date\n"
     ]
    }
   ],
   "source": [
    "string_list = [\"apple\", \"banana\", \"cherry\", \"date\", \"elderberry\"]\n",
    "short_str=string_list[0]\n",
    "for s in string_list:\n",
    "    if len(s)<len(short_str):\n",
    "         short_str=s\n",
    "print('longest string in a list:',short_str)"
   ]
  },
  {
   "cell_type": "markdown",
   "id": "4f56cecb-442c-42b1-8085-3e251b1143c8",
   "metadata": {},
   "source": [
    "48. Create a list of the first `n` triangular numbers."
   ]
  },
  {
   "cell_type": "code",
   "execution_count": 152,
   "id": "c2cac42c-acf9-4197-990c-46777e6b1697",
   "metadata": {},
   "outputs": [
    {
     "name": "stdout",
     "output_type": "stream",
     "text": [
      "here is the list of the first n triangular numbers: [0, 1, 3, 6, 10]\n"
     ]
    }
   ],
   "source": [
    "n=5\n",
    "n_trai=[i*(i+1)//2 for i in range(n)]\n",
    "print('here is the list of the first n triangular numbers:',n_trai)"
   ]
  },
  {
   "cell_type": "markdown",
   "id": "28924da7-82ed-4758-a95c-16ede74e80bc",
   "metadata": {},
   "source": [
    "49. Check if a list contains another list as a subsequence."
   ]
  },
  {
   "cell_type": "code",
   "execution_count": 169,
   "id": "80758512-7a57-4744-aa53-c674a38c39f0",
   "metadata": {},
   "outputs": [
    {
     "name": "stdout",
     "output_type": "stream",
     "text": [
      "Main list contains the subsequence.\n"
     ]
    },
    {
     "ename": "IndexError",
     "evalue": "list index out of range",
     "output_type": "error",
     "traceback": [
      "\u001b[1;31m---------------------------------------------------------------------------\u001b[0m",
      "\u001b[1;31mIndexError\u001b[0m                                Traceback (most recent call last)",
      "Cell \u001b[1;32mIn[169], line 5\u001b[0m\n\u001b[0;32m      3\u001b[0m subseq_index\u001b[38;5;241m=\u001b[39m\u001b[38;5;241m0\u001b[39m\n\u001b[0;32m      4\u001b[0m \u001b[38;5;28;01mfor\u001b[39;00m element \u001b[38;5;129;01min\u001b[39;00m main_lst:\n\u001b[1;32m----> 5\u001b[0m     \u001b[38;5;28;01mif\u001b[39;00m element\u001b[38;5;241m==\u001b[39msubsequence[subseq_index]:\n\u001b[0;32m      6\u001b[0m         subseq_index\u001b[38;5;241m+\u001b[39m\u001b[38;5;241m=\u001b[39m\u001b[38;5;241m1\u001b[39m\n\u001b[0;32m      7\u001b[0m         \u001b[38;5;28;01mif\u001b[39;00m subseq_index\u001b[38;5;241m==\u001b[39m\u001b[38;5;28mlen\u001b[39m(subsequence):\n",
      "\u001b[1;31mIndexError\u001b[0m: list index out of range"
     ]
    }
   ],
   "source": [
    "main_lst=[1, 2, 3, 4, 5, 6, 7, 8, 9, 10]\n",
    "subsequence = [3, 5, 8]\n",
    "subseq_index=0\n",
    "for element in main_lst:\n",
    "    if element==subsequence[subseq_index]:\n",
    "        subseq_index+=1\n",
    "        if subseq_index==len(subsequence):\n",
    "             print(\"Main list contains the subsequence.\")\n",
    "print(\"Main list does not contain the subsequence.\")\n",
    "        "
   ]
  },
  {
   "cell_type": "code",
   "execution_count": 161,
   "id": "be0a29e7-fb0e-4bb1-94d5-5f21ee0c2765",
   "metadata": {},
   "outputs": [
    {
     "name": "stdout",
     "output_type": "stream",
     "text": [
      "Main list contains the subsequence.\n"
     ]
    }
   ],
   "source": [
    "# Function to check if a list contains another list as a subsequence\n",
    "def is_subsequence(subsequence, main_list):\n",
    "    subseq_index = 0  # Index for the subsequence elements\n",
    "    for element in main_list:\n",
    "        if element == subsequence[subseq_index]:\n",
    "            subseq_index += 1\n",
    "            if subseq_index == len(subsequence):\n",
    "                return True\n",
    "    return False\n",
    "\n",
    "# Example main list and subsequence\n",
    "main_list = [1, 2, 3, 4, 5, 6, 7, 8, 9, 10]\n",
    "subsequence = [3, 5, 8]\n",
    "\n",
    "# Check if the main list contains the subsequence\n",
    "if is_subsequence(subsequence, main_list):\n",
    "    print(\"Main list contains the subsequence.\")\n",
    "else:\n",
    "    print(\"Main list does not contain the subsequence.\")"
   ]
  },
  {
   "cell_type": "markdown",
   "id": "68565e68-b319-464e-9c90-075093924f36",
   "metadata": {},
   "source": [
    "50. Swap two elements in a list by their indices."
   ]
  },
  {
   "cell_type": "code",
   "execution_count": 176,
   "id": "127c0e6a-d7bd-4c96-943c-87042ddc2a69",
   "metadata": {
    "scrolled": true
   },
   "outputs": [
    {
     "name": "stdout",
     "output_type": "stream",
     "text": [
      "[3, 9, 6, 8, 4, 10]\n"
     ]
    }
   ],
   "source": [
    "lst1=[3,4,6,8,9,10]\n",
    "temp=lst1[1]\n",
    "lst1[1]=lst1[4]\n",
    "lst1[4]=temp\n",
    "print(lst1)"
   ]
  },
  {
   "cell_type": "markdown",
   "id": "d83a8be9-8247-47d0-918a-cef09daab2b8",
   "metadata": {},
   "source": [
    "Tuple Based Practice Problem :"
   ]
  },
  {
   "cell_type": "markdown",
   "id": "b89583ca-c208-4b39-a5f5-a16b22d49d2f",
   "metadata": {},
   "source": [
    "1. Create a tuple with integers from 1 to 5"
   ]
  },
  {
   "cell_type": "code",
   "execution_count": 187,
   "id": "098f0c2a-cf1f-4975-9470-f912b3c5628d",
   "metadata": {},
   "outputs": [
    {
     "name": "stdout",
     "output_type": "stream",
     "text": [
      "tuple with integers from 1 to 5: (1, 2, 3, 4, 5)\n"
     ]
    }
   ],
   "source": [
    "\n",
    "tuple=()\n",
    "for i in range(1,6):\n",
    "    tuple+=(i,)\n",
    "print('tuple with integers from 1 to 5:',tuple)\n",
    "    "
   ]
  },
  {
   "cell_type": "markdown",
   "id": "039a7e7f-9a98-4bd0-9356-aada56b18b00",
   "metadata": {},
   "source": [
    "2. Access the third element of a tuple.\n"
   ]
  },
  {
   "cell_type": "code",
   "execution_count": 190,
   "id": "a0857319-8a00-4985-80dc-fbb5a02009f4",
   "metadata": {},
   "outputs": [
    {
     "name": "stdout",
     "output_type": "stream",
     "text": [
      "30\n"
     ]
    }
   ],
   "source": [
    "my_tuple=(10,20,30,50,60)\n",
    "third_ele=my_tuple[2]\n",
    "print(third_ele)"
   ]
  },
  {
   "cell_type": "markdown",
   "id": "ead47310-670f-45e2-a7e5-ba00003d54f6",
   "metadata": {},
   "source": [
    "3. Find the length of a tuple without using the `len()` function."
   ]
  },
  {
   "cell_type": "code",
   "execution_count": 193,
   "id": "ebec948d-0579-48cf-9b7f-db1be3633c5a",
   "metadata": {},
   "outputs": [
    {
     "name": "stdout",
     "output_type": "stream",
     "text": [
      "The length of a tuple without using the len() function: 5\n"
     ]
    }
   ],
   "source": [
    "my_tuple=(10,20,30,50,60)\n",
    "cnt=0\n",
    "for i in my_tuple:\n",
    "    cnt+=1\n",
    "print('The length of a tuple without using the len() function:',cnt)"
   ]
  },
  {
   "cell_type": "markdown",
   "id": "a3898e30-f05d-4ae9-adba-50184a0bc4e3",
   "metadata": {},
   "source": [
    "4. Count the occurrences of an element in a tuple.\n"
   ]
  },
  {
   "cell_type": "code",
   "execution_count": 198,
   "id": "3af1ae92-463b-4730-9a5c-a4f4136c9822",
   "metadata": {},
   "outputs": [
    {
     "name": "stdout",
     "output_type": "stream",
     "text": [
      " the occurrences of an element 20 in a tuple 2\n"
     ]
    }
   ],
   "source": [
    "my_tuple=(10,20,30,50,20,60)\n",
    "element_cnt=20\n",
    "cnt=0\n",
    "for item in my_tuple:\n",
    "    if item==element_cnt:\n",
    "        cnt+=1\n",
    "print(f' the occurrences of an element {element_cnt} in a tuple {cnt}')\n",
    "        "
   ]
  },
  {
   "cell_type": "markdown",
   "id": "051518ea-aba2-4e28-87c0-bf2ed5715814",
   "metadata": {},
   "source": [
    "5. Find the index of the first occurrence of an element in a tuple.\n"
   ]
  },
  {
   "cell_type": "code",
   "execution_count": 213,
   "id": "35952de3-be72-4147-82e3-b2267125c7b8",
   "metadata": {},
   "outputs": [
    {
     "name": "stdout",
     "output_type": "stream",
     "text": [
      "The first occurrence of 20 is at index 1.\n"
     ]
    }
   ],
   "source": [
    "my_tuple=(10,20,30,50,20,60)\n",
    "element_cnt=20\n",
    "index=-1\n",
    "for i , item in enumerate(my_tuple):\n",
    "    if item ==element_cnt:\n",
    "        index=i\n",
    "        break\n",
    "\n",
    "if index!=-1:\n",
    "    print(f\"The first occurrence of {element_cnt} is at index {index}.\")\n",
    "else:\n",
    "    print(f\"The first occurrence of {element_cnt} not found at index.\")"
   ]
  },
  {
   "cell_type": "code",
   "execution_count": 211,
   "id": "382daec3-5c69-4cb0-be3c-1dbac253d911",
   "metadata": {},
   "outputs": [
    {
     "name": "stdout",
     "output_type": "stream",
     "text": [
      "The first occurrence of 20 is at index 1.\n"
     ]
    }
   ],
   "source": [
    "# Step 1: Create a tuple\n",
    "my_tuple = (10, 20, 30, 20, 40, 50)\n",
    "\n",
    "# Step 2: Choose the element to find the index of\n",
    "element_to_find = 20\n",
    "\n",
    "# Step 3: Initialize a variable to keep track of the index\n",
    "index = -1  # Initialize with -1 to indicate that the element was not found\n",
    "\n",
    "# Step 4: Iterate through the tuple and find the index of the chosen element\n",
    "for i, item in enumerate(my_tuple):\n",
    "    if item == element_to_find:\n",
    "        index = i\n",
    "        break  # Exit the loop once the first occurrence is found\n",
    "\n",
    "# Step 5: Print the index of the first occurrence\n",
    "if index != -1:\n",
    "    print(f\"The first occurrence of {element_to_find} is at index {index}.\")\n",
    "else:\n",
    "    print(f\"{element_to_find} is not found in the tuple.\")"
   ]
  },
  {
   "cell_type": "markdown",
   "id": "6a483daa-fbed-4776-afaa-f66843762b73",
   "metadata": {},
   "source": [
    "6. Check if an element exists in a tuple.\n"
   ]
  },
  {
   "cell_type": "code",
   "execution_count": 218,
   "id": "9643f676-5ec2-46bd-a3f4-ca3b2a2a1e57",
   "metadata": {},
   "outputs": [
    {
     "name": "stdout",
     "output_type": "stream",
     "text": [
      "30 exists in the tuple.\n"
     ]
    }
   ],
   "source": [
    "my_tuple = (10, 20, 30, 20, 40, 50)\n",
    "exits_ele=30\n",
    "if exits_ele in my_tuple:\n",
    "      print(f\"{exits_ele} exists in the tuple.\")\n",
    "else:\n",
    "    print(f\"{exits_ele} does not exist in the tuple\")"
   ]
  },
  {
   "cell_type": "markdown",
   "id": "c9d0c49e-d815-4de2-908a-5f5b7f26ed79",
   "metadata": {},
   "source": [
    "7. Convert a tuple to a list.\n"
   ]
  },
  {
   "cell_type": "code",
   "execution_count": 221,
   "id": "34955718-efe2-45d2-9efa-3901a2b60ddd",
   "metadata": {},
   "outputs": [
    {
     "name": "stdout",
     "output_type": "stream",
     "text": [
      "convert a tuple to a list: [10, 20, 30, 20, 40, 50]\n"
     ]
    }
   ],
   "source": [
    "my_tuple = (10, 20, 30, 20, 40, 50)\n",
    "tuple_list=list(my_tuple)\n",
    "print(f'convert a tuple to a list:',tuple_list)"
   ]
  },
  {
   "cell_type": "markdown",
   "id": "d7b22c17-cd73-40df-a36a-7c70949adef6",
   "metadata": {},
   "source": [
    "8. Convert a list to a tuple.\n"
   ]
  },
  {
   "cell_type": "code",
   "execution_count": 1,
   "id": "ae4c2432-bd13-4f5a-8534-90c8fde8f59b",
   "metadata": {},
   "outputs": [
    {
     "name": "stdout",
     "output_type": "stream",
     "text": [
      "list to a tuple: (10, 20, 30, 20, 40, 50)\n"
     ]
    }
   ],
   "source": [
    "list1=[10, 20, 30, 20, 40, 50]\n",
    "lst_tple= tuple(list1)\n",
    "print(f'list to a tuple:',lst_tple)\n"
   ]
  },
  {
   "cell_type": "markdown",
   "id": "eed746d9-caf8-4be9-bb43-8409cc8e7bdc",
   "metadata": {},
   "source": [
    "9. Unpack the elements of a tuple into variables.\n"
   ]
  },
  {
   "cell_type": "code",
   "execution_count": 4,
   "id": "8ea69b93-f069-4437-9545-fe5fffa7796c",
   "metadata": {},
   "outputs": [
    {
     "name": "stdout",
     "output_type": "stream",
     "text": [
      "tuple into variable1: 10\n",
      "tuple into variable1: 20\n",
      "tuple into variable1: 30\n",
      "tuple into variable1: 40\n",
      "tuple into variable1: 50\n"
     ]
    }
   ],
   "source": [
    "my_tuple = (10, 20, 30, 40, 50)\n",
    "var1,var2,var3,var4,var5= my_tuple\n",
    "print(f'tuple into variable1:',var1)\n",
    "print(f'tuple into variable1:',var2)\n",
    "print(f'tuple into variable1:',var3)\n",
    "print(f'tuple into variable1:',var4)\n",
    "print(f'tuple into variable1:',var5)"
   ]
  },
  {
   "cell_type": "markdown",
   "id": "5b0d992d-d11d-4a41-8cbc-cb137857cd11",
   "metadata": {},
   "source": [
    "10. Create a tuple of even numbers from 1 to 10."
   ]
  },
  {
   "cell_type": "code",
   "execution_count": 7,
   "id": "7e5e5b1b-5073-403e-99c1-70b03f230ccf",
   "metadata": {},
   "outputs": [
    {
     "name": "stdout",
     "output_type": "stream",
     "text": [
      "tuple of even number from 1 to 10; (2, 4, 6, 8, 10)\n"
     ]
    }
   ],
   "source": [
    "evn_num_lst=[num for num in range(2,11,2)]\n",
    "tup_lst=tuple(evn_num_lst)\n",
    "print(f'tuple of even number from 1 to 10;',tup_lst)"
   ]
  },
  {
   "cell_type": "markdown",
   "id": "8eb2c09d-06e6-426d-a936-1cb8674f6a1a",
   "metadata": {},
   "source": [
    "11. Create a tuple of odd numbers from 1 to 10."
   ]
  },
  {
   "cell_type": "code",
   "execution_count": 10,
   "id": "60f0422d-46a7-4320-bd0c-e2669543931f",
   "metadata": {},
   "outputs": [
    {
     "name": "stdout",
     "output_type": "stream",
     "text": [
      "tuple of even number from 1 to 10; (1, 3, 5, 7, 9)\n"
     ]
    }
   ],
   "source": [
    "evn_num_lst=[num for num in range(1,11,2)]\n",
    "tup_lst=tuple(evn_num_lst)\n",
    "print(f'tuple of even number from 1 to 10;',tup_lst)"
   ]
  },
  {
   "cell_type": "markdown",
   "id": "f39e43f3-92e3-480a-ac9c-838016a8f340",
   "metadata": {},
   "source": [
    "12. Concatenate two tuples.\n"
   ]
  },
  {
   "cell_type": "code",
   "execution_count": 13,
   "id": "c130feaa-8ff1-4dba-b82c-48a4027657b3",
   "metadata": {},
   "outputs": [
    {
     "name": "stdout",
     "output_type": "stream",
     "text": [
      "concatenate of tuple: (10, 20, 30, 40, 50, 60, 50, 30, 90, 80)\n"
     ]
    }
   ],
   "source": [
    "my_tuple1 = (10, 20, 30, 40, 50)\n",
    "my_tuple2 = (60, 50, 30, 90, 80)\n",
    "con_tup=my_tuple1+my_tuple2\n",
    "print(f'concatenate of tuple:',con_tup)"
   ]
  },
  {
   "cell_type": "markdown",
   "id": "918ca273-8974-49ce-b1bf-85517c5ee80a",
   "metadata": {},
   "source": [
    "13. Repeat a tuple three times.\n"
   ]
  },
  {
   "cell_type": "code",
   "execution_count": 16,
   "id": "d22ddb2b-568b-42c8-8719-05213fab8270",
   "metadata": {},
   "outputs": [
    {
     "name": "stdout",
     "output_type": "stream",
     "text": [
      "tuple three times: (10, 20, 30, 40, 50, 10, 20, 30, 40, 50, 10, 20, 30, 40, 50)\n"
     ]
    }
   ],
   "source": [
    "my_tuple1 = (10, 20, 30, 40, 50)\n",
    "rep_tup=my_tuple*3\n",
    "print(f'tuple three times:',rep_tup)"
   ]
  },
  {
   "cell_type": "markdown",
   "id": "1e4e4b75-9467-4f90-8e3d-957b448a1487",
   "metadata": {},
   "source": [
    "14. Check if a tuple is empty."
   ]
  },
  {
   "cell_type": "code",
   "execution_count": 19,
   "id": "25f6a1f5-46c6-48a7-887b-74d96ea924be",
   "metadata": {},
   "outputs": [
    {
     "name": "stdout",
     "output_type": "stream",
     "text": [
      "empty tuple is empty.\n",
      "non empty tuple is not empty.\n"
     ]
    }
   ],
   "source": [
    "empty_tuple=()\n",
    "non_empty_tuple=(1,2,3,4,5)\n",
    "if not empty_tuple:\n",
    "    print('empty tuple is empty.')\n",
    "else:\n",
    "    print('empty tuple is not empty.')\n",
    "if not non_empty_tuple:\n",
    "     print('non empty tuple is empty.')\n",
    "else:\n",
    "    print('non empty tuple is not empty.')"
   ]
  },
  {
   "cell_type": "markdown",
   "id": "d151e37f-05ad-4c8b-bec4-a5ea39a1cc71",
   "metadata": {},
   "source": [
    "15. Create a nested tuple."
   ]
  },
  {
   "cell_type": "code",
   "execution_count": 22,
   "id": "0f37cf3f-2079-4e8f-9128-a7d8cb77e12e",
   "metadata": {},
   "outputs": [
    {
     "name": "stdout",
     "output_type": "stream",
     "text": [
      "Nested tuple: ((10, 20, 30, 40, 50), (True, False), ('a', 'b', 'c'))\n"
     ]
    }
   ],
   "source": [
    "my_tuple1 = ((10, 20, 30, 40, 50),(True,False),('a','b','c'))\n",
    "print(f'Nested tuple:',my_tuple1)"
   ]
  },
  {
   "cell_type": "markdown",
   "id": "fddf7bdf-cce3-4755-adb1-e1a9e11ca639",
   "metadata": {},
   "source": [
    "16. Access the first element of a nested tuple.\n"
   ]
  },
  {
   "cell_type": "code",
   "execution_count": 25,
   "id": "c5c099c1-13cf-4a82-aa00-572e13e22699",
   "metadata": {},
   "outputs": [
    {
     "name": "stdout",
     "output_type": "stream",
     "text": [
      "(10, 20, 30, 40, 50)\n"
     ]
    }
   ],
   "source": [
    "my_tuple1 = ((10, 20, 30, 40, 50),(True,False),('a','b','c'))\n",
    "fst_tple= my_tuple1[0]\n",
    "print(fst_tple)"
   ]
  },
  {
   "cell_type": "markdown",
   "id": "0d128223-58d2-4ea4-ae03-bf3a60e3f52c",
   "metadata": {},
   "source": [
    "17. Create a tuple with a single element."
   ]
  },
  {
   "cell_type": "code",
   "execution_count": 30,
   "id": "dde555e7-5b63-49fd-a025-662cba441ab0",
   "metadata": {},
   "outputs": [
    {
     "name": "stdout",
     "output_type": "stream",
     "text": [
      "tuple with single element: ('a',)\n"
     ]
    }
   ],
   "source": [
    "tup=('a',)\n",
    "print(f'tuple with single element:',tup)"
   ]
  },
  {
   "cell_type": "markdown",
   "id": "c7c42d0b-8b7c-403b-a9b8-d9fdeacab3ba",
   "metadata": {},
   "source": [
    "18. Compare two tuples.\n"
   ]
  },
  {
   "cell_type": "code",
   "execution_count": 35,
   "id": "fd7a415b-b189-4fac-b26d-adff29c6a79c",
   "metadata": {},
   "outputs": [
    {
     "name": "stdout",
     "output_type": "stream",
     "text": [
      "tuple1 == tuple2: False\n",
      "tuple1 >= tuple2: False\n",
      "tuple1 <= tuple2: True\n",
      "tuple1 != tuple2: True\n",
      "tuple1 < tuple2: True\n",
      "tuple1 > tuple2: False\n"
     ]
    }
   ],
   "source": [
    "tuple1=(1,3,5,6)\n",
    "tuple2=(2,4,5,6)\n",
    "print(\"tuple1 == tuple2:\", tuple1 == tuple2)\n",
    "print(\"tuple1 >= tuple2:\", tuple1 >= tuple2)\n",
    "print(\"tuple1 <= tuple2:\", tuple1 <= tuple2)\n",
    "print(\"tuple1 != tuple2:\", tuple1 != tuple2)\n",
    "print(\"tuple1 < tuple2:\", tuple1 < tuple2)\n",
    "print(\"tuple1 > tuple2:\", tuple1 > tuple2)"
   ]
  },
  {
   "cell_type": "markdown",
   "id": "0503b61f-735a-40a2-8c19-7734c3d0155e",
   "metadata": {},
   "source": [
    "19. Delete a tuple."
   ]
  },
  {
   "cell_type": "code",
   "execution_count": 5,
   "id": "231e3a45-cd5f-48cc-b518-654da309c0d9",
   "metadata": {},
   "outputs": [
    {
     "ename": "NameError",
     "evalue": "name 'tuple1' is not defined",
     "output_type": "error",
     "traceback": [
      "\u001b[1;31m---------------------------------------------------------------------------\u001b[0m",
      "\u001b[1;31mNameError\u001b[0m                                 Traceback (most recent call last)",
      "Cell \u001b[1;32mIn[5], line 3\u001b[0m\n\u001b[0;32m      1\u001b[0m tuple1\u001b[38;5;241m=\u001b[39m(\u001b[38;5;241m1\u001b[39m,\u001b[38;5;241m3\u001b[39m,\u001b[38;5;241m5\u001b[39m,\u001b[38;5;241m6\u001b[39m)\n\u001b[0;32m      2\u001b[0m \u001b[38;5;28;01mdel\u001b[39;00m tuple1\n\u001b[1;32m----> 3\u001b[0m \u001b[38;5;28mprint\u001b[39m(tuple1)\n",
      "\u001b[1;31mNameError\u001b[0m: name 'tuple1' is not defined"
     ]
    }
   ],
   "source": [
    "tuple1=(1,3,5,6)\n",
    "del tuple1\n",
    "print(tuple1)"
   ]
  },
  {
   "cell_type": "markdown",
   "id": "3fb91411-a4b8-421a-96de-46b0169f4bc2",
   "metadata": {},
   "source": [
    "20. Slice a tuple"
   ]
  },
  {
   "cell_type": "code",
   "execution_count": 14,
   "id": "f09f053b-232b-4e5e-b770-d07f130788a0",
   "metadata": {},
   "outputs": [
    {
     "name": "stdout",
     "output_type": "stream",
     "text": [
      "(3, 4, 5, 6)\n"
     ]
    }
   ],
   "source": [
    "my_tuple = (1, 2, 3, 4, 5, 6, 7, 8, 9, 10)\n",
    "sl_tup=my_tuple[2:6]\n",
    "print(sl_tup)"
   ]
  },
  {
   "cell_type": "markdown",
   "id": "c7c39443-beb2-4549-b26b-68c9788d90c9",
   "metadata": {},
   "source": [
    "21. Find the maximum value in a tuple.\n"
   ]
  },
  {
   "cell_type": "code",
   "execution_count": 19,
   "id": "0cc39fa6-7cca-441b-9b24-056f5b4eddc7",
   "metadata": {},
   "outputs": [
    {
     "name": "stdout",
     "output_type": "stream",
     "text": [
      "the maximum value in a tuple: 10\n"
     ]
    }
   ],
   "source": [
    "my_tuple = (1, 2, 3, 4, 5, 6, 7, 8, 9, 10)\n",
    "max_va=max(my_tuple)\n",
    "print(f'the maximum value in a tuple:',max_va)"
   ]
  },
  {
   "cell_type": "markdown",
   "id": "fa9a0f67-fa1c-46da-9ca2-44394e429818",
   "metadata": {},
   "source": [
    "22. Find the minimum value in a tuple."
   ]
  },
  {
   "cell_type": "code",
   "execution_count": 22,
   "id": "c758479d-816f-49f7-b5a8-4b238e44a3b8",
   "metadata": {
    "scrolled": true
   },
   "outputs": [
    {
     "name": "stdout",
     "output_type": "stream",
     "text": [
      "the minimum value in a tuple: 1\n"
     ]
    }
   ],
   "source": [
    "my_tuple = (1, 2, 3, 4, 5, 6, 7, 8, 9, 10)\n",
    "min_val=min(my_tuple)\n",
    "print(f'the minimum value in a tuple:',min_val)"
   ]
  },
  {
   "cell_type": "markdown",
   "id": "11386db1-c860-4b71-892e-88ba9aad5324",
   "metadata": {},
   "source": [
    "23. Convert a string to a tuple of characters."
   ]
  },
  {
   "cell_type": "code",
   "execution_count": 25,
   "id": "3c676ce5-eef8-461a-b827-30857b32e6a4",
   "metadata": {},
   "outputs": [
    {
     "name": "stdout",
     "output_type": "stream",
     "text": [
      "a string to a tuple of characters: ('a', 'b', 'j', 'f', 'k', 'f', 'g', 'g', 'h')\n"
     ]
    }
   ],
   "source": [
    "str='abjfkfggh'\n",
    "tup_chr=tuple(str)\n",
    "print('a string to a tuple of characters:',tup_chr)"
   ]
  },
  {
   "cell_type": "markdown",
   "id": "ebca5839-2b8c-4b28-bf2c-19a0f0f740f3",
   "metadata": {},
   "source": [
    "24. Convert a tuple of characters to a string."
   ]
  },
  {
   "cell_type": "code",
   "execution_count": 30,
   "id": "cc4ed5a0-251a-491b-9fc0-d5b810e3bbc9",
   "metadata": {},
   "outputs": [
    {
     "name": "stdout",
     "output_type": "stream",
     "text": [
      "tuple of characters to a string: abjfkfggh\n"
     ]
    }
   ],
   "source": [
    "tuple_chr= ('a', 'b', 'j', 'f', 'k', 'f', 'g', 'g', 'h')\n",
    "str_tup=''.join(tuple_chr)\n",
    "print('tuple of characters to a string:',str_tup)"
   ]
  },
  {
   "cell_type": "markdown",
   "id": "3fcc4471-0a44-476d-ab74-96156ea674d5",
   "metadata": {},
   "source": [
    "25. Create a tuple from multiple data types.\n"
   ]
  },
  {
   "cell_type": "code",
   "execution_count": 33,
   "id": "ca43761a-173c-4b3a-ae76-9cd2176b2b4a",
   "metadata": {},
   "outputs": [
    {
     "name": "stdout",
     "output_type": "stream",
     "text": [
      "(1, 2, 'suma', True, 10.5)\n"
     ]
    }
   ],
   "source": [
    "my_tuple = (1, 2, 'suma',True,10.50)\n",
    "print(my_tuple)"
   ]
  },
  {
   "cell_type": "markdown",
   "id": "7884a277-2cc0-464e-88c3-8e0cf3653357",
   "metadata": {},
   "source": [
    "26. Check if two tuples are identical."
   ]
  },
  {
   "cell_type": "code",
   "execution_count": 36,
   "id": "777287ea-1e47-4a2f-8309-191be0cbdb15",
   "metadata": {},
   "outputs": [
    {
     "name": "stdout",
     "output_type": "stream",
     "text": [
      "False\n"
     ]
    }
   ],
   "source": [
    "tuple1=(10,20,40,50)\n",
    "tuple2=(20,30,50,60)\n",
    "are_ident=tuple1==tuple2\n",
    "print(are_ident)"
   ]
  },
  {
   "cell_type": "markdown",
   "id": "c5002374-6dc6-4e9f-a053-fc6fef7b213d",
   "metadata": {},
   "source": [
    "27. Sort the elements of a tuple.\n"
   ]
  },
  {
   "cell_type": "code",
   "execution_count": 41,
   "id": "4a1551fe-66b8-4efc-b758-094c134e6208",
   "metadata": {},
   "outputs": [
    {
     "name": "stdout",
     "output_type": "stream",
     "text": [
      "[10, 20, 50, 60, 70]\n"
     ]
    }
   ],
   "source": [
    "tuple1=(60,20,10,50,70)\n",
    "sort_tup=sorted(tuple1)\n",
    "print(sort_tup)"
   ]
  },
  {
   "cell_type": "markdown",
   "id": "d8c74ba6-19e4-4f2a-a795-2e55c12f8eba",
   "metadata": {},
   "source": [
    "28. Convert a tuple of integers to a tuple of strings."
   ]
  },
  {
   "cell_type": "code",
   "execution_count": 1,
   "id": "0137050f-e780-4d3d-a9ac-985d1604569a",
   "metadata": {},
   "outputs": [
    {
     "name": "stdout",
     "output_type": "stream",
     "text": [
      "tuple of integers to a tuple of strings: ('60', '20', '10', '50', '70')\n"
     ]
    }
   ],
   "source": [
    "tuple1=(60,20,10,50,70)\n",
    "str_tup=tuple(str(item) for item in tuple1)\n",
    "print('tuple of integers to a tuple of strings:',str_tup)"
   ]
  },
  {
   "cell_type": "markdown",
   "id": "11cc74d7-1c55-4d91-82d1-7762fd42b305",
   "metadata": {},
   "source": [
    "29. Convert a tuple of strings to a tuple of integers."
   ]
  },
  {
   "cell_type": "code",
   "execution_count": 4,
   "id": "6a2da354-6ce5-47cf-bf4d-9ef8b0e9f7da",
   "metadata": {},
   "outputs": [
    {
     "name": "stdout",
     "output_type": "stream",
     "text": [
      "tuple of strings to a tuple of integers: (60, 20, 10, 50, 70)\n"
     ]
    }
   ],
   "source": [
    "tuple1=('60', '20', '10', '50', '70')\n",
    "int_tup=tuple(int(item) for item in tuple1)\n",
    "print('tuple of strings to a tuple of integers:',int_tup)"
   ]
  },
  {
   "cell_type": "markdown",
   "id": "05355d41-7c70-4a9f-9050-259ba872ae3e",
   "metadata": {},
   "source": [
    "30. Merge two tuples.\n"
   ]
  },
  {
   "cell_type": "code",
   "execution_count": 11,
   "id": "f0f8c8d2-7dc1-4b33-8097-a04466d1142c",
   "metadata": {},
   "outputs": [
    {
     "name": "stdout",
     "output_type": "stream",
     "text": [
      "(60, 20, 10, 50, 70, 60, 70, 80, 90)\n"
     ]
    }
   ],
   "source": [
    "tuple1=(60,20,10,50,70)\n",
    "tuple2=(60,70,80,90)\n",
    "merg_tup=tuple1+tuple2\n",
    "print(merg_tup)"
   ]
  },
  {
   "cell_type": "markdown",
   "id": "6346f3a0-a5c6-4147-b3b6-5ed6fa49152a",
   "metadata": {},
   "source": [
    "31. Flatten a nested tuple.\n"
   ]
  },
  {
   "cell_type": "code",
   "execution_count": 56,
   "id": "97b57105-7b9d-4c37-a38d-ec053872a9bd",
   "metadata": {},
   "outputs": [
    {
     "name": "stdout",
     "output_type": "stream",
     "text": [
      "Flatten a nested tuple:60 20 10 50 70 80 90 20 35\n"
     ]
    }
   ],
   "source": [
    "tuple1=((60,20,10),(50,70,80),(90,20,35))\n",
    "res=' '.join([str(item) for item1 in tuple1 for item in item1])\n",
    "print(f'Flatten a nested tuple:'+(res))\n",
    "        "
   ]
  },
  {
   "cell_type": "code",
   "execution_count": 58,
   "id": "a224541a-80f8-4984-b2a3-3ca53d97dc41",
   "metadata": {},
   "outputs": [
    {
     "name": "stdout",
     "output_type": "stream",
     "text": [
      "The original list : (('1', '4', '6'), ('5', '8'), ('2', '9'), ('1', '10'))\n",
      "Tuple list converted to String is : 1 4 6 5 8 2 9 1 10\n"
     ]
    }
   ],
   "source": [
    "test_list = (('1', '4', '6'), ('5', '8'), ('2', '9'), ('1', '10'))\n",
    " \n",
    "# printing original tuples list\n",
    "print(\"The original list : \" + str(test_list))\n",
    " \n",
    "# Flatten Tuples List to String\n",
    "# using join() + list comprehension\n",
    "res = ' '.join([idx for tup in test_list for idx in tup])\n",
    " \n",
    "# printing result\n",
    "print(\"Tuple list converted to String is : \" + (res))\n"
   ]
  },
  {
   "cell_type": "markdown",
   "id": "6bb7fabb-4a25-4492-9980-ffb3b38ff5dd",
   "metadata": {},
   "source": [
    "32. Create a tuple of the first 5 prime numbers."
   ]
  },
  {
   "cell_type": "code",
   "execution_count": 19,
   "id": "9f6a6ed5-314f-48be-a5cf-06c238c0decc",
   "metadata": {},
   "outputs": [
    {
     "name": "stdin",
     "output_type": "stream",
     "text": [
      "enter the prime numbers: 12\n"
     ]
    },
    {
     "name": "stdout",
     "output_type": "stream",
     "text": [
      "the number is a prime number: 2\n",
      "the number is a prime number: 3\n"
     ]
    }
   ],
   "source": [
    "n=int(input('enter the prime numbers:'))\n",
    "if n<=1:\n",
    "    print('the number not a prime number')\n",
    "for i in range(2,int(n**0.5)+1):\n",
    "    if n%i==0:\n",
    "        print('the number is a prime number:',i)\n",
    "\n",
    "        \n",
    "      "
   ]
  },
  {
   "cell_type": "code",
   "execution_count": 17,
   "id": "4b76494e-4c35-477f-843c-9439620317b1",
   "metadata": {},
   "outputs": [
    {
     "name": "stdout",
     "output_type": "stream",
     "text": [
      "Tuple of the first 5 prime numbers: (2, 3, 5, 7, 11)\n"
     ]
    }
   ],
   "source": [
    "# Function to check if a number is prime\n",
    "def is_prime(num):\n",
    "    if num <= 1:\n",
    "        return False\n",
    "    for i in range(2, int(num ** 0.5) + 1):\n",
    "        if num % i == 0:\n",
    "            return False\n",
    "    return True\n",
    "\n",
    "# Generate the first 5 prime numbers\n",
    "prime_numbers_list = [num for num in range(2, 100) if is_prime(num)][:5]\n",
    "\n",
    "# Convert the list to a tuple\n",
    "prime_numbers_tuple = tuple(prime_numbers_list)\n",
    "\n",
    "# Print the tuple of prime numbers\n",
    "print(\"Tuple of the first 5 prime numbers:\", prime_numbers_tuple)"
   ]
  },
  {
   "cell_type": "markdown",
   "id": "57f25f59-f35f-4f4d-adde-66558a594749",
   "metadata": {},
   "source": [
    "33. Check if a tuple is a palindrome."
   ]
  },
  {
   "cell_type": "code",
   "execution_count": 36,
   "id": "0ef39699-a3ff-4cdf-9316-7c98e433a30a",
   "metadata": {},
   "outputs": [
    {
     "name": "stdout",
     "output_type": "stream",
     "text": [
      "tuple is a palindrome: (1, 2, 3, 2, 1)\n"
     ]
    }
   ],
   "source": [
    "tup = (1, 2, 3,2, 1)\n",
    "if tup == tup[::-1]:\n",
    "    print('tuple is a palindrome:',tup)\n",
    "else:\n",
    "    print('tuple is not a palindrome:',tup)\n",
    "\n"
   ]
  },
  {
   "cell_type": "markdown",
   "id": "a116519c-4be8-4cb7-a42b-3ee4185b708a",
   "metadata": {},
   "source": [
    "34. Create a tuple of squares of numbers from 1 to 5.\n"
   ]
  },
  {
   "cell_type": "code",
   "execution_count": 43,
   "id": "0a214e8e-b658-4e5d-bcd3-ab429e7644a7",
   "metadata": {},
   "outputs": [
    {
     "name": "stdin",
     "output_type": "stream",
     "text": [
      "enter the squares of numbers: 6\n"
     ]
    },
    {
     "name": "stdout",
     "output_type": "stream",
     "text": [
      "tuple of squares of numbers from 1 to 5 (1, 4, 9, 16, 25)\n"
     ]
    }
   ],
   "source": [
    "n=int(input('enter the squares of numbers:'))\n",
    "res=tuple(num**2 for num in range(1,n))\n",
    "print('tuple of squares of numbers from 1 to 5',res)"
   ]
  },
  {
   "cell_type": "markdown",
   "id": "6ecd2d72-6182-442f-be7e-b047a0ae1aee",
   "metadata": {},
   "source": [
    "35. Filter out all even numbers from a tuple."
   ]
  },
  {
   "cell_type": "code",
   "execution_count": 56,
   "id": "a76bfe04-9fbd-4f10-a7d7-c6042abfeadf",
   "metadata": {},
   "outputs": [
    {
     "name": "stdin",
     "output_type": "stream",
     "text": [
      "enter the numbers: 21\n"
     ]
    },
    {
     "name": "stdout",
     "output_type": "stream",
     "text": [
      "THE EVEN NUMBERS: (2, 4, 6, 8, 10, 12, 14, 16, 18, 20)\n"
     ]
    }
   ],
   "source": [
    "n=int(input('enter the numbers:'))\n",
    "even_num= tuple (i for i in range(2,n+1) if i%2==0)\n",
    "print('THE EVEN NUMBERS:',even_num)\n",
    "      "
   ]
  },
  {
   "cell_type": "markdown",
   "id": "85d60faf-db4f-4c26-a3f3-daf1b6408754",
   "metadata": {},
   "source": [
    "36. Multiply all elements in a tuple by 2."
   ]
  },
  {
   "cell_type": "code",
   "execution_count": 61,
   "id": "3c4d6b59-a7ab-4472-82e4-55a87d1730ee",
   "metadata": {},
   "outputs": [
    {
     "name": "stdout",
     "output_type": "stream",
     "text": [
      "Multiply all elements in a tuple: (2, 8, 18, 32, 50)\n"
     ]
    }
   ],
   "source": [
    "tup=(1, 4, 9, 16, 25)\n",
    "mul_tup= tuple(num*2 for num in tup)\n",
    "print('Multiply all elements in a tuple:',mul_tup)"
   ]
  },
  {
   "cell_type": "markdown",
   "id": "34ae0535-29e4-44b0-9c0b-a9d1b669cc6b",
   "metadata": {},
   "source": [
    "37. Create a tuple of random numbers.\n"
   ]
  },
  {
   "cell_type": "code",
   "execution_count": 68,
   "id": "0768b0ce-e15b-4e9e-97a2-15a02e21a334",
   "metadata": {},
   "outputs": [
    {
     "name": "stdout",
     "output_type": "stream",
     "text": [
      "tuple of random numbers: (11, 72, 66, 80, 86, 1, 70, 14, 56, 88)\n"
     ]
    }
   ],
   "source": [
    "import random\n",
    "rand_tup=tuple(random.randint(1,100) for i in range(10))\n",
    "print('tuple of random numbers:',rand_tup)"
   ]
  },
  {
   "cell_type": "markdown",
   "id": "3614f35d-03c6-4488-8e00-253fee00c11b",
   "metadata": {},
   "source": [
    "38. Check if a tuple is sorted."
   ]
  },
  {
   "cell_type": "code",
   "execution_count": 71,
   "id": "ea0587e3-02f9-43e3-80a2-66b3fda5de99",
   "metadata": {},
   "outputs": [
    {
     "ename": "AttributeError",
     "evalue": "'tuple' object has no attribute 'sorted'",
     "output_type": "error",
     "traceback": [
      "\u001b[1;31m---------------------------------------------------------------------------\u001b[0m",
      "\u001b[1;31mAttributeError\u001b[0m                            Traceback (most recent call last)",
      "Cell \u001b[1;32mIn[71], line 2\u001b[0m\n\u001b[0;32m      1\u001b[0m \u001b[38;5;28mtuple\u001b[39m\u001b[38;5;241m=\u001b[39m(\u001b[38;5;241m11\u001b[39m, \u001b[38;5;241m72\u001b[39m, \u001b[38;5;241m66\u001b[39m, \u001b[38;5;241m80\u001b[39m, \u001b[38;5;241m86\u001b[39m, \u001b[38;5;241m1\u001b[39m)\n\u001b[1;32m----> 2\u001b[0m srt_tup\u001b[38;5;241m=\u001b[39m\u001b[38;5;28mtuple\u001b[39m\u001b[38;5;241m.\u001b[39msorted()\n\u001b[0;32m      3\u001b[0m \u001b[38;5;28mprint\u001b[39m(srt_tup)\n",
      "\u001b[1;31mAttributeError\u001b[0m: 'tuple' object has no attribute 'sorted'"
     ]
    }
   ],
   "source": [
    "tuple=(11, 72, 66, 80, 86, 1)\n",
    "srt_tup=tuple.sorted()\n",
    "print(srt_tup)"
   ]
  },
  {
   "cell_type": "code",
   "execution_count": 74,
   "id": "817ade81-a60e-4883-9a78-51633012940f",
   "metadata": {},
   "outputs": [
    {
     "name": "stdout",
     "output_type": "stream",
     "text": [
      "sorted_tuple is sorted: True\n",
      "unsorted_tuple is sorted: False\n"
     ]
    }
   ],
   "source": [
    "def is_sorted(tup):\n",
    "    for i in range(len(tup) - 1):\n",
    "        if tup[i] > tup[i + 1]:\n",
    "            return False\n",
    "    return True\n",
    "\n",
    "# Create tuples for testing\n",
    "sorted_tuple = (1, 2, 3, 4, 5)\n",
    "unsorted_tuple = (5, 3, 1, 4, 2)\n",
    "\n",
    "# Check if the tuples are sorted\n",
    "is_sorted1 = is_sorted(sorted_tuple)\n",
    "is_sorted2 = is_sorted(unsorted_tuple)\n",
    "\n",
    "# Print the results\n",
    "print(\"sorted_tuple is sorted:\", is_sorted1)\n",
    "print(\"unsorted_tuple is sorted:\", is_sorted2)"
   ]
  },
  {
   "cell_type": "markdown",
   "id": "6302e12e-aeed-4406-a5e4-52fecc84e556",
   "metadata": {},
   "source": [
    "39. Rotate a tuple to the left by `n` positions.\n"
   ]
  },
  {
   "cell_type": "code",
   "execution_count": 80,
   "id": "a8c6fd13-419e-4439-aec0-de0e592a953c",
   "metadata": {},
   "outputs": [
    {
     "name": "stdout",
     "output_type": "stream",
     "text": [
      "Rotate a tuple to the left by n positions: (4, 9, 16, 25, 1)\n"
     ]
    }
   ],
   "source": [
    "my_tup=(2,5,4,6,8.9)\n",
    "n_pos=2\n",
    "n_pos=n_pos%len(my_tup)\n",
    "tup_n=tup[n:]+tup[:n]\n",
    "print('Rotate a tuple to the left by n positions:',tup_n)"
   ]
  },
  {
   "cell_type": "code",
   "execution_count": 78,
   "id": "bc51520e-80c5-43db-95ba-af25328e8710",
   "metadata": {},
   "outputs": [
    {
     "name": "stdout",
     "output_type": "stream",
     "text": [
      "(3, 4, 5, 1, 2)\n"
     ]
    }
   ],
   "source": [
    "def rotate_tuple_left(tup, n):\n",
    "    n = n % len(tup)  # Ensure n is within the range of tuple length\n",
    "    rotated_tuple = tup[n:] + tup[:n]  # Rotate the tuple\n",
    "    return rotated_tuple\n",
    "\n",
    "# Example tuple\n",
    "my_tuple = (1, 2, 3, 4, 5)\n",
    "n_positions = 2\n",
    "result = rotate_tuple_left(my_tuple, n_positions)\n",
    "print(result)"
   ]
  },
  {
   "cell_type": "markdown",
   "id": "8ae58352-6891-486d-ae27-c4db5ed50954",
   "metadata": {},
   "source": [
    "40. Rotate a tuple to the right by `n` positions.\n"
   ]
  },
  {
   "cell_type": "code",
   "execution_count": 83,
   "id": "9f89e297-0daf-45e6-9fe8-2831932bea34",
   "metadata": {
    "scrolled": true
   },
   "outputs": [
    {
     "name": "stdout",
     "output_type": "stream",
     "text": [
      "(4, 5, 1, 2, 3)\n"
     ]
    }
   ],
   "source": [
    "def rotate_tuple_left(tup, n):\n",
    "    n = n % len(tup)  # Ensure n is within the range of tuple length\n",
    "    rotated_tuple = tup[-n:] + tup[:-n]  # Rotate the tuple\n",
    "    return rotated_tuple\n",
    "\n",
    "# Example tuple\n",
    "my_tuple = (1, 2, 3, 4, 5)\n",
    "n_positions = 2\n",
    "result = rotate_tuple_left(my_tuple, n_positions)\n",
    "print(result)"
   ]
  },
  {
   "cell_type": "markdown",
   "id": "54dab86c-8045-4e90-9535-84758bc9a4da",
   "metadata": {},
   "source": [
    "41. Create a tuple of the first 5 Fibonacci numbers"
   ]
  },
  {
   "cell_type": "code",
   "execution_count": 1,
   "id": "8dca71f6-f4f0-4c09-affd-03d314260746",
   "metadata": {},
   "outputs": [
    {
     "name": "stdout",
     "output_type": "stream",
     "text": [
      "(0, 1, 1, 2, 3)\n"
     ]
    }
   ],
   "source": [
    "# Define a function to generate the first n Fibonacci numbers\n",
    "def generate_fibonacci(n):\n",
    "    fibonacci = [0, 1]  # Initialize the list with the first two Fibonacci numbers\n",
    "    while len(fibonacci) < n:  # Continue generating Fibonacci numbers until the list has n elements\n",
    "        next_number = fibonacci[-1] + fibonacci[-2]  # Calculate the next Fibonacci number\n",
    "        fibonacci.append(next_number)  # Add the next Fibonacci number to the list\n",
    "    return tuple(fibonacci)  # Convert the list to a tuple and return it\n",
    "\n",
    "# Call the generate_fibonacci function to create a tuple of the first 5 Fibonacci numbers\n",
    "fibonacci_tuple = generate_fibonacci(5)\n",
    "\n",
    "# Print the resulting tuple\n",
    "print(fibonacci_tuple)"
   ]
  },
  {
   "cell_type": "markdown",
   "id": "251eadde-9b90-4195-82e1-05f1b9ec0895",
   "metadata": {},
   "source": [
    "42. Create a tuple from user input."
   ]
  },
  {
   "cell_type": "code",
   "execution_count": 4,
   "id": "dbe47ef5-4dc1-462c-826c-1c4728f9842b",
   "metadata": {},
   "outputs": [
    {
     "name": "stdin",
     "output_type": "stream",
     "text": [
      "enter the elements seprated by comma: 2,3,5,67,'amma'\n"
     ]
    },
    {
     "name": "stdout",
     "output_type": "stream",
     "text": [
      "A tuple from user input: ('2', ',', '3', ',', '5', ',', '6', '7', ',', \"'\", 'a', 'm', 'm', 'a', \"'\")\n"
     ]
    }
   ],
   "source": [
    "tup=input('enter the elements seprated by comma:')\n",
    "print('A tuple from user input:',tuple(tup))"
   ]
  },
  {
   "cell_type": "markdown",
   "id": "39f473b5-0a0a-4027-b85f-c06dc2e5ebb6",
   "metadata": {},
   "source": [
    "43. Swap two elements in a tuple"
   ]
  },
  {
   "cell_type": "code",
   "execution_count": 6,
   "id": "ef898adb-d575-45d0-88a5-62bba078ba8e",
   "metadata": {},
   "outputs": [
    {
     "name": "stdout",
     "output_type": "stream",
     "text": [
      "Swapped tuple: (1, 4, 3, 2, 5)\n"
     ]
    }
   ],
   "source": [
    "# Create a tuple\n",
    "my_tuple = (1, 2, 3, 4, 5)\n",
    "\n",
    "# Swap elements at indices 1 and 3\n",
    "index1 = 1\n",
    "index2 = 3\n",
    "swapped_tuple = tuple(\n",
    "    my_tuple[i] if i not in (index1, index2) else\n",
    "    my_tuple[index2] if i == index1 else\n",
    "    my_tuple[index1]\n",
    "    for i in range(len(my_tuple))\n",
    ")\n",
    "\n",
    "# Print the swapped tuple\n",
    "print(\"Swapped tuple:\", swapped_tuple)"
   ]
  },
  {
   "cell_type": "markdown",
   "id": "98e3f5dd-bc18-4bfa-a357-03f04d4148ac",
   "metadata": {},
   "source": [
    "44. Reverse the elements of a tuple."
   ]
  },
  {
   "cell_type": "code",
   "execution_count": 10,
   "id": "5eb29e91-5525-4eee-883e-42ffc317473e",
   "metadata": {},
   "outputs": [
    {
     "name": "stdout",
     "output_type": "stream",
     "text": [
      "Reverse the elements of a tuple: (5, 4, 3, 2, 1)\n"
     ]
    }
   ],
   "source": [
    "my_tuple = (1, 2, 3, 4, 5)\n",
    "print('Reverse the elements of a tuple:',my_tuple[::-1])"
   ]
  },
  {
   "cell_type": "markdown",
   "id": "955c254d-5ccf-4037-91da-0ad744635aad",
   "metadata": {},
   "source": [
    "45. Create a tuple of the first n powers of 2."
   ]
  },
  {
   "cell_type": "code",
   "execution_count": 17,
   "id": "184d8144-83ce-43ea-94ef-91993cf685bc",
   "metadata": {},
   "outputs": [
    {
     "name": "stdout",
     "output_type": "stream",
     "text": [
      "tuple of the first n powers of 2: (1, 2, 4, 8, 16)\n"
     ]
    }
   ],
   "source": [
    "n=5\n",
    "tupl=tuple(2**i for i in range(n))\n",
    "print('tuple of the first n powers of 2:',tupl)"
   ]
  },
  {
   "cell_type": "markdown",
   "id": "49308e52-e2a3-4466-8a35-54a5c9a144bf",
   "metadata": {},
   "source": [
    "46. Find the longest string in a tuple of strings."
   ]
  },
  {
   "cell_type": "code",
   "execution_count": 24,
   "id": "2726339d-956f-41fa-b4b2-4859140af9dc",
   "metadata": {},
   "outputs": [
    {
     "name": "stdout",
     "output_type": "stream",
     "text": [
      "the longest string in a tuple of strings: watermelon\n"
     ]
    }
   ],
   "source": [
    "my_st=(\"apple\", \"banana\", \"grape\", \"kiwi\", \"watermelon\")\n",
    "mx_str=max(my_st, key=len)\n",
    "print('the longest string in a tuple of strings:',mx_str)"
   ]
  },
  {
   "cell_type": "markdown",
   "id": "7c0789a3-782a-4946-9463-3d1fd87ec4d5",
   "metadata": {},
   "source": [
    "47. Find the shortest string in a tuple of strings."
   ]
  },
  {
   "cell_type": "code",
   "execution_count": 27,
   "id": "6a43fe39-4734-4608-9302-994abe979ec4",
   "metadata": {},
   "outputs": [
    {
     "name": "stdout",
     "output_type": "stream",
     "text": [
      "the longest string in a tuple of strings: kiwi\n"
     ]
    }
   ],
   "source": [
    "my_st=(\"apple\", \"banana\", \"grape\", \"kiwi\", \"watermelon\")\n",
    "mn_str=min(my_st, key=len)\n",
    "print('the longest string in a tuple of strings:',mn_str)"
   ]
  },
  {
   "cell_type": "markdown",
   "id": "f93802b8-df35-4627-9de1-8f15feef2f0b",
   "metadata": {},
   "source": [
    "48. Create a tuple of the first n triangular numbers"
   ]
  },
  {
   "cell_type": "code",
   "execution_count": 30,
   "id": "63a90fd5-fc5a-480b-b26f-df6b41ba53e0",
   "metadata": {},
   "outputs": [
    {
     "name": "stdout",
     "output_type": "stream",
     "text": [
      "(1, 3, 6, 10, 15)\n"
     ]
    }
   ],
   "source": [
    "n=5\n",
    "trian_numbers_tuple = tuple((i * (i + 1)) // 2 for i in range(1, n + 1))\n",
    "print(trian_numbers_tuple)"
   ]
  },
  {
   "cell_type": "markdown",
   "id": "b643acf8-e1c2-4706-92cc-78ed52eadf7b",
   "metadata": {},
   "source": [
    "Check if a tuple contains another tuple as a subsequence."
   ]
  },
  {
   "cell_type": "code",
   "execution_count": 33,
   "id": "a2034d4a-605f-48c8-b51d-3a0ef92e5ad0",
   "metadata": {},
   "outputs": [
    {
     "name": "stdout",
     "output_type": "stream",
     "text": [
      "Main tuple contains subsequence tuple: True\n"
     ]
    }
   ],
   "source": [
    "# Function to check if a tuple contains another tuple as a subsequence\n",
    "def contains_subsequence(main_tuple, sub_tuple):\n",
    "    sub_length = len(sub_tuple)\n",
    "    for i in range(len(main_tuple) - sub_length + 1):\n",
    "        if main_tuple[i:i+sub_length] == sub_tuple:\n",
    "            return True\n",
    "    return False\n",
    "\n",
    "# Main tuple\n",
    "main_tuple = (1, 2, 3, 4, 5, 6, 7, 8, 9)\n",
    "\n",
    "# Subsequence tuple\n",
    "sub_tuple = (3, 4, 5)\n",
    "\n",
    "# Check if the main tuple contains the subsequence tuple\n",
    "contains_subseq = contains_subsequence(main_tuple, sub_tuple)\n",
    "\n",
    "# Print the result\n",
    "print(\"Main tuple contains subsequence tuple:\", contains_subseq)"
   ]
  },
  {
   "cell_type": "markdown",
   "id": "beaf763e-21f9-4b1f-b24b-8fc59cd65d05",
   "metadata": {},
   "source": [
    "50. Create a tuple of alternating 1s and 0s of length n."
   ]
  },
  {
   "cell_type": "code",
   "execution_count": 36,
   "id": "bae02347-b068-4bb7-a49c-e0aab09b28fa",
   "metadata": {},
   "outputs": [
    {
     "name": "stdout",
     "output_type": "stream",
     "text": [
      "Tuple of alternating 1s and 0s: (0, 1, 0, 1, 0, 1, 0, 1, 0, 1)\n"
     ]
    }
   ],
   "source": [
    "# Define the value of n\n",
    "n = 10\n",
    "\n",
    "# Create a tuple of alternating 1s and 0s using a list comprehension\n",
    "alternating_tuple = tuple(i % 2 for i in range(n))\n",
    "\n",
    "# Print the tuple of alternating 1s and 0s\n",
    "print(\"Tuple of alternating 1s and 0s:\", alternating_tuple)"
   ]
  },
  {
   "cell_type": "markdown",
   "id": "af738e03-098e-4c03-9375-a4a4ded0f730",
   "metadata": {},
   "source": [
    "Set Based Practice Problem :"
   ]
  },
  {
   "cell_type": "markdown",
   "id": "6c25c2ca-3a18-47bb-93c0-0f01619d1cfb",
   "metadata": {},
   "source": [
    "1. Create a set with integers from 1 to 5.\n"
   ]
  },
  {
   "cell_type": "code",
   "execution_count": 52,
   "id": "1e87f08f-e8ff-48d8-aeb8-e374cb07cc93",
   "metadata": {},
   "outputs": [
    {
     "name": "stdout",
     "output_type": "stream",
     "text": [
      "A set with integers from 1 to 5: {1, 2, 3, 4, 5}\n"
     ]
    }
   ],
   "source": [
    "l=set(range(1,6))\n",
    "print('A set with integers from 1 to 5:',l)"
   ]
  },
  {
   "cell_type": "markdown",
   "id": "b61ef34d-9b4d-4289-b0c4-fc81ee6538fa",
   "metadata": {},
   "source": [
    "2. Add an element to a set."
   ]
  },
  {
   "cell_type": "code",
   "execution_count": 63,
   "id": "dc735385-dcff-4df1-9afc-5b20385304e3",
   "metadata": {},
   "outputs": [
    {
     "name": "stdout",
     "output_type": "stream",
     "text": [
      "{1, 2, 4, 5, 6, 7}\n"
     ]
    }
   ],
   "source": [
    "my_set={4,5,6,7}\n",
    "my_set.add(1)\n",
    "my_set.add(2)\n",
    "print(my_set)"
   ]
  },
  {
   "cell_type": "markdown",
   "id": "9c3d1784-1b35-4e03-b0cf-7d7f3dde6d4e",
   "metadata": {},
   "source": [
    "3. Remove an element from a set.\n"
   ]
  },
  {
   "cell_type": "code",
   "execution_count": 68,
   "id": "ec85023d-0c00-44de-853f-dbe59a8abf34",
   "metadata": {},
   "outputs": [
    {
     "name": "stdout",
     "output_type": "stream",
     "text": [
      "{5, 6, 7}\n"
     ]
    }
   ],
   "source": [
    "my_set={4,5,6,7}\n",
    "my_set.remove(4)\n",
    "print(my_set)"
   ]
  },
  {
   "cell_type": "markdown",
   "id": "1b667453-e71b-41ec-89df-b99ff90e6601",
   "metadata": {},
   "source": [
    "4. Check if an element exists in a set."
   ]
  },
  {
   "cell_type": "code",
   "execution_count": 75,
   "id": "a36b7cd9-1e61-4146-a0f2-4770a3499212",
   "metadata": {},
   "outputs": [
    {
     "name": "stdin",
     "output_type": "stream",
     "text": [
      "enter the input value: 10\n"
     ]
    },
    {
     "name": "stdout",
     "output_type": "stream",
     "text": [
      "the element not exists in set: 10\n"
     ]
    }
   ],
   "source": [
    "my_set={4,5,6,7}\n",
    "check_el=int(input('enter the input value:'))\n",
    "if check_el in my_set:\n",
    "    print('the element exists in set:',check_el)\n",
    "else:\n",
    "    print('the element not exists in set:', check_el)"
   ]
  },
  {
   "cell_type": "markdown",
   "id": "0de96041-a471-4f68-bf66-1182f308c824",
   "metadata": {},
   "source": [
    "5. Find the length of a set without using the `len()` function."
   ]
  },
  {
   "cell_type": "code",
   "execution_count": 78,
   "id": "f36539b9-7863-4237-89aa-8f5fd9cf525d",
   "metadata": {},
   "outputs": [
    {
     "name": "stdout",
     "output_type": "stream",
     "text": [
      "The length of a set: 5\n"
     ]
    }
   ],
   "source": [
    "my_set={1,2,3,4,5}\n",
    "cnt=0\n",
    "for i in my_set:\n",
    "    cnt+=1\n",
    "print('The length of a set:', cnt)"
   ]
  },
  {
   "cell_type": "markdown",
   "id": "08bf6df0-8c83-4c2e-9f5c-629095cd5b3d",
   "metadata": {},
   "source": [
    "6. Clear all elements from a set.\n"
   ]
  },
  {
   "cell_type": "code",
   "execution_count": 81,
   "id": "4b9e1876-5320-4dae-b03b-259a983078c4",
   "metadata": {},
   "outputs": [
    {
     "name": "stdout",
     "output_type": "stream",
     "text": [
      "set()\n"
     ]
    }
   ],
   "source": [
    "my_set={1,2,3,4,5}\n",
    "my_set.clear()\n",
    "print(my_set)"
   ]
  },
  {
   "cell_type": "markdown",
   "id": "f6d0db27-a56d-4c43-836c-47aefcc33e50",
   "metadata": {},
   "source": [
    "7. Create a set of even numbers from 1 to 10."
   ]
  },
  {
   "cell_type": "code",
   "execution_count": 86,
   "id": "1bf08eb8-ae5a-4695-97f3-4a9dfa8162cb",
   "metadata": {},
   "outputs": [
    {
     "name": "stdout",
     "output_type": "stream",
     "text": [
      "set of even numbers from 1 to 10: {2, 4, 6, 8, 10}\n"
     ]
    }
   ],
   "source": [
    "my_set=set(range(1,11))\n",
    "even=set([i for i in range(1,11) if i%2==0])\n",
    "print('set of even numbers from 1 to 10:', even)"
   ]
  },
  {
   "cell_type": "code",
   "execution_count": 88,
   "id": "242a6d5c-63a1-4c10-ab61-284ddd3e50c2",
   "metadata": {},
   "outputs": [
    {
     "name": "stdout",
     "output_type": "stream",
     "text": [
      "{2, 4, 6, 8, 10}\n"
     ]
    }
   ],
   "source": [
    "# Step 1: Initialize an empty set\n",
    "even_numbers_set = set()\n",
    "\n",
    "# Step 2: Iterate through numbers from 1 to 10\n",
    "for num in range(1, 11):\n",
    "    # Step 3: Check if the number is even\n",
    "    if num % 2 == 0:\n",
    "        # Step 4: Add the even number to the set\n",
    "        even_numbers_set.add(num)\n",
    "\n",
    "# Step 5: Print the set of even numbers\n",
    "print(even_numbers_set)"
   ]
  },
  {
   "cell_type": "markdown",
   "id": "f63506e7-7fc7-4c8d-8231-6a93635ec816",
   "metadata": {},
   "source": [
    "8. Create a set of odd numbers from 1 to 10"
   ]
  },
  {
   "cell_type": "code",
   "execution_count": 93,
   "id": "95e71959-b619-4f9b-806e-766acf3d9ac4",
   "metadata": {},
   "outputs": [
    {
     "name": "stdout",
     "output_type": "stream",
     "text": [
      "set of odd numbers from 1 to 10: {1, 3, 5, 7, 9}\n"
     ]
    }
   ],
   "source": [
    "my_set=set(range(1,11))\n",
    "odd=set([i for i in range(1,11) if i%2!=0])\n",
    "print('set of odd numbers from 1 to 10:', odd)"
   ]
  },
  {
   "cell_type": "markdown",
   "id": "96468211-cb83-49b6-8c24-269fb10c4302",
   "metadata": {},
   "source": [
    "9. Find the union of two sets.\n"
   ]
  },
  {
   "cell_type": "code",
   "execution_count": 98,
   "id": "72886163-7e07-4814-98ae-f9cc91444aad",
   "metadata": {},
   "outputs": [
    {
     "name": "stdout",
     "output_type": "stream",
     "text": [
      "{1, 2, 3, 4, 5, 6, 7, 8, 9, 10}\n"
     ]
    }
   ],
   "source": [
    "set1={1, 3, 5, 7, 9}\n",
    "set2={2, 4, 6, 8, 10}\n",
    "set3=set1.union(set2)\n",
    "print(set3)"
   ]
  },
  {
   "cell_type": "markdown",
   "id": "dce2a552-a38b-40ed-8eaf-2990a513472e",
   "metadata": {},
   "source": [
    "10. Find the intersection of two sets.\n"
   ]
  },
  {
   "cell_type": "code",
   "execution_count": 101,
   "id": "6c632230-339c-4318-a24d-ff4f8faec034",
   "metadata": {},
   "outputs": [
    {
     "name": "stdout",
     "output_type": "stream",
     "text": [
      "{3, 5, 7}\n"
     ]
    }
   ],
   "source": [
    "set1={1, 3, 5, 7, 9}\n",
    "set2={2, 3, 5, 7, 10}\n",
    "set3=set1.intersection(set2)\n",
    "print(set3)"
   ]
  },
  {
   "cell_type": "markdown",
   "id": "b46ad239-af37-411f-872a-d566921cc9a1",
   "metadata": {},
   "source": [
    "11. Find the difference between two sets."
   ]
  },
  {
   "cell_type": "code",
   "execution_count": 107,
   "id": "09a7990c-bbfa-4e7a-9ec4-b45c55edcf8d",
   "metadata": {},
   "outputs": [
    {
     "name": "stdout",
     "output_type": "stream",
     "text": [
      " the difference between two sets: {2, 10}\n"
     ]
    }
   ],
   "source": [
    "set1={1, 3, 5, 7, 9}\n",
    "set2={2, 3, 5, 7, 10}\n",
    "set3=set2.difference(set1)\n",
    "print(' the difference between two sets:',set3)"
   ]
  },
  {
   "cell_type": "markdown",
   "id": "9f52b7f6-b1b3-4bee-aafb-094b17845712",
   "metadata": {},
   "source": [
    "12. Check if a set is a subset of another set."
   ]
  },
  {
   "cell_type": "code",
   "execution_count": 110,
   "id": "19e03222-f34d-430f-98e1-f64c727c1503",
   "metadata": {},
   "outputs": [
    {
     "name": "stdout",
     "output_type": "stream",
     "text": [
      "a set is a subset of another set: False\n"
     ]
    }
   ],
   "source": [
    "set1={1, 3, 5, 7, 9}\n",
    "set2={3, 5, 7}\n",
    "set3=set1.issubset(set2)\n",
    "print('a set is a subset of another set:',set3)"
   ]
  },
  {
   "cell_type": "markdown",
   "id": "02e8e469-e168-4bb6-91f8-4cb3fb9abdcc",
   "metadata": {},
   "source": [
    "13. Check if a set is a superset of another set."
   ]
  },
  {
   "cell_type": "code",
   "execution_count": 6,
   "id": "2b1950c5-6206-4150-b566-7df542c2754b",
   "metadata": {},
   "outputs": [
    {
     "name": "stdout",
     "output_type": "stream",
     "text": [
      "A set is superset of another set: True\n"
     ]
    }
   ],
   "source": [
    "set1={1, 3, 5, 7, 9}\n",
    "set2={3, 5, 7}\n",
    "set3=set1.issuperset(set2)\n",
    "print('A set is superset of another set:',set3)\n"
   ]
  },
  {
   "cell_type": "markdown",
   "id": "97518956-2342-4d51-9c9b-19fffb39f05a",
   "metadata": {},
   "source": [
    "14. Create a set from a list.\n"
   ]
  },
  {
   "cell_type": "code",
   "execution_count": 9,
   "id": "5fbbf601-4d1f-4a5b-9162-40ff1d4a5516",
   "metadata": {},
   "outputs": [
    {
     "name": "stdout",
     "output_type": "stream",
     "text": [
      "{1, 2, 3, 4}\n"
     ]
    }
   ],
   "source": [
    "list=[1,2,3,4]\n",
    "s1=set(list)\n",
    "print(s1)"
   ]
  },
  {
   "cell_type": "markdown",
   "id": "9bff2c94-b793-4383-a7dd-8ccfd3341824",
   "metadata": {},
   "source": [
    "15. Convert a set to a list."
   ]
  },
  {
   "cell_type": "code",
   "execution_count": 1,
   "id": "a16c4b06-027c-4505-9874-c1b2b3fbf558",
   "metadata": {},
   "outputs": [
    {
     "name": "stdout",
     "output_type": "stream",
     "text": [
      "set to list: [1, 4, 5, 6]\n"
     ]
    }
   ],
   "source": [
    "s={1,4,5,6,4}\n",
    "l1=list(s)\n",
    "print('set to list:', l1)"
   ]
  },
  {
   "cell_type": "code",
   "execution_count": 3,
   "id": "57854f01-f15b-445a-b12f-a5a3f60ef62d",
   "metadata": {},
   "outputs": [
    {
     "name": "stdout",
     "output_type": "stream",
     "text": [
      "Original Set: {1, 2, 3, 4, 5, 6, 9}\n",
      "Converted List: [1, 2, 3, 4, 5, 6, 9]\n"
     ]
    }
   ],
   "source": [
    "# Step 1: Create a set with some elements\n",
    "my_set = {3, 1, 4, 1, 5, 9, 2, 6, 5}\n",
    "\n",
    "# Step 2: Convert the set to a list using the list() function\n",
    "my_list = list(my_set)\n",
    "\n",
    "# Now, my_list contains the elements from my_set in list format\n",
    "\n",
    "# Step 3: Print the original set and the converted list\n",
    "print(\"Original Set:\", my_set)\n",
    "print(\"Converted List:\", my_list)"
   ]
  },
  {
   "cell_type": "markdown",
   "id": "35ad3a37-e33c-4210-ace0-8541bbfa7e87",
   "metadata": {},
   "source": [
    "16. Remove a random element from a set.\n"
   ]
  },
  {
   "cell_type": "code",
   "execution_count": 35,
   "id": "3196dd59-ce4c-45f0-b934-b41399bf3ca5",
   "metadata": {},
   "outputs": [
    {
     "name": "stdout",
     "output_type": "stream",
     "text": [
      "final set after removing 1 : {2, 4, 5}\n"
     ]
    }
   ],
   "source": [
    "import random\n",
    "set={1,2,4,5}\n",
    "random_ele=random.choice(list(set))\n",
    "set.remove(random_ele)\n",
    "print('final set after removing',random_ele,':',set)"
   ]
  },
  {
   "cell_type": "code",
   "execution_count": 33,
   "id": "33642605-79c3-459d-b532-fe336b3e227f",
   "metadata": {},
   "outputs": [
    {
     "name": "stdout",
     "output_type": "stream",
     "text": [
      "Original set: {1, 2, 3, 4, 5}\n",
      "Updated set after removing 3 : {1, 2, 4, 5}\n"
     ]
    }
   ],
   "source": [
    "import random  # Import the random module\n",
    "\n",
    "# Create a set with some elements\n",
    "my_set = {1, 2, 3, 4, 5}\n",
    "\n",
    "# Display the original set\n",
    "print(\"Original set:\", my_set)\n",
    "\n",
    "# Choose a random element from the set using the random.choice() function\n",
    "random_element = random.choice(list(my_set))\n",
    "\n",
    "# Remove the chosen random element from the set using the remove() method\n",
    "my_set.remove(random_element)\n",
    "\n",
    "# Display the updated set after removing the random element\n",
    "print(\"Updated set after removing\", random_element, \":\", my_set)"
   ]
  },
  {
   "cell_type": "markdown",
   "id": "b48b9c33-805a-4cd9-9ba2-20c80c5ff7b0",
   "metadata": {},
   "source": [
    "17. Pop an element from a set."
   ]
  },
  {
   "cell_type": "code",
   "execution_count": 40,
   "id": "610241a9-6487-4820-b4f1-57f6e12a510e",
   "metadata": {},
   "outputs": [
    {
     "name": "stdout",
     "output_type": "stream",
     "text": [
      "Pop an element: {2, 3, 34, 45}\n"
     ]
    }
   ],
   "source": [
    "set= {1,2,3,45,34}\n",
    "set.pop()\n",
    "print('Pop an element:',set)"
   ]
  },
  {
   "cell_type": "markdown",
   "id": "cc56e0e5-bafc-4cc0-82eb-5cc2efc777b3",
   "metadata": {},
   "source": [
    "18. Check if two sets have no elements in common.\n"
   ]
  },
  {
   "cell_type": "code",
   "execution_count": 45,
   "id": "31484902-5517-4153-8471-c1425e27d488",
   "metadata": {},
   "outputs": [
    {
     "name": "stdout",
     "output_type": "stream",
     "text": [
      "two sets have no elements in common: {4}\n"
     ]
    }
   ],
   "source": [
    "set1 = {1, 2, 3, 4}\n",
    "set2 = {5, 4, 7, 8}\n",
    "set3= set1.intersection(set2)\n",
    "print('two sets have no elements in common:',set3)"
   ]
  },
  {
   "cell_type": "markdown",
   "id": "daff7119-c3a5-4fb1-84c2-491e30b0377d",
   "metadata": {},
   "source": [
    "19. Find the symmetric difference between two sets."
   ]
  },
  {
   "cell_type": "code",
   "execution_count": 48,
   "id": "2aa2ae82-e916-4bd1-a66a-5e774bd1d8e6",
   "metadata": {},
   "outputs": [
    {
     "name": "stdout",
     "output_type": "stream",
     "text": [
      "the symmetric difference between two sets: {1, 2, 3, 5, 7, 8}\n"
     ]
    }
   ],
   "source": [
    "set1 = {1, 2, 3, 4}\n",
    "set2 = {5, 4, 7, 8}\n",
    "set3=set1^set2\n",
    "print('the symmetric difference between two sets:',set3)"
   ]
  },
  {
   "cell_type": "markdown",
   "id": "38bd09a8-3bce-47ca-8487-af45ba4162ad",
   "metadata": {},
   "source": [
    "20. Update a set with elements from another set."
   ]
  },
  {
   "cell_type": "code",
   "execution_count": 55,
   "id": "79b2e6ee-1e66-4767-94aa-afa578b0c236",
   "metadata": {},
   "outputs": [
    {
     "name": "stdout",
     "output_type": "stream",
     "text": [
      "{1, 2, 3, 4, 7, 8, 9}\n"
     ]
    }
   ],
   "source": [
    "set1 = {1, 2, 3, 4}\n",
    "set2={4,7,8,9}\n",
    "set2.update(set1)\n",
    "print(set2)"
   ]
  },
  {
   "cell_type": "markdown",
   "id": "fb01d63b-31a6-4250-8a9f-052d6c0347c3",
   "metadata": {},
   "source": [
    "21. Create a set of the first 5 prime numbers.\n"
   ]
  },
  {
   "cell_type": "code",
   "execution_count": 57,
   "id": "90ea7f97-7ed3-43b1-9c65-d6e73b026be9",
   "metadata": {},
   "outputs": [
    {
     "name": "stdout",
     "output_type": "stream",
     "text": [
      "[2, 3, 5, 7, 11, 13, 17, 19, 23, 29]\n"
     ]
    }
   ],
   "source": [
    "primes = list(filter(lambda x: x > 1 and all(x % i for i in range(2, int(x**0.5) + 1)), range(2, 31)))\n",
    "print(primes)"
   ]
  },
  {
   "cell_type": "markdown",
   "id": "dd4c013e-0801-4f6d-878b-af182dd06e3c",
   "metadata": {},
   "source": [
    "22. Check if two sets are identical.\n"
   ]
  },
  {
   "cell_type": "code",
   "execution_count": 63,
   "id": "ef8299a1-9cd2-4384-bcf0-f18f42d756c6",
   "metadata": {},
   "outputs": [
    {
     "name": "stdout",
     "output_type": "stream",
     "text": [
      "both sets are identical\n"
     ]
    }
   ],
   "source": [
    "set1 = {1, 2, 3, 4}\n",
    "set2={1, 2, 3, 4}\n",
    "if set1==set2:\n",
    "    print('both sets are identical')\n",
    "else:\n",
    "    print('both sets are not identical')"
   ]
  },
  {
   "cell_type": "markdown",
   "id": "592fa223-fe29-4e25-9df5-086729d76594",
   "metadata": {},
   "source": [
    "23. Create a frozen set.\n"
   ]
  },
  {
   "cell_type": "code",
   "execution_count": 66,
   "id": "7d5dd359-fd0e-4d5c-909b-00392cd1e7f0",
   "metadata": {},
   "outputs": [
    {
     "name": "stdout",
     "output_type": "stream",
     "text": [
      "frozen set: frozenset({1, 2, 3, 4, 5})\n"
     ]
    }
   ],
   "source": [
    "elements=[1,2,3,4,5]\n",
    "my_frozen=frozenset(elements)\n",
    "print('frozen set:',my_frozen)"
   ]
  },
  {
   "cell_type": "markdown",
   "id": "377fc192-3a2d-45c6-b829-d230c37b25dc",
   "metadata": {},
   "source": [
    "24. Check if a set is disjoint with another set.\n"
   ]
  },
  {
   "cell_type": "code",
   "execution_count": 71,
   "id": "75067b36-0326-4a93-adba-e47093e3ba9f",
   "metadata": {},
   "outputs": [
    {
     "name": "stdout",
     "output_type": "stream",
     "text": [
      "A set is disjoint with another set: True\n"
     ]
    }
   ],
   "source": [
    "set1 = {1, 2, 3, 4}\n",
    "set2={5, 6, 7, 8}\n",
    "set3=set1.isdisjoint(set2)\n",
    "print('A set is disjoint with another set:',set3)"
   ]
  },
  {
   "cell_type": "markdown",
   "id": "347edb43-9251-4c54-8029-462d089ed14b",
   "metadata": {},
   "source": [
    "25. Create a set of squares of numbers from 1 to 5.\n"
   ]
  },
  {
   "cell_type": "code",
   "execution_count": 82,
   "id": "3ce5ed63-e0c0-4058-a1fb-687a667d913c",
   "metadata": {},
   "outputs": [
    {
     "name": "stdout",
     "output_type": "stream",
     "text": [
      "set of squares of numbers from 1 to 5: {16, 1, 4, 9}\n"
     ]
    }
   ],
   "source": [
    "set1 = {1, 2, 3, 4}\n",
    "set2={set**2 for set in set1}\n",
    "print('set of squares of numbers from 1 to 5:',set2)"
   ]
  },
  {
   "cell_type": "code",
   "execution_count": 1,
   "id": "c3c74678-3334-4a90-94aa-95ccf975a4fa",
   "metadata": {},
   "outputs": [
    {
     "name": "stdout",
     "output_type": "stream",
     "text": [
      "{1, 4, 9, 16, 25}\n"
     ]
    }
   ],
   "source": [
    "sq_set=set()\n",
    "for i in range(1,6):\n",
    "    squre=i**2\n",
    "    sq_set.add(squre)\n",
    "print(sq_set)"
   ]
  },
  {
   "cell_type": "markdown",
   "id": "b4fb7057-0e6e-43dc-9dd4-4f1f937bb64a",
   "metadata": {},
   "source": [
    "26. Filter out all even numbers from a set."
   ]
  },
  {
   "cell_type": "code",
   "execution_count": 8,
   "id": "e6aeb54f-1b40-40c1-ab8f-be93e269ff2b",
   "metadata": {},
   "outputs": [
    {
     "name": "stdout",
     "output_type": "stream",
     "text": [
      "All even numbers from a set. {2, 4, 6, 8, 10}\n"
     ]
    }
   ],
   "source": [
    "set={2,3,4,5,6,7,8,10}\n",
    "set_even={ i for i in set if i%2==0}\n",
    "print('All even numbers from a set.',set_even)\n"
   ]
  },
  {
   "cell_type": "markdown",
   "id": "28a2f5c9-da58-40f2-8ac2-33e07dafd5be",
   "metadata": {},
   "source": [
    "27. Multiply all elements in a set by 2.\n"
   ]
  },
  {
   "cell_type": "code",
   "execution_count": 1,
   "id": "b7e3b579-6ac1-4b3e-b4ba-313124150549",
   "metadata": {},
   "outputs": [
    {
     "name": "stdout",
     "output_type": "stream",
     "text": [
      "Multiply all elements in a set {8, 2, 4, 6}\n"
     ]
    }
   ],
   "source": [
    "set1 = {1, 2, 3, 4}\n",
    "multi_ele=set()\n",
    "for i in set1:\n",
    "    set1=i*2\n",
    "    multi_ele.add(set1)\n",
    "print('Multiply all elements in a set',multi_ele)"
   ]
  },
  {
   "cell_type": "markdown",
   "id": "09a3dfb0-c14e-4693-a1c0-633c5a98b5a2",
   "metadata": {},
   "source": [
    "28. Create a set of random numbers."
   ]
  },
  {
   "cell_type": "code",
   "execution_count": 8,
   "id": "e26f9b10-91fa-4855-9cd6-a97a2c29bff4",
   "metadata": {},
   "outputs": [
    {
     "name": "stdout",
     "output_type": "stream",
     "text": [
      "set of random numbers: {64, 72, 77, 20, 23}\n"
     ]
    }
   ],
   "source": [
    "import random\n",
    "s1=set()\n",
    "num_rand=5\n",
    "for i in range(num_rand):\n",
    "    rm=random.randint(1,100)\n",
    "    s1.add(rm)\n",
    "print('set of random numbers:',s1)\n",
    "    "
   ]
  },
  {
   "cell_type": "markdown",
   "id": "fead871a-51bb-402b-afea-1052009ef25e",
   "metadata": {},
   "source": [
    "29. Check if a set is empty."
   ]
  },
  {
   "cell_type": "code",
   "execution_count": 13,
   "id": "4f3bf6fb-79f6-46cd-b144-75a5593218ae",
   "metadata": {},
   "outputs": [
    {
     "name": "stdout",
     "output_type": "stream",
     "text": [
      "not empty\n"
     ]
    }
   ],
   "source": [
    "s1={1,2,3,5}\n",
    "if len(s1)==0:\n",
    "    print('empty')\n",
    "else:\n",
    "    print('not empty')"
   ]
  },
  {
   "cell_type": "markdown",
   "id": "65d5e7c5-49d8-41ae-bc97-4403d175ddcd",
   "metadata": {},
   "source": [
    "30. Create a nested set (hint: use frozenset)."
   ]
  },
  {
   "cell_type": "code",
   "execution_count": 16,
   "id": "b2828d25-c58c-44d8-ba47-3e1e44a7d605",
   "metadata": {},
   "outputs": [
    {
     "name": "stdout",
     "output_type": "stream",
     "text": [
      "nested set frozenset({1, 2, 3, 5})\n"
     ]
    }
   ],
   "source": [
    "s1={1,2,3,5}\n",
    "s2=frozenset(s1)\n",
    "print('nested set',s2)"
   ]
  },
  {
   "cell_type": "code",
   "execution_count": 26,
   "id": "4ddf623c-ffb2-44d3-bd62-bb345ab2c2c3",
   "metadata": {},
   "outputs": [
    {
     "name": "stdout",
     "output_type": "stream",
     "text": [
      "Nested Set: {frozenset({1, 2, 3, 4, 5}), frozenset({6, 7, 8, 9, 10})}\n"
     ]
    }
   ],
   "source": [
    "# Step 1: Create the inner sets\n",
    "set1 = {1, 2, 3, 4, 5}\n",
    "set2 = {6, 7, 8, 9, 10}\n",
    "\n",
    "# Step 2: Create frozensets from the inner sets\n",
    "frozen_set1 = frozenset(set1)\n",
    "frozen_set2 = frozenset(set2)\n",
    "\n",
    "# Step 3: Create the nested set using the frozensets\n",
    "nested_set = {frozen_set1, frozen_set2}\n",
    "\n",
    "# Print the nested set\n",
    "print(\"Nested Set:\", nested_set)"
   ]
  },
  {
   "cell_type": "markdown",
   "id": "73c72278-c7cf-4757-b4cf-837c80792195",
   "metadata": {},
   "source": [
    "31. Remove an element from a set using the discard method."
   ]
  },
  {
   "cell_type": "code",
   "execution_count": 21,
   "id": "ac21cf7a-afd7-44c9-be61-eddfb7e45d7f",
   "metadata": {},
   "outputs": [
    {
     "name": "stdout",
     "output_type": "stream",
     "text": [
      "Remove an element from a set using the discard method: {1, 2, 5}\n"
     ]
    }
   ],
   "source": [
    "s1={1,2,3,5}\n",
    "s1.discard(3)\n",
    "print('Remove an element from a set using the discard method:',s1)"
   ]
  },
  {
   "cell_type": "markdown",
   "id": "e9d0c8c7-8443-4575-84fb-ec3d0ecdaec7",
   "metadata": {},
   "source": [
    "32. Compare two sets.\n"
   ]
  },
  {
   "cell_type": "code",
   "execution_count": 24,
   "id": "56977dce-d5ee-4ed4-b146-5095082cd9f3",
   "metadata": {},
   "outputs": [
    {
     "name": "stdout",
     "output_type": "stream",
     "text": [
      "not matching\n"
     ]
    }
   ],
   "source": [
    "s1={1,2,3,5}\n",
    "s2={2,4,3,5}\n",
    "if s1==s2:\n",
    "    print('matching elements.')\n",
    "else:\n",
    "    print('not matching')"
   ]
  },
  {
   "cell_type": "code",
   "execution_count": 28,
   "id": "6832014e-da84-4a73-8119-136adf60517f",
   "metadata": {},
   "outputs": [
    {
     "name": "stdout",
     "output_type": "stream",
     "text": [
      "issubset False\n",
      "issuperset False\n",
      "isinter {2, 3, 5}\n",
      "isdiff {1}\n"
     ]
    }
   ],
   "source": [
    "s1={1,2,3,5}\n",
    "s2={2,4,3,5}\n",
    "\n",
    "issubset=s1.issubset(s2)\n",
    "issuperset=s1.issuperset(s2)\n",
    "isinter=s1.intersection(s2)\n",
    "isdiff=s1.difference(s2)\n",
    "print('issubset',issubset)\n",
    "print('issuperset',issuperset)\n",
    "print('isinter',isinter)\n",
    "print('isdiff',isdiff)"
   ]
  },
  {
   "cell_type": "markdown",
   "id": "56ce5fcd-fab2-421c-9f69-ad6d2ed39e4d",
   "metadata": {},
   "source": [
    "33. Create a set from a string.\n"
   ]
  },
  {
   "cell_type": "code",
   "execution_count": 31,
   "id": "8e9cf1d8-ee06-48f9-8df2-8352f734fd41",
   "metadata": {},
   "outputs": [
    {
     "name": "stdout",
     "output_type": "stream",
     "text": [
      "{'a', 'c', 'd', 'e', 'r', 'f', 's'}\n"
     ]
    }
   ],
   "source": [
    "str='sacrrdferd'\n",
    "str_set=set(str)\n",
    "print(str_set)"
   ]
  },
  {
   "cell_type": "markdown",
   "id": "5d5599fb-b526-43f3-93f2-c72113d86919",
   "metadata": {},
   "source": [
    "34. Convert a set of strings to a set of integers."
   ]
  },
  {
   "cell_type": "code",
   "execution_count": 7,
   "id": "765329ce-5907-47bb-ba89-a6ecea00aa49",
   "metadata": {},
   "outputs": [
    {
     "name": "stdout",
     "output_type": "stream",
     "text": [
      "{890, 123, 567}\n",
      "{'567', '890', '123'}\n"
     ]
    }
   ],
   "source": [
    "set1={'123','567','890'}\n",
    "int_str=set()\n",
    "for i in set1:\n",
    "    in_str=int(i)\n",
    "    int_str.add(in_str)\n",
    "print(int_str)\n",
    "print(set1)"
   ]
  },
  {
   "cell_type": "code",
   "execution_count": 1,
   "id": "57baadbb-8973-49e4-a8c2-258ba44e6c44",
   "metadata": {},
   "outputs": [
    {
     "name": "stdout",
     "output_type": "stream",
     "text": [
      "Original String Set: {'456', '789', '123'}\n",
      "Converted Integer Set: {456, 123, 789}\n"
     ]
    }
   ],
   "source": [
    "# Step 1: Create a set of strings\n",
    "string_set = {\"123\", \"456\", \"789\"}\n",
    "\n",
    "# Step 2: Initialize an empty set to store integers\n",
    "integer_set = set()\n",
    "\n",
    "# Step 3: Iterate through each string in the string set\n",
    "for string in string_set:\n",
    "    # Step 4: Convert the string to an integer using the int() function\n",
    "    integer_value = int(string)\n",
    "\n",
    "    # Step 5: Add the integer to the integer set\n",
    "    integer_set.add(integer_value)\n",
    "\n",
    "# Step 6: Print the original string set and the converted integer set\n",
    "print(\"Original String Set:\", string_set)\n",
    "print(\"Converted Integer Set:\", integer_set)"
   ]
  },
  {
   "cell_type": "markdown",
   "id": "5f480ba6-a68b-4e59-a974-3bcb7f79643b",
   "metadata": {},
   "source": [
    "35. Convert a set of integers to a set of strings.\n"
   ]
  },
  {
   "cell_type": "code",
   "execution_count": 14,
   "id": "99ac35a7-4854-400e-a6b8-15e2a5035cbd",
   "metadata": {},
   "outputs": [
    {
     "name": "stdout",
     "output_type": "stream",
     "text": [
      "set of integers: {123, 67, 45, 87}\n",
      "set of strings: {'45', '87', '67', '123'}\n"
     ]
    }
   ],
   "source": [
    "s1={123,45,67,87}\n",
    "str_set=set()\n",
    "for i in s1:\n",
    "    s2=str(i)\n",
    "    str_set.add(s2)\n",
    "print('set of integers:',s1)\n",
    "print('set of strings:',str_set)\n"
   ]
  },
  {
   "cell_type": "markdown",
   "id": "40a25dd3-49d1-455a-ad07-a9c965ecb0b7",
   "metadata": {},
   "source": [
    "36. Create a set from a tuple."
   ]
  },
  {
   "cell_type": "code",
   "execution_count": 19,
   "id": "2fd28385-52e1-4ced-96c6-a0d8e03e5897",
   "metadata": {},
   "outputs": [
    {
     "name": "stdout",
     "output_type": "stream",
     "text": [
      "A set from a tuple: {897, 34, 4, 567, 123}\n"
     ]
    }
   ],
   "source": [
    "tuple=(123,4,567,897,34)\n",
    "s1=set(tuple)\n",
    "print('A set from a tuple:',s1)"
   ]
  },
  {
   "cell_type": "markdown",
   "id": "6357943a-dcbb-4ac8-a2d0-7fad3e1aa9de",
   "metadata": {},
   "source": [
    "37. Convert a set to a tuple."
   ]
  },
  {
   "cell_type": "code",
   "execution_count": 1,
   "id": "c9749c6c-fb7d-4e50-afe9-7be9cb967ff4",
   "metadata": {},
   "outputs": [
    {
     "name": "stdout",
     "output_type": "stream",
     "text": [
      "A set to tuple: (897, 34, 4, 567, 123)\n"
     ]
    }
   ],
   "source": [
    "s1={897, 34, 4, 567, 123}\n",
    "tup=tuple(s1)\n",
    "print('A set to tuple:',tup)"
   ]
  },
  {
   "cell_type": "markdown",
   "id": "66f3bc78-3483-4f75-8829-c19378d1511a",
   "metadata": {},
   "source": [
    "38. Find the maximum value in a set."
   ]
  },
  {
   "cell_type": "code",
   "execution_count": 4,
   "id": "d5f4aa17-2085-44c7-bf21-f1b65e925846",
   "metadata": {},
   "outputs": [
    {
     "name": "stdout",
     "output_type": "stream",
     "text": [
      "897\n"
     ]
    }
   ],
   "source": [
    "s1={897, 34, 4, 567, 123}\n",
    "print(max(s1))\n"
   ]
  },
  {
   "cell_type": "markdown",
   "id": "36b5c94c-98d7-4df9-a78e-1d429018dea8",
   "metadata": {},
   "source": [
    "39. Find the minimum value in a set."
   ]
  },
  {
   "cell_type": "code",
   "execution_count": 7,
   "id": "2212cf58-9dc1-427d-9b2d-bb97c0191a7d",
   "metadata": {},
   "outputs": [
    {
     "name": "stdout",
     "output_type": "stream",
     "text": [
      "4\n"
     ]
    }
   ],
   "source": [
    "s1={897, 34, 4, 567, 123}\n",
    "print(min(s1))"
   ]
  },
  {
   "cell_type": "markdown",
   "id": "4b7021d5-d269-4dc8-a3c0-a446916638f8",
   "metadata": {},
   "source": [
    "40. Create a set from user input.\n"
   ]
  },
  {
   "cell_type": "code",
   "execution_count": 1,
   "id": "dc9c723b-47a5-41f0-851f-30cfc9cd479d",
   "metadata": {},
   "outputs": [
    {
     "name": "stdin",
     "output_type": "stream",
     "text": [
      "enter the value: this is my python ass\n"
     ]
    },
    {
     "name": "stdout",
     "output_type": "stream",
     "text": [
      "A set from user input: {'s', 'm', 'o', 'p', ' ', 't', 'n', 'i', 'h', 'y', 'a'}\n"
     ]
    }
   ],
   "source": [
    "inpt=input('enter the value:')\n",
    "se1=set(inpt)\n",
    "print('A set from user input:',se1)\n",
    "\n",
    "\n"
   ]
  },
  {
   "cell_type": "markdown",
   "id": "8d5110c8-75a7-48f9-b008-56ede4820fdd",
   "metadata": {},
   "source": [
    "41. Check if the intersection of two sets is empty."
   ]
  },
  {
   "cell_type": "code",
   "execution_count": 8,
   "id": "7de911ab-1941-4b97-acce-3af7041e34cd",
   "metadata": {},
   "outputs": [
    {
     "name": "stdout",
     "output_type": "stream",
     "text": [
      "intersection of set is not empty {4, 5}\n"
     ]
    }
   ],
   "source": [
    "set1 = {1, 2, 3, 4, 5}\n",
    "set2 = {4, 5, 6, 7, 8}\n",
    "\n",
    "inter_set=set1.intersection(set2)\n",
    "if len(inter_set)==0:\n",
    "    print('intersection of set is empty', inter_set)\n",
    "else:\n",
    "    print('intersection of set is not empty', inter_set)"
   ]
  },
  {
   "cell_type": "markdown",
   "id": "d5aa9217-91a1-450a-a10e-8d44265efa06",
   "metadata": {},
   "source": [
    "42. Create a set of the first 5 Fibonacci numbers."
   ]
  },
  {
   "cell_type": "code",
   "execution_count": 25,
   "id": "f70a63a4-5103-493e-b1f9-bce6abe8637e",
   "metadata": {},
   "outputs": [
    {
     "name": "stdout",
     "output_type": "stream",
     "text": [
      "set of first 5 fibo series: {0, 1, 2, 3, 5}\n"
     ]
    }
   ],
   "source": [
    "fibo_set=set()\n",
    "a,b=0,1\n",
    "for i in range(6):\n",
    "    fibo_set.add(a)\n",
    "    a,b=b,a+b\n",
    "print('set of first 5 fibo series:',fibo_set)"
   ]
  },
  {
   "cell_type": "code",
   "execution_count": 11,
   "id": "c99355c8-fb27-4b37-a904-98bf393d57f7",
   "metadata": {},
   "outputs": [
    {
     "name": "stdout",
     "output_type": "stream",
     "text": [
      "Set of the first 5 Fibonacci numbers: {0, 1, 2, 3, 5}\n"
     ]
    }
   ],
   "source": [
    "# Create a set to store the first 5 Fibonacci numbers\n",
    "fibonacci_set = set()\n",
    "\n",
    "# Initialize the first two Fibonacci numbers\n",
    "a, b = 0, 1\n",
    "\n",
    "# Loop to generate the first 5 Fibonacci numbers\n",
    "for _ in range(6):\n",
    "    # Add the current Fibonacci number to the set\n",
    "    fibonacci_set.add(a)\n",
    "\n",
    "    # Calculate the next Fibonacci number\n",
    "    a, b = b, a + b\n",
    "\n",
    "# Print the set of Fibonacci numbers\n",
    "print(\"Set of the first 5 Fibonacci numbers:\", fibonacci_set)"
   ]
  },
  {
   "cell_type": "markdown",
   "id": "792c572f-c72f-4311-89e3-dba314df426e",
   "metadata": {},
   "source": [
    "43. Remove duplicates from a list using sets."
   ]
  },
  {
   "cell_type": "code",
   "execution_count": 33,
   "id": "c5b88fa8-7a9b-4447-8e8f-5f5c71712518",
   "metadata": {},
   "outputs": [
    {
     "name": "stdout",
     "output_type": "stream",
     "text": [
      "removed duplicates from list: [64, 33, 2, 3, 4, 5]\n"
     ]
    }
   ],
   "source": [
    "lst=[2,3,4,5,64,33,5,4,3]\n",
    "s1=list(set(lst))\n",
    "print('removed duplicates from list:',s1)"
   ]
  },
  {
   "cell_type": "markdown",
   "id": "ccbb5f40-c6a8-4dc5-a5a9-b290aee67acf",
   "metadata": {},
   "source": [
    "44. Check if two sets have the same elements, regardless of their count.\n"
   ]
  },
  {
   "cell_type": "code",
   "execution_count": 31,
   "id": "82a3f923-7132-4ecd-b3e8-a44b16055c83",
   "metadata": {},
   "outputs": [
    {
     "name": "stdout",
     "output_type": "stream",
     "text": [
      " two sets have the same elements: {3, 4}\n"
     ]
    }
   ],
   "source": [
    "set1={2,3,4,5,98}\n",
    "set2={3,4,97}\n",
    "common_ele=set1.intersection(set2)\n",
    "print(' two sets have the same elements:',common_ele)"
   ]
  },
  {
   "cell_type": "code",
   "execution_count": 39,
   "id": "d1c5a789-895a-4cd8-ab97-ef9153a4464a",
   "metadata": {},
   "outputs": [
    {
     "name": "stdout",
     "output_type": "stream",
     "text": [
      "two sets have same elements\n"
     ]
    }
   ],
   "source": [
    "set1={2,3,4,2,3}\n",
    "set2={3,4,2}\n",
    "sort_set1=sorted(list(set1))\n",
    "sort_set2=sorted(list(set2))\n",
    "if sort_set1==sort_set2:\n",
    "    print('two sets have same elements')\n",
    "else:\n",
    "    print('two sets not having same elements')"
   ]
  },
  {
   "cell_type": "markdown",
   "id": "9485d07a-75ab-4b87-bd94-982d324e02b5",
   "metadata": {},
   "source": [
    "45. Create a set of the first `n` powers of 2."
   ]
  },
  {
   "cell_type": "code",
   "execution_count": 54,
   "id": "c293c71c-44ee-453d-bf42-d0d28b0cac69",
   "metadata": {},
   "outputs": [
    {
     "name": "stdin",
     "output_type": "stream",
     "text": [
      "enter the value for n: 6\n"
     ]
    },
    {
     "name": "stdout",
     "output_type": "stream",
     "text": [
      "A set of first n powers of 2 {32, 1, 2, 4, 8, 16}\n"
     ]
    }
   ],
   "source": [
    "n=int(input('enter the value for n:'))\n",
    "power_set_n=set()\n",
    "for i in range(n):\n",
    "    power=2**i\n",
    "    power_set_n.add(power)\n",
    "print('A set of first n powers of 2',power_set_n)"
   ]
  },
  {
   "cell_type": "markdown",
   "id": "62bc4eb2-3c89-492d-877a-c030a5ecde55",
   "metadata": {},
   "source": [
    "46. Find the common elements between a set and a list."
   ]
  },
  {
   "cell_type": "code",
   "execution_count": 59,
   "id": "596a48c4-28c7-47d2-8d5e-2642674542b5",
   "metadata": {},
   "outputs": [
    {
     "name": "stdout",
     "output_type": "stream",
     "text": [
      "The common elements between a set and a list [4, 7]\n"
     ]
    }
   ],
   "source": [
    "set1={2,4,7,8}\n",
    "set2={3,4,7,9}\n",
    "set3=set1.intersection(set2)\n",
    "print('The common elements between a set and a list',list(set3))\n"
   ]
  },
  {
   "cell_type": "code",
   "execution_count": 62,
   "id": "7011c585-957a-4822-b76c-a559732ffd4d",
   "metadata": {},
   "outputs": [
    {
     "name": "stdout",
     "output_type": "stream",
     "text": [
      "Common elements: [7, 9, 12]\n"
     ]
    }
   ],
   "source": [
    "# Step 1: Define a set and a list\n",
    "my_set = {3, 7, 9, 12, 15}\n",
    "my_list = [7, 12, 5, 9]\n",
    "\n",
    "# Step 2: Convert the list to a set for efficient comparison\n",
    "list_to_set = set(my_list)\n",
    "\n",
    "# Step 3: Initialize an empty list to store common elements\n",
    "common_elements = []\n",
    "\n",
    "# Step 4: Iterate through the elements in the set\n",
    "for element in my_set:\n",
    "    # Step 5: Check if the element is present in the converted set (list_to_set)\n",
    "    if element in list_to_set:\n",
    "        # Step 6: If the element is present in both the set and the list, add it to the common_elements list\n",
    "        common_elements.append(element)\n",
    "\n",
    "# Step 7: Print the common elements\n",
    "print(\"Common elements:\", common_elements)"
   ]
  },
  {
   "cell_type": "markdown",
   "id": "13b59c23-1aff-433b-87a8-659efeb079ed",
   "metadata": {},
   "source": [
    "47. Create a set of the first `n` triangular numbers."
   ]
  },
  {
   "cell_type": "code",
   "execution_count": 68,
   "id": "4dbd904d-b26b-40d7-8275-c4d67fe82545",
   "metadata": {},
   "outputs": [
    {
     "name": "stdin",
     "output_type": "stream",
     "text": [
      "enter the value: 10\n"
     ]
    },
    {
     "name": "stdout",
     "output_type": "stream",
     "text": [
      "A first n traingular num: {1, 3, 36, 6, 10, 45, 15, 21, 55, 28}\n"
     ]
    }
   ],
   "source": [
    "n=int(input('enter the value:'))\n",
    "train_set=set()\n",
    "for i in range(1,n+1):\n",
    "    traing_set=i*(i+1)//2\n",
    "    train_set.add(traing_set)\n",
    "print('A first n traingular num:',train_set)\n",
    "    "
   ]
  },
  {
   "cell_type": "markdown",
   "id": "f645b34d-0545-424e-a655-f19fe8902db8",
   "metadata": {},
   "source": [
    "48. Check if a set contains another set as a subset.\n"
   ]
  },
  {
   "cell_type": "code",
   "execution_count": 73,
   "id": "fb050f40-6e97-460c-a88f-9da2724d805d",
   "metadata": {},
   "outputs": [
    {
     "name": "stdout",
     "output_type": "stream",
     "text": [
      "A set contains another set as a subset True\n"
     ]
    }
   ],
   "source": [
    "set1={2,4,7,8}\n",
    "set2={2,4}\n",
    "is_subset=set2.issubset(set1)\n",
    "print('A set contains another set as a subset', is_subset)\n"
   ]
  },
  {
   "cell_type": "markdown",
   "id": "5b487f8e-294f-4cec-81c2-3b42380bf525",
   "metadata": {},
   "source": [
    "49. Create a set of alternating 1s and 0s of length `n`.\n"
   ]
  },
  {
   "cell_type": "code",
   "execution_count": 92,
   "id": "7af09e90-5585-4557-a68a-a34ff8e6d838",
   "metadata": {},
   "outputs": [
    {
     "name": "stdin",
     "output_type": "stream",
     "text": [
      "enter the value: 10\n"
     ]
    },
    {
     "name": "stdout",
     "output_type": "stream",
     "text": [
      "alternating 1s and 0s of length: {0, 1}\n"
     ]
    }
   ],
   "source": [
    "alternate_set=set()\n",
    "n=int(input('enter the value:'))\n",
    "for i in range(n):\n",
    "    if i%2==0:\n",
    "        alternate_set.add(1)\n",
    "    else:\n",
    "        cnt+=0\n",
    "        alternate_set.add(0)\n",
    "print('alternating 1s and 0s of length:',alternate_set)"
   ]
  },
  {
   "cell_type": "markdown",
   "id": "192839fb-2f85-4658-8ed5-a6b16a21a0e6",
   "metadata": {},
   "source": [
    "50. Merge multiple sets into one"
   ]
  },
  {
   "cell_type": "code",
   "execution_count": 95,
   "id": "3b86ef6b-17a4-4427-92a1-772411392223",
   "metadata": {},
   "outputs": [
    {
     "name": "stdout",
     "output_type": "stream",
     "text": [
      "Merge multiple sets into one: {2, 4, 7, 8, 9}\n"
     ]
    }
   ],
   "source": [
    "set1={2,4,7,8}\n",
    "set2={2,8,9}\n",
    "set3={4,9,7,2}\n",
    "set4=set1.union(set2,set3)\n",
    "print('Merge multiple sets into one:',set4)"
   ]
  },
  {
   "cell_type": "code",
   "execution_count": 97,
   "id": "4975456e-da96-4b74-97ff-fa5188a5eda7",
   "metadata": {},
   "outputs": [
    {
     "name": "stdout",
     "output_type": "stream",
     "text": [
      "{2, 4, 7, 8, 9}\n"
     ]
    }
   ],
   "source": [
    "set1={2,4,7,8}\n",
    "set2={2,8,9}\n",
    "set3={4,9,7,2}\n",
    "set4=set1|set2|set3\n",
    "print(set4)"
   ]
  },
  {
   "cell_type": "code",
   "execution_count": null,
   "id": "5eb97bb2-b501-4af8-82ea-26e9a39576c8",
   "metadata": {},
   "outputs": [],
   "source": []
  }
 ],
 "metadata": {
  "kernelspec": {
   "display_name": "Python 3 (ipykernel)",
   "language": "python",
   "name": "python3"
  },
  "language_info": {
   "codemirror_mode": {
    "name": "ipython",
    "version": 3
   },
   "file_extension": ".py",
   "mimetype": "text/x-python",
   "name": "python",
   "nbconvert_exporter": "python",
   "pygments_lexer": "ipython3",
   "version": "3.12.4"
  }
 },
 "nbformat": 4,
 "nbformat_minor": 5
}
